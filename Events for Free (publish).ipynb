{
 "cells": [
  {
   "cell_type": "code",
   "execution_count": 1,
   "metadata": {},
   "outputs": [],
   "source": [
    "import warnings\n",
    "warnings.filterwarnings('ignore')\n",
    "\n",
    "from datetime import datetime, timedelta\n",
    "import pandas as pd\n",
    "import numpy as np\n",
    "import scipy.stats as st\n",
    "\n",
    "from google.cloud import bigquery\n",
    "bqclient = bigquery.Client()\n",
    "\n",
    "from matplotlib import pyplot as plt\n",
    "import seaborn as sns\n",
    "#import chartify\n"
   ]
  },
  {
   "cell_type": "code",
   "execution_count": 2,
   "metadata": {},
   "outputs": [],
   "source": [
    "def print_full(x):\n",
    "    pd.set_option('display.max_rows', len(x))\n",
    "    print(x)\n",
    "    pd.reset_option('display.max_rows')"
   ]
  },
  {
   "cell_type": "code",
   "execution_count": 3,
   "metadata": {},
   "outputs": [],
   "source": [
    "def acc_type_definition(paid_flag, num_active_weeks, avg_active_users_view):\n",
    "    if paid_flag == True:\n",
    "        return 'paid'\n",
    "    elif num_active_weeks > 2 and avg_active_users_view > 1:\n",
    "        return 'free active (3+ weeks) with 2+ users'\n",
    "    elif num_active_weeks > 2 and num_active_weeks <=8:\n",
    "        return 'free active (3-8 weeks) with 1 user'\n",
    "    elif num_active_weeks > 8:\n",
    "        return 'free active (>8 weeks) with 1 user'\n",
    "    elif avg_active_users_view > 1:\n",
    "        return 'within trial active with 2+ users'\n",
    "    else:\n",
    "        return 'non-active after trial end'"
   ]
  },
  {
   "cell_type": "markdown",
   "metadata": {},
   "source": [
    "#### Events query "
   ]
  },
  {
   "cell_type": "code",
   "execution_count": null,
   "metadata": {
    "jupyter": {
     "source_hidden": true
    }
   },
   "outputs": [],
   "source": [
    "sql_query = \"\"\"\n",
    "with trials as (\n",
    "  SELECT\n",
    "    date_trunc(date(trial_start_date), week(monday)) as trial_start_week,\n",
    "    trial_start_date,\n",
    "    paid_account ,\n",
    "    account_id\n",
    "  FROM `prodcloudna-analytics-team.ekaterina_zaitseva.base_registrations`\n",
    "  WHERE entry_point in ('Web','Wrike Account Management')\n",
    "  and first_account\n",
    "  and is_reached_ws\n",
    "  and date(trial_start_date) >= '2020-06-01'\n",
    "  and registration_page_type = 'Pricing'\n",
    "  and onboarding_trial_product = 'Free'\n",
    "  ),\n",
    "\n",
    "  activity as (\n",
    "  SELECT\n",
    "    partition_date,\n",
    "    account_id,\n",
    "    user_id,\n",
    "    view,\n",
    "    edit\n",
    "  FROM `prodcloudna-de-production.product_aggregations.activity`\n",
    "  WHERE partition_date >= '2020-06-01' and view + edit > 0\n",
    "  ),\n",
    "\n",
    "  active_users as (\n",
    "  select\n",
    "    t.trial_start_date,\n",
    "    t.paid_account,\n",
    "    t.account_id,\n",
    "    date_trunc(a.partition_date, week(monday)) as activity_week,\n",
    "    date_diff(date_trunc(a.partition_date, week(monday)), t.trial_start_week, week(monday)) as week_after_trial_start,\n",
    "    count(distinct if(a.view > 0,a.user_id,null)) as active_users_view,\n",
    "    count(distinct if(a.edit > 0,a.user_id,null)) as active_users_edit\n",
    "  from trials t\n",
    "  join activity a on t.account_id = a.account_id\n",
    "  group by 1,2,3,4,5\n",
    "  ),\n",
    "\n",
    "  account_agg as (\n",
    "  select\n",
    "    trial_start_date,\n",
    "    paid_account ,\n",
    "    account_id ,\n",
    "    count(distinct activity_week) num_active_weeks,\n",
    "    max(activity_week) last_activity_week,\n",
    "    max(week_after_trial_start) max_week_after_trial,\n",
    "    round(avg(active_users_view)) avg_active_users_view,\n",
    "    round(avg(active_users_edit)) avg_active_users_edit\n",
    "  from\n",
    "    active_users\n",
    "  group by 1,2,3),\n",
    "  \n",
    "  events as (\n",
    "  select\n",
    "    account_id,\n",
    "    partition_date,\n",
    "    client_event,\n",
    "    client_group,\n",
    "    count(*) cnt_events\n",
    "  from\n",
    "    `prodcloudna-de-production.events.client` \n",
    "  where \n",
    "    partition_date > '2020-06-01'\n",
    "  group by 1,2,3,4)\n",
    "  \n",
    "  select \n",
    "    date(aa.trial_start_date) trial_start_date,\n",
    "    aa.* except (trial_start_date),\n",
    "    e.client_event,\n",
    "    e.client_group,\n",
    "    sum(cnt_events) cnt_events\n",
    "  from \n",
    "    account_agg aa\n",
    "  left join \n",
    "    events e\n",
    "    on aa.account_id = e.account_id\n",
    "    and date_diff(e.partition_date,date(aa.trial_start_date), day) >= 0 \n",
    "    and date_diff(e.partition_date,date(aa.trial_start_date), day) <= 14\n",
    "  group by 1,2,3,4,5,6,7,8,9,10\n",
    "\"\"\""
   ]
  },
  {
   "cell_type": "markdown",
   "metadata": {},
   "source": [
    "Took all front-end events for all accounts within 14 days since trial start date"
   ]
  },
  {
   "cell_type": "code",
   "execution_count": 4,
   "metadata": {},
   "outputs": [],
   "source": [
    "sql = \"\"\"\n",
    "select * from `prodcloudna-analytics-team.ekaterina_zaitseva.free_accounts_first_14_days_events`\n",
    "\"\"\""
   ]
  },
  {
   "cell_type": "code",
   "execution_count": 5,
   "metadata": {},
   "outputs": [
    {
     "name": "stdout",
     "output_type": "stream",
     "text": [
      "CPU times: user 42.6 s, sys: 1.37 s, total: 44 s\n",
      "Wall time: 1min 18s\n"
     ]
    },
    {
     "data": {
      "text/html": [
       "<div>\n",
       "<style scoped>\n",
       "    .dataframe tbody tr th:only-of-type {\n",
       "        vertical-align: middle;\n",
       "    }\n",
       "\n",
       "    .dataframe tbody tr th {\n",
       "        vertical-align: top;\n",
       "    }\n",
       "\n",
       "    .dataframe thead th {\n",
       "        text-align: right;\n",
       "    }\n",
       "</style>\n",
       "<table border=\"1\" class=\"dataframe\">\n",
       "  <thead>\n",
       "    <tr style=\"text-align: right;\">\n",
       "      <th></th>\n",
       "      <th>trial_start_date</th>\n",
       "      <th>paid_account</th>\n",
       "      <th>account_id</th>\n",
       "      <th>num_active_weeks</th>\n",
       "      <th>last_activity_week</th>\n",
       "      <th>max_week_after_trial</th>\n",
       "      <th>avg_active_users_view</th>\n",
       "      <th>avg_active_users_edit</th>\n",
       "      <th>client_event</th>\n",
       "      <th>client_group</th>\n",
       "      <th>cnt_events</th>\n",
       "    </tr>\n",
       "  </thead>\n",
       "  <tbody>\n",
       "    <tr>\n",
       "      <th>0</th>\n",
       "      <td>2020-06-19</td>\n",
       "      <td>False</td>\n",
       "      <td>3891228</td>\n",
       "      <td>2</td>\n",
       "      <td>2020-06-22</td>\n",
       "      <td>1</td>\n",
       "      <td>1.0</td>\n",
       "      <td>1.0</td>\n",
       "      <td>iframe_launch</td>\n",
       "      <td>wistia</td>\n",
       "      <td>1.0</td>\n",
       "    </tr>\n",
       "    <tr>\n",
       "      <th>1</th>\n",
       "      <td>2020-06-21</td>\n",
       "      <td>False</td>\n",
       "      <td>3893888</td>\n",
       "      <td>2</td>\n",
       "      <td>2020-06-22</td>\n",
       "      <td>1</td>\n",
       "      <td>1.0</td>\n",
       "      <td>1.0</td>\n",
       "      <td>shown</td>\n",
       "      <td>reg_form_detail</td>\n",
       "      <td>2.0</td>\n",
       "    </tr>\n",
       "    <tr>\n",
       "      <th>2</th>\n",
       "      <td>2020-06-26</td>\n",
       "      <td>False</td>\n",
       "      <td>3902234</td>\n",
       "      <td>1</td>\n",
       "      <td>2020-06-22</td>\n",
       "      <td>0</td>\n",
       "      <td>1.0</td>\n",
       "      <td>1.0</td>\n",
       "      <td>view_dependencies__click</td>\n",
       "      <td>None</td>\n",
       "      <td>2.0</td>\n",
       "    </tr>\n",
       "  </tbody>\n",
       "</table>\n",
       "</div>"
      ],
      "text/plain": [
       "  trial_start_date  paid_account  account_id  num_active_weeks  \\\n",
       "0       2020-06-19         False     3891228                 2   \n",
       "1       2020-06-21         False     3893888                 2   \n",
       "2       2020-06-26         False     3902234                 1   \n",
       "\n",
       "  last_activity_week  max_week_after_trial  avg_active_users_view  \\\n",
       "0         2020-06-22                     1                    1.0   \n",
       "1         2020-06-22                     1                    1.0   \n",
       "2         2020-06-22                     0                    1.0   \n",
       "\n",
       "   avg_active_users_edit              client_event     client_group  \\\n",
       "0                    1.0             iframe_launch           wistia   \n",
       "1                    1.0                     shown  reg_form_detail   \n",
       "2                    1.0  view_dependencies__click             None   \n",
       "\n",
       "   cnt_events  \n",
       "0         1.0  \n",
       "1         2.0  \n",
       "2         2.0  "
      ]
     },
     "execution_count": 5,
     "metadata": {},
     "output_type": "execute_result"
    }
   ],
   "source": [
    "%%time\n",
    "free_events = bqclient.query(sql).result().to_dataframe()\n",
    "free_events.head(3)"
   ]
  },
  {
   "cell_type": "code",
   "execution_count": 6,
   "metadata": {},
   "outputs": [
    {
     "data": {
      "text/plain": [
       "Index(['trial_start_date', 'paid_account', 'account_id', 'num_active_weeks',\n",
       "       'last_activity_week', 'max_week_after_trial', 'avg_active_users_view',\n",
       "       'avg_active_users_edit', 'client_event', 'client_group', 'cnt_events'],\n",
       "      dtype='object')"
      ]
     },
     "execution_count": 6,
     "metadata": {},
     "output_type": "execute_result"
    }
   ],
   "source": [
    "free_events.columns"
   ]
  },
  {
   "cell_type": "code",
   "execution_count": 7,
   "metadata": {},
   "outputs": [],
   "source": [
    "free_events = free_events[free_events['client_event'].notnull()]"
   ]
  },
  {
   "cell_type": "code",
   "execution_count": null,
   "metadata": {},
   "outputs": [],
   "source": [
    "free_events.head()"
   ]
  },
  {
   "cell_type": "code",
   "execution_count": 8,
   "metadata": {},
   "outputs": [
    {
     "data": {
      "text/plain": [
       "(901332, 11)"
      ]
     },
     "execution_count": 8,
     "metadata": {},
     "output_type": "execute_result"
    }
   ],
   "source": [
    "free_events.shape"
   ]
  },
  {
   "cell_type": "markdown",
   "metadata": {},
   "source": [
    "## Events"
   ]
  },
  {
   "cell_type": "code",
   "execution_count": 9,
   "metadata": {},
   "outputs": [],
   "source": [
    "all_events = free_events.\\\n",
    "    groupby(['client_event','client_group'])['cnt_events'].\\\n",
    "    aggregate(['sum']).reset_index().sort_values(by='sum',ascending=False)"
   ]
  },
  {
   "cell_type": "code",
   "execution_count": 10,
   "metadata": {},
   "outputs": [
    {
     "data": {
      "text/plain": [
       "75.0"
      ]
     },
     "execution_count": 10,
     "metadata": {},
     "output_type": "execute_result"
    }
   ],
   "source": [
    "np.percentile(all_events['sum'],50)"
   ]
  },
  {
   "cell_type": "markdown",
   "metadata": {},
   "source": [
    "**Events with very high frequency (probably technical)**"
   ]
  },
  {
   "cell_type": "code",
   "execution_count": 20,
   "metadata": {},
   "outputs": [
    {
     "data": {
      "text/html": [
       "\n",
       "\n",
       "\n",
       "\n",
       "\n",
       "\n",
       "  <div class=\"bk-root\" id=\"3ac91673-2e15-4364-87f5-a112e55a8fbd\" data-root-id=\"1001\"></div>\n"
      ]
     },
     "metadata": {},
     "output_type": "display_data"
    },
    {
     "data": {
      "application/javascript": [
       "(function(root) {\n",
       "  function embed_document(root) {\n",
       "    \n",
       "  var docs_json = {\"c4121b9d-7856-4437-a9ba-dd5382caa046\":{\"roots\":{\"references\":[{\"attributes\":{\"above\":[{\"id\":\"1024\"}],\"background_fill_color\":\"white\",\"below\":[{\"id\":\"1010\"},{\"id\":\"1023\"}],\"border_fill_color\":\"white\",\"center\":[{\"id\":\"1013\"},{\"id\":\"1016\"}],\"left\":[{\"id\":\"1014\"}],\"min_border_bottom\":60,\"min_border_left\":60,\"min_border_right\":60,\"min_border_top\":40,\"outline_line_color\":\"white\",\"plot_height\":540,\"plot_width\":960,\"renderers\":[{\"id\":\"1034\"}],\"title\":{\"id\":\"1020\"},\"toolbar\":{\"id\":\"1018\"},\"x_range\":{\"id\":\"1002\"},\"x_scale\":{\"id\":\"1006\"},\"y_range\":{\"id\":\"1004\"},\"y_scale\":{\"id\":\"1008\"}},\"id\":\"1001\",\"subtype\":\"Figure\",\"type\":\"Plot\"},{\"attributes\":{},\"id\":\"1011\",\"type\":\"BasicTicker\"},{\"attributes\":{\"axis\":{\"id\":\"1010\"},\"grid_line_color\":null,\"ticker\":null},\"id\":\"1013\",\"type\":\"Grid\"},{\"attributes\":{\"axis_label_text_color\":\"#666666\",\"axis_label_text_font_size\":\"11pt\",\"axis_label_text_font_style\":\"bold\",\"axis_line_color\":\"#C0C0C0\",\"formatter\":{\"id\":\"1039\"},\"group_label_orientation\":\"normal\",\"group_text_font_size\":\"11pt\",\"major_label_orientation\":\"horizontal\",\"major_label_text_color\":\"#898989\",\"major_label_text_font_size\":\"10pt\",\"major_tick_in\":0,\"major_tick_line_color\":\"#C0C0C0\",\"major_tick_out\":4,\"minor_tick_line_color\":\"#C0C0C0\",\"minor_tick_out\":1,\"separator_line_alpha\":0,\"subgroup_label_orientation\":\"normal\",\"subgroup_text_font_size\":\"11pt\",\"ticker\":{\"id\":\"1015\"}},\"id\":\"1014\",\"type\":\"CategoricalAxis\"},{\"attributes\":{},\"id\":\"1015\",\"type\":\"CategoricalTicker\"},{\"attributes\":{\"end\":null,\"start\":0},\"id\":\"1002\",\"type\":\"DataRange1d\"},{\"attributes\":{\"axis\":{\"id\":\"1014\"},\"dimension\":1,\"grid_line_color\":null,\"ticker\":null},\"id\":\"1016\",\"type\":\"Grid\"},{\"attributes\":{\"text\":\"Automatically sorts by value counts.\",\"text_color\":{\"value\":\"#666666\"},\"text_font_size\":{\"value\":\"12pt\"}},\"id\":\"1024\",\"type\":\"Title\"},{\"attributes\":{},\"id\":\"1039\",\"type\":\"CategoricalTickFormatter\"},{\"attributes\":{\"factor_padding\":0.25,\"factors\":[[\"plus_button\",\"dropdown__closed\"],[\"stream_usage\",\"all_updates__filtered\"],[\"technical_events\",\"transport__connected\"],[\"folders_tree\",\"load_favourites_folders_time\"],[\"folders_tree\",\"show_child_folders\"],[\"task_list\",\"task__click\"],[\"task_list\",\"task_list__shown\"],[\"performance\",\"independent_app__load_scripts\"],[\"mass_actions\",\"mass_actions_panel__closed\"]]},\"id\":\"1004\",\"type\":\"FactorRange\"},{\"attributes\":{},\"id\":\"1042\",\"type\":\"Selection\"},{\"attributes\":{},\"id\":\"1017\",\"type\":\"SaveTool\"},{\"attributes\":{},\"id\":\"1041\",\"type\":\"UnionRenderers\"},{\"attributes\":{\"active_drag\":null,\"active_inspect\":\"auto\",\"active_multi\":null,\"active_scroll\":\"auto\",\"active_tap\":\"auto\",\"logo\":null,\"tools\":[{\"id\":\"1017\"}]},\"id\":\"1018\",\"type\":\"Toolbar\"},{\"attributes\":{\"data\":{\"factors\":[[\"plus_button\",\"dropdown__closed\"],[\"stream_usage\",\"all_updates__filtered\"],[\"technical_events\",\"transport__connected\"],[\"folders_tree\",\"load_favourites_folders_time\"],[\"folders_tree\",\"show_child_folders\"],[\"task_list\",\"task__click\"],[\"task_list\",\"task_list__shown\"],[\"performance\",\"independent_app__load_scripts\"],[\"mass_actions\",\"mass_actions_panel__closed\"]],\"index\":[0,1,2,3,4,5,6,7,8],\"sum\":{\"__ndarray__\":\"AAAAABDU+EAAAAAAcH0BQQAAAAAYvQRBAAAAAJBV+UAAAAAAwAcGQQAAAABgj/hAAAAAAKABCkEAAAAAZCsTQQAAAADw7BlB\",\"dtype\":\"float64\",\"order\":\"little\",\"shape\":[9]}},\"name\":\"Series:\",\"selected\":{\"id\":\"1042\"},\"selection_policy\":{\"id\":\"1041\"}},\"id\":\"1028\",\"type\":\"ColumnDataSource\"},{\"attributes\":{\"level\":\"overlay\",\"name\":\"subtitle\",\"text\":\"\",\"text_align\":\"right\",\"text_color\":\"#898989\",\"text_font_size\":\"10px\",\"x\":864.0,\"x_units\":\"screen\",\"y\":0,\"y_units\":\"screen\"},\"id\":\"1023\",\"type\":\"Label\"},{\"attributes\":{\"fill_color\":{\"value\":\"#1f77b4\"},\"height\":{\"value\":0.9},\"line_color\":{\"value\":\"white\"},\"right\":{\"field\":\"sum\"},\"y\":{\"field\":\"factors\"}},\"id\":\"1032\",\"type\":\"HBar\"},{\"attributes\":{\"source\":{\"id\":\"1028\"}},\"id\":\"1035\",\"type\":\"CDSView\"},{\"attributes\":{},\"id\":\"1006\",\"type\":\"LinearScale\"},{\"attributes\":{\"fill_alpha\":{\"value\":0.1},\"fill_color\":{\"value\":\"#1f77b4\"},\"height\":{\"value\":0.9},\"line_alpha\":{\"value\":0.1},\"line_color\":{\"value\":\"white\"},\"right\":{\"field\":\"sum\"},\"y\":{\"field\":\"factors\"}},\"id\":\"1033\",\"type\":\"HBar\"},{\"attributes\":{},\"id\":\"1008\",\"type\":\"CategoricalScale\"},{\"attributes\":{\"data_source\":{\"id\":\"1028\"},\"glyph\":{\"id\":\"1032\"},\"hover_glyph\":null,\"muted_glyph\":null,\"nonselection_glyph\":{\"id\":\"1033\"},\"selection_glyph\":null,\"view\":{\"id\":\"1035\"}},\"id\":\"1034\",\"type\":\"GlyphRenderer\"},{\"attributes\":{\"format\":\"0,0.[000000]\"},\"id\":\"1029\",\"type\":\"NumeralTickFormatter\"},{\"attributes\":{\"axis_label_text_color\":\"#666666\",\"axis_label_text_font_size\":\"11pt\",\"axis_label_text_font_style\":\"bold\",\"axis_line_color\":\"#C0C0C0\",\"formatter\":{\"id\":\"1029\"},\"major_label_text_color\":\"#898989\",\"major_label_text_font_size\":\"10pt\",\"major_tick_in\":0,\"major_tick_line_color\":\"#C0C0C0\",\"major_tick_out\":4,\"minor_tick_line_color\":\"#C0C0C0\",\"minor_tick_out\":1,\"ticker\":{\"id\":\"1011\"}},\"id\":\"1010\",\"type\":\"LinearAxis\"},{\"attributes\":{\"text\":\"Top events\",\"text_color\":{\"value\":\"#333333\"},\"text_font_size\":{\"value\":\"18pt\"}},\"id\":\"1020\",\"type\":\"Title\"}],\"root_ids\":[\"1001\"]},\"title\":\"Bokeh Application\",\"version\":\"2.2.3\"}};\n",
       "  var render_items = [{\"docid\":\"c4121b9d-7856-4437-a9ba-dd5382caa046\",\"root_ids\":[\"1001\"],\"roots\":{\"1001\":\"3ac91673-2e15-4364-87f5-a112e55a8fbd\"}}];\n",
       "  root.Bokeh.embed.embed_items_notebook(docs_json, render_items);\n",
       "\n",
       "  }\n",
       "  if (root.Bokeh !== undefined) {\n",
       "    embed_document(root);\n",
       "  } else {\n",
       "    var attempts = 0;\n",
       "    var timer = setInterval(function(root) {\n",
       "      if (root.Bokeh !== undefined) {\n",
       "        clearInterval(timer);\n",
       "        embed_document(root);\n",
       "      } else {\n",
       "        attempts++;\n",
       "        if (attempts > 100) {\n",
       "          clearInterval(timer);\n",
       "          console.log(\"Bokeh: ERROR: Unable to run BokehJS code because BokehJS library is missing\");\n",
       "        }\n",
       "      }\n",
       "    }, 10, root)\n",
       "  }\n",
       "})(window);"
      ],
      "application/vnd.bokehjs_exec.v0+json": ""
     },
     "metadata": {
      "application/vnd.bokehjs_exec.v0+json": {
       "id": "1001"
      }
     },
     "output_type": "display_data"
    }
   ],
   "source": [
    "ch = chartify.Chart(blank_labels=True, y_axis_type='categorical')\n",
    "ch.set_title(\"Top events\")\n",
    "ch.set_subtitle(\"Automatically sorts by value counts.\")\n",
    "ch.plot.bar(\n",
    "    data_frame=all_events[all_events['sum']>=100000],\n",
    "    categorical_columns=['client_group','client_event'],\n",
    "    numeric_column='sum',\n",
    "    categorical_order_ascending=True)\n",
    "# ch.figure.height = 400\n",
    "# ch.figure.width = 1000\n",
    "ch.axes.set_yaxis_tick_orientation('horizontal')\n",
    "ch.show()"
   ]
  },
  {
   "cell_type": "markdown",
   "metadata": {},
   "source": [
    "**Events with high frequency**"
   ]
  },
  {
   "cell_type": "code",
   "execution_count": 22,
   "metadata": {},
   "outputs": [
    {
     "data": {
      "text/html": [
       "\n",
       "\n",
       "\n",
       "\n",
       "\n",
       "\n",
       "  <div class=\"bk-root\" id=\"de522a06-e0dc-4d46-b613-83b06a4e3ed2\" data-root-id=\"1078\"></div>\n"
      ]
     },
     "metadata": {},
     "output_type": "display_data"
    },
    {
     "data": {
      "application/javascript": [
       "(function(root) {\n",
       "  function embed_document(root) {\n",
       "    \n",
       "  var docs_json = {\"405c3724-e395-4372-b98b-186c4789e21f\":{\"roots\":{\"references\":[{\"attributes\":{\"above\":[{\"id\":\"1101\"}],\"background_fill_color\":\"white\",\"below\":[{\"id\":\"1087\"},{\"id\":\"1100\"}],\"border_fill_color\":\"white\",\"center\":[{\"id\":\"1090\"},{\"id\":\"1093\"}],\"left\":[{\"id\":\"1091\"}],\"min_border_bottom\":60,\"min_border_left\":60,\"min_border_right\":60,\"min_border_top\":40,\"outline_line_color\":\"white\",\"plot_height\":540,\"plot_width\":960,\"renderers\":[{\"id\":\"1111\"}],\"title\":{\"id\":\"1097\"},\"toolbar\":{\"id\":\"1095\"},\"x_range\":{\"id\":\"1079\"},\"x_scale\":{\"id\":\"1083\"},\"y_range\":{\"id\":\"1081\"},\"y_scale\":{\"id\":\"1085\"}},\"id\":\"1078\",\"subtype\":\"Figure\",\"type\":\"Plot\"},{\"attributes\":{\"active_drag\":null,\"active_inspect\":\"auto\",\"active_multi\":null,\"active_scroll\":\"auto\",\"active_tap\":\"auto\",\"logo\":null,\"tools\":[{\"id\":\"1094\"}]},\"id\":\"1095\",\"type\":\"Toolbar\"},{\"attributes\":{},\"id\":\"1094\",\"type\":\"SaveTool\"},{\"attributes\":{\"fill_alpha\":{\"value\":0.1},\"fill_color\":{\"value\":\"#1f77b4\"},\"height\":{\"value\":0.9},\"line_alpha\":{\"value\":0.1},\"line_color\":{\"value\":\"white\"},\"right\":{\"field\":\"sum\"},\"y\":{\"field\":\"factors\"}},\"id\":\"1110\",\"type\":\"HBar\"},{\"attributes\":{},\"id\":\"1123\",\"type\":\"CategoricalTickFormatter\"},{\"attributes\":{\"format\":\"0,0.[00000]\"},\"id\":\"1106\",\"type\":\"NumeralTickFormatter\"},{\"attributes\":{\"text\":\"Automatically sorts by value counts.\",\"text_color\":{\"value\":\"#666666\"},\"text_font_size\":{\"value\":\"12pt\"}},\"id\":\"1101\",\"type\":\"Title\"},{\"attributes\":{\"data\":{\"factors\":[[\"scheduling\",\"date_picker__shown\"],[\"projects\",\"create_screen__shown\"],[\"sharing\",\"users_groups_list__shown\"],[\"spaces\",\"space__open\"],[\"table2\",\"tableview_change_value__click\"],[\"table2\",\"tableview_open__view\"],[\"inbox\",\"inbox_open_click\"],[\"task_list\",\"new_task__click\"],[\"task_list\",\"new_task__created\"],[\"folder_header\",\"folder_view_tab__click\"],[\"boards\",\"board_view_click\"],[\"boards\",\"show_task\"],[\"boards\",\"board_view__shown\"]],\"index\":[0,1,2,3,4,5,6,7,8,9,10,11,12],\"sum\":{\"__ndarray__\":\"AAAAAEDc10AAAAAAwKTZQAAAAADAGd1AAAAAAOCY50AAAAAAwI3UQAAAAADAxt9AAAAAAIB07UAAAAAAIHXgQAAAAADA9+BAAAAAADBr8UAAAAAAgKnVQAAAAADAGNhAAAAAAIDX6UA=\",\"dtype\":\"float64\",\"order\":\"little\",\"shape\":[13]}},\"name\":\"Series:\",\"selected\":{\"id\":\"1126\"},\"selection_policy\":{\"id\":\"1125\"}},\"id\":\"1105\",\"type\":\"ColumnDataSource\"},{\"attributes\":{},\"id\":\"1126\",\"type\":\"Selection\"},{\"attributes\":{\"text\":\"Top events\",\"text_color\":{\"value\":\"#333333\"},\"text_font_size\":{\"value\":\"18pt\"}},\"id\":\"1097\",\"type\":\"Title\"},{\"attributes\":{},\"id\":\"1083\",\"type\":\"LinearScale\"},{\"attributes\":{\"source\":{\"id\":\"1105\"}},\"id\":\"1112\",\"type\":\"CDSView\"},{\"attributes\":{},\"id\":\"1088\",\"type\":\"BasicTicker\"},{\"attributes\":{\"axis_label_text_color\":\"#666666\",\"axis_label_text_font_size\":\"11pt\",\"axis_label_text_font_style\":\"bold\",\"axis_line_color\":\"#C0C0C0\",\"formatter\":{\"id\":\"1106\"},\"major_label_text_color\":\"#898989\",\"major_label_text_font_size\":\"10pt\",\"major_tick_in\":0,\"major_tick_line_color\":\"#C0C0C0\",\"major_tick_out\":4,\"minor_tick_line_color\":\"#C0C0C0\",\"minor_tick_out\":1,\"ticker\":{\"id\":\"1088\"}},\"id\":\"1087\",\"type\":\"LinearAxis\"},{\"attributes\":{},\"id\":\"1125\",\"type\":\"UnionRenderers\"},{\"attributes\":{\"factor_padding\":0.25,\"factors\":[[\"scheduling\",\"date_picker__shown\"],[\"projects\",\"create_screen__shown\"],[\"sharing\",\"users_groups_list__shown\"],[\"spaces\",\"space__open\"],[\"table2\",\"tableview_change_value__click\"],[\"table2\",\"tableview_open__view\"],[\"inbox\",\"inbox_open_click\"],[\"task_list\",\"new_task__click\"],[\"task_list\",\"new_task__created\"],[\"folder_header\",\"folder_view_tab__click\"],[\"boards\",\"board_view_click\"],[\"boards\",\"show_task\"],[\"boards\",\"board_view__shown\"]]},\"id\":\"1081\",\"type\":\"FactorRange\"},{\"attributes\":{\"axis\":{\"id\":\"1091\"},\"dimension\":1,\"grid_line_color\":null,\"ticker\":null},\"id\":\"1093\",\"type\":\"Grid\"},{\"attributes\":{},\"id\":\"1085\",\"type\":\"CategoricalScale\"},{\"attributes\":{\"data_source\":{\"id\":\"1105\"},\"glyph\":{\"id\":\"1109\"},\"hover_glyph\":null,\"muted_glyph\":null,\"nonselection_glyph\":{\"id\":\"1110\"},\"selection_glyph\":null,\"view\":{\"id\":\"1112\"}},\"id\":\"1111\",\"type\":\"GlyphRenderer\"},{\"attributes\":{\"end\":null,\"start\":0},\"id\":\"1079\",\"type\":\"DataRange1d\"},{\"attributes\":{\"fill_color\":{\"value\":\"#1f77b4\"},\"height\":{\"value\":0.9},\"line_color\":{\"value\":\"white\"},\"right\":{\"field\":\"sum\"},\"y\":{\"field\":\"factors\"}},\"id\":\"1109\",\"type\":\"HBar\"},{\"attributes\":{\"axis\":{\"id\":\"1087\"},\"grid_line_color\":null,\"ticker\":null},\"id\":\"1090\",\"type\":\"Grid\"},{\"attributes\":{},\"id\":\"1092\",\"type\":\"CategoricalTicker\"},{\"attributes\":{\"level\":\"overlay\",\"name\":\"subtitle\",\"text\":\"\",\"text_align\":\"right\",\"text_color\":\"#898989\",\"text_font_size\":\"10px\",\"x\":864.0,\"x_units\":\"screen\",\"y\":0,\"y_units\":\"screen\"},\"id\":\"1100\",\"type\":\"Label\"},{\"attributes\":{\"axis_label_text_color\":\"#666666\",\"axis_label_text_font_size\":\"11pt\",\"axis_label_text_font_style\":\"bold\",\"axis_line_color\":\"#C0C0C0\",\"formatter\":{\"id\":\"1123\"},\"group_label_orientation\":\"normal\",\"group_text_font_size\":\"11pt\",\"major_label_orientation\":\"horizontal\",\"major_label_text_color\":\"#898989\",\"major_label_text_font_size\":\"10pt\",\"major_tick_in\":0,\"major_tick_line_color\":\"#C0C0C0\",\"major_tick_out\":4,\"minor_tick_line_color\":\"#C0C0C0\",\"minor_tick_out\":1,\"separator_line_alpha\":0,\"subgroup_label_orientation\":\"normal\",\"subgroup_text_font_size\":\"11pt\",\"ticker\":{\"id\":\"1092\"}},\"id\":\"1091\",\"type\":\"CategoricalAxis\"}],\"root_ids\":[\"1078\"]},\"title\":\"Bokeh Application\",\"version\":\"2.2.3\"}};\n",
       "  var render_items = [{\"docid\":\"405c3724-e395-4372-b98b-186c4789e21f\",\"root_ids\":[\"1078\"],\"roots\":{\"1078\":\"de522a06-e0dc-4d46-b613-83b06a4e3ed2\"}}];\n",
       "  root.Bokeh.embed.embed_items_notebook(docs_json, render_items);\n",
       "\n",
       "  }\n",
       "  if (root.Bokeh !== undefined) {\n",
       "    embed_document(root);\n",
       "  } else {\n",
       "    var attempts = 0;\n",
       "    var timer = setInterval(function(root) {\n",
       "      if (root.Bokeh !== undefined) {\n",
       "        clearInterval(timer);\n",
       "        embed_document(root);\n",
       "      } else {\n",
       "        attempts++;\n",
       "        if (attempts > 100) {\n",
       "          clearInterval(timer);\n",
       "          console.log(\"Bokeh: ERROR: Unable to run BokehJS code because BokehJS library is missing\");\n",
       "        }\n",
       "      }\n",
       "    }, 10, root)\n",
       "  }\n",
       "})(window);"
      ],
      "application/vnd.bokehjs_exec.v0+json": ""
     },
     "metadata": {
      "application/vnd.bokehjs_exec.v0+json": {
       "id": "1078"
      }
     },
     "output_type": "display_data"
    }
   ],
   "source": [
    "ch = chartify.Chart(blank_labels=True, y_axis_type='categorical')\n",
    "ch.set_title(\"Top events\")\n",
    "ch.set_subtitle(\"Automatically sorts by value counts.\")\n",
    "ch.plot.bar(\n",
    "    data_frame=filtered_df[filtered_df['sum']>=20000],\n",
    "    categorical_columns=['client_group','client_event'],\n",
    "    numeric_column='sum',\n",
    "    categorical_order_ascending=True)\n",
    "ch.axes.set_yaxis_tick_orientation('horizontal')\n",
    "ch.show()"
   ]
  },
  {
   "cell_type": "code",
   "execution_count": 11,
   "metadata": {},
   "outputs": [
    {
     "data": {
      "text/html": [
       "<div>\n",
       "<style scoped>\n",
       "    .dataframe tbody tr th:only-of-type {\n",
       "        vertical-align: middle;\n",
       "    }\n",
       "\n",
       "    .dataframe tbody tr th {\n",
       "        vertical-align: top;\n",
       "    }\n",
       "\n",
       "    .dataframe thead th {\n",
       "        text-align: right;\n",
       "    }\n",
       "</style>\n",
       "<table border=\"1\" class=\"dataframe\">\n",
       "  <thead>\n",
       "    <tr style=\"text-align: right;\">\n",
       "      <th></th>\n",
       "      <th>client_event</th>\n",
       "      <th>client_group</th>\n",
       "      <th>sum</th>\n",
       "    </tr>\n",
       "  </thead>\n",
       "  <tbody>\n",
       "    <tr>\n",
       "      <th>697</th>\n",
       "      <td>popup_shown</td>\n",
       "      <td>promo</td>\n",
       "      <td>1679.0</td>\n",
       "    </tr>\n",
       "    <tr>\n",
       "      <th>102</th>\n",
       "      <td>button_click</td>\n",
       "      <td>promo</td>\n",
       "      <td>1411.0</td>\n",
       "    </tr>\n",
       "    <tr>\n",
       "      <th>520</th>\n",
       "      <td>link_click</td>\n",
       "      <td>promo</td>\n",
       "      <td>25.0</td>\n",
       "    </tr>\n",
       "  </tbody>\n",
       "</table>\n",
       "</div>"
      ],
      "text/plain": [
       "     client_event client_group     sum\n",
       "697   popup_shown        promo  1679.0\n",
       "102  button_click        promo  1411.0\n",
       "520    link_click        promo    25.0"
      ]
     },
     "execution_count": 11,
     "metadata": {},
     "output_type": "execute_result"
    }
   ],
   "source": [
    "all_events[all_events['client_group']=='promo']"
   ]
  },
  {
   "cell_type": "markdown",
   "metadata": {},
   "source": [
    "Manual filtering out technical events (because all events were taken originally)"
   ]
  },
  {
   "cell_type": "code",
   "execution_count": 12,
   "metadata": {},
   "outputs": [],
   "source": [
    "groups_list = ['performance','host_app_routing','mass_actions','technical_events','folders_tree','folder_tree',\n",
    "              'homepage','onboarding','wistia','plus_button','reg_form_detail','product_selector',\n",
    "              'smart_folders','checkout','subscription','breadcrumbs','code_usage','errors','promo',None]\n",
    "events_list = ['dropdown__closed','node__click','triple_point_click','searching_for_documenteditor_plugin',\n",
    "              'task__click','task_list__shown','home__click','entity__close','close__click','save__click','name__try_to_fill',\n",
    "              'navigation_element__click','app_menu__click','navigation_plus__click','menu_item__click',\n",
    "              'folder__click','all_updates__filtered',\n",
    "              'create_screen_shown','space__open','new_task__click','folder_view_tab__click','inbox_open_click',\n",
    "              'open_tab__click','mention_picker__closed','welcome_tooltip__click','task_right__click',\n",
    "              'notification_open_click','create_project__click','open_inbox__click','create_screen__shown',\n",
    "              'profile_menu__shown','profile_settings_purpose','profile_menu_item__click','sidebar__click',\n",
    "              'open_overview__click','task_menu__click','choose_folder__click','cancel__click','elements__show',\n",
    "              'accounts_page__shown','all_updates__filtered','open','save_button__click','dashboard_view__leave',\n",
    "              'dashboard_view__visit','dashboard__leave','row_selection__change','configure_widget_form__show',\n",
    "              'widget_creation_button__click','selection__change',\n",
    "              'invitation_results_popup__shown','visual_settings__click','mention_click','scope_changed',\n",
    "              'configure_widget_form__hide','dependency__remove','taskTooltip__open','profile_details_save_button__click',\n",
    "              'invitation_popup__shown','dialog__closed','folder_infolder_list__click',\n",
    "               'profile_details_region_settings_save_button__click','zoom__click','shared_list__add',\n",
    "              'file_view__shown','zoom_control__click','sharing_undo_toast__shown','manage_account_button__click',\n",
    "              'widget_filters__change','zero_state__shown','column_width__change','widget_config_menu__opened',\n",
    "              'close_button__click','configuration_menu__open','setting_page__shown','subtasks__hide',\n",
    "              'file__receive','document_page__rendered','copy_dialog_show','widget_folder__select','members__click',\n",
    "              'task_rename___doubleclick','user_card__closed','sharing_undo_toast__close','app_card__close',\n",
    "               'sync_subtasks_popup__closed','action__undo','sort_type__changed','task__renamed',\n",
    "               'edit_space__cancel','user_card__shown','recent_drop_down__shown','clicked',\n",
    "               'copy_dialog_confirm','tasks_dnd__success','logout__click','folder_picker_field_value__changed',\n",
    "               'color__change','category__click','search_field_on_focus','user_link__click','task_ckeckbox__selected',\n",
    "               'mention_picker__click','emoji_picker__click','more_btn_click','space_settings__select',\n",
    "               'column_list__change','complete_subtasks_popup__shown','complete_subtasks_popup__closed',\n",
    "               'date_picker__open','open_stream__click','task_ckeckbox__deselected','app_card__shown',\n",
    "               'three_dot_menu__click','sync_subtasks__click','tableview_display_density__click',\n",
    "               'select_file_click','date_range__change','sharing_dialog__cancel','back_to_templates_button__click',\n",
    "               'task__delete','search_result_appeared','assignee__chosen','customer-support-target__click',\n",
    "               'mention_picker__shown','status__click','filter_preset__click','edit_space__confirm','share_settings__click',\n",
    "               'filter_changed','date_picker__shown','create_screen__closed','folder_picker__closed',\n",
    "               'folder_list__shown','try_to_change_sort_type','dots_menu_click','date_picker_shown',\n",
    "               'inherit_popup__shown','overview_click','attach_panel__click','search_field__on_focus',\n",
    "               'space_icon__changed','edit_button__click','status__changed','password_recovery_form__shown',\n",
    "               'user_in_user_picker__chosen','save_edit__click','manage_settings_button__click',\n",
    "               'mass_actions__on','planning__click','profile_details_page__shown','launchpad__open',\n",
    "               'popup_action','mass_actions__off','folder__shared','shared_list__remove','project_sharing__changed','new_space__cancel',\n",
    "               'tableview_filter_select__click','add_more_filters__click','triple_point_menu_item_selected','right_click_action',\n",
    "               'profile_details_upload_avatar__finished','item__added','overview_click',\n",
    "               'add_reactions_button_click','search_field_value_changed','save_changes_button__click',\n",
    "               'filter_button__click','breadcrumbs__click','view_shareds__click','save_changes__completed',\n",
    "               'delete_user_button__click','files__navigation','delete','dnd_start','project_open_click',\n",
    "               'select_other_emoji__click','folder_in_card___click','tasks_folder_move__click',\n",
    "               'color_panel__click','list__deleted','tab__closed','cancel_edit__click']\n",
    "\n",
    "filtered_df = free_events[~free_events['client_group'].isin(groups_list)]\n",
    "filtered_free_events = filtered_df[~filtered_df['client_event'].isin(events_list)]\n",
    "filtered_free_events['event_group'] = filtered_free_events['client_event']+' ('+filtered_free_events['client_group'] + ')'"
   ]
  },
  {
   "cell_type": "code",
   "execution_count": 13,
   "metadata": {},
   "outputs": [],
   "source": [
    "filtered_free_events['account_type'] = filtered_free_events.apply(lambda x: acc_type_definition(x['paid_account'],\n",
    "                                                                        x['num_active_weeks'], \n",
    "                                                                        x['avg_active_users_view']), axis=1)"
   ]
  },
  {
   "cell_type": "markdown",
   "metadata": {},
   "source": [
    "For each account we will rank event by its frequency of occurrence"
   ]
  },
  {
   "cell_type": "code",
   "execution_count": 14,
   "metadata": {},
   "outputs": [],
   "source": [
    "filtered_free_events['event_rank'] = filtered_free_events.groupby('account_id')['cnt_events'].rank(ascending=False)"
   ]
  },
  {
   "cell_type": "markdown",
   "metadata": {},
   "source": [
    "Then find maximum rank"
   ]
  },
  {
   "cell_type": "code",
   "execution_count": 15,
   "metadata": {},
   "outputs": [],
   "source": [
    "filtered_free_events = filtered_free_events.merge(filtered_free_events.groupby('account_id').agg({'event_rank':['max']}), on='account_id')"
   ]
  },
  {
   "cell_type": "code",
   "execution_count": 16,
   "metadata": {},
   "outputs": [],
   "source": [
    "filtered_free_events.columns = [     'trial_start_date',          'paid_account',\n",
    "                  'account_id',      'num_active_weeks',\n",
    "          'last_activity_week',  'max_week_after_trial',\n",
    "       'avg_active_users_view', 'avg_active_users_edit',\n",
    "                'client_event',          'client_group',\n",
    "                  'cnt_events',           'event_group',\n",
    "                'account_type',            'event_rank',   'event_rank_max']"
   ]
  },
  {
   "cell_type": "markdown",
   "metadata": {},
   "source": [
    "And normalize rank because one account can have maximum rank for events 10 and another account with a lot of events - 200, that's why when we divide rank by maximum we get values in the range of (0;10]. I called this *event score*, the lower score - the more frequent event in account."
   ]
  },
  {
   "cell_type": "code",
   "execution_count": 17,
   "metadata": {},
   "outputs": [],
   "source": [
    "filtered_free_events['event_score'] = filtered_free_events['event_rank']*10 / filtered_free_events['event_rank_max']"
   ]
  },
  {
   "cell_type": "code",
   "execution_count": null,
   "metadata": {},
   "outputs": [],
   "source": [
    "filtered_free_events['account_id'][100:120]"
   ]
  },
  {
   "cell_type": "code",
   "execution_count": null,
   "metadata": {},
   "outputs": [],
   "source": [
    "filtered_free_events[filtered_free_events['account_id']==3900498].sort_values(by='event_rank')"
   ]
  },
  {
   "cell_type": "markdown",
   "metadata": {},
   "source": [
    "An example of distribution"
   ]
  },
  {
   "cell_type": "code",
   "execution_count": 18,
   "metadata": {},
   "outputs": [
    {
     "data": {
      "text/plain": [
       "<matplotlib.axes._subplots.AxesSubplot at 0x7f2269c485b0>"
      ]
     },
     "execution_count": 18,
     "metadata": {},
     "output_type": "execute_result"
    },
    {
     "data": {
      "image/png": "[encoded data removed]",
      "text/plain": [
       "<Figure size 432x288 with 1 Axes>"
      ]
     },
     "metadata": {
      "needs_background": "light"
     },
     "output_type": "display_data"
    }
   ],
   "source": [
    "filtered_free_events[filtered_free_events['client_event']=='board_view__shown']['event_score'].hist()"
   ]
  },
  {
   "cell_type": "markdown",
   "metadata": {},
   "source": [
    "Then *event score* was aggregated as median value for each cohort for each event. Meaning of it - if in every account the particular event is more frequent than other events, it's in demand for accounts in the particular cohort and it has the lowest score."
   ]
  },
  {
   "cell_type": "code",
   "execution_count": 19,
   "metadata": {},
   "outputs": [
    {
     "data": {
      "text/html": [
       "<div>\n",
       "<style scoped>\n",
       "    .dataframe tbody tr th:only-of-type {\n",
       "        vertical-align: middle;\n",
       "    }\n",
       "\n",
       "    .dataframe tbody tr th {\n",
       "        vertical-align: top;\n",
       "    }\n",
       "\n",
       "    .dataframe thead th {\n",
       "        text-align: right;\n",
       "    }\n",
       "</style>\n",
       "<table border=\"1\" class=\"dataframe\">\n",
       "  <thead>\n",
       "    <tr style=\"text-align: right;\">\n",
       "      <th></th>\n",
       "      <th>client_event</th>\n",
       "      <th>client_group</th>\n",
       "      <th>event_score</th>\n",
       "    </tr>\n",
       "  </thead>\n",
       "  <tbody>\n",
       "    <tr>\n",
       "      <th>708</th>\n",
       "      <td>timesheet__open</td>\n",
       "      <td>timesheet</td>\n",
       "      <td>0.307692</td>\n",
       "    </tr>\n",
       "    <tr>\n",
       "      <th>389</th>\n",
       "      <td>new_subtask_name__typing</td>\n",
       "      <td>subtasklist</td>\n",
       "      <td>0.312500</td>\n",
       "    </tr>\n",
       "  </tbody>\n",
       "</table>\n",
       "</div>"
      ],
      "text/plain": [
       "                 client_event client_group  event_score\n",
       "708           timesheet__open    timesheet     0.307692\n",
       "389  new_subtask_name__typing  subtasklist     0.312500"
      ]
     },
     "execution_count": 19,
     "metadata": {},
     "output_type": "execute_result"
    }
   ],
   "source": [
    "filtered_free_events.\\\n",
    "    groupby(['client_event','client_group']).aggregate({'event_score': 'median'}).reset_index().sort_values(by='event_score',ascending=True)[:2]"
   ]
  },
  {
   "cell_type": "code",
   "execution_count": null,
   "metadata": {},
   "outputs": [],
   "source": [
    "filtered_free_events.head(3)"
   ]
  },
  {
   "cell_type": "markdown",
   "metadata": {},
   "source": [
    "**But if only one account had an event and it occured frequently in this account, the score for it will be low**\n",
    "\n",
    "So, when we aggregate this account into cohort with this event, score for event in the whole cohort will be low and this doesn't mean it's popular for every account in cohort"
   ]
  },
  {
   "cell_type": "markdown",
   "metadata": {},
   "source": [
    "That's why we should calculate frequency of events among all accounts: For each cohort and for each event looked at the share of accounts who had this event (as an example: 74% had event 'edit_title__click', so mostly everyone edited title of the task). "
   ]
  },
  {
   "cell_type": "code",
   "execution_count": 20,
   "metadata": {},
   "outputs": [],
   "source": [
    "all_events = filtered_free_events.\\\n",
    "    groupby(['client_event','client_group','account_type'])['cnt_events','account_id', 'event_score'].\\\n",
    "    aggregate({'cnt_events': 'sum', 'account_id': 'nunique', 'event_score': 'median'}).reset_index().sort_values(by='cnt_events',ascending=False)"
   ]
  },
  {
   "cell_type": "code",
   "execution_count": null,
   "metadata": {},
   "outputs": [],
   "source": [
    "all_events.rename(columns={\"account_id\": \"num_accounts\"},inplace=True)\n",
    "all_events.head()"
   ]
  },
  {
   "cell_type": "code",
   "execution_count": null,
   "metadata": {},
   "outputs": [],
   "source": [
    "all_events['account_type'].value_counts()"
   ]
  },
  {
   "cell_type": "code",
   "execution_count": 27,
   "metadata": {},
   "outputs": [
    {
     "data": {
      "text/html": [
       "\n",
       "\n",
       "\n",
       "\n",
       "\n",
       "\n",
       "  <div class=\"bk-root\" id=\"5ad3714c-d7f2-4baa-a8ad-e8b45ca19175\" data-root-id=\"1001\"></div>\n"
      ]
     },
     "metadata": {},
     "output_type": "display_data"
    },
    {
     "data": {
      "application/javascript": [
       "(function(root) {\n",
       "  function embed_document(root) {\n",
       "    \n",
       "  var docs_json = {\"0d3a298c-e03a-48b6-b2cf-954fb10c2ee3\":{\"roots\":{\"references\":[{\"attributes\":{\"above\":[{\"id\":\"1024\"}],\"background_fill_color\":\"white\",\"below\":[{\"id\":\"1010\"},{\"id\":\"1023\"}],\"border_fill_color\":\"white\",\"center\":[{\"id\":\"1013\"},{\"id\":\"1016\"}],\"left\":[{\"id\":\"1014\"}],\"min_border_bottom\":60,\"min_border_left\":60,\"min_border_right\":60,\"min_border_top\":40,\"outline_line_color\":\"white\",\"plot_height\":540,\"plot_width\":960,\"renderers\":[{\"id\":\"1034\"}],\"title\":{\"id\":\"1020\"},\"toolbar\":{\"id\":\"1018\"},\"x_range\":{\"id\":\"1002\"},\"x_scale\":{\"id\":\"1006\"},\"y_range\":{\"id\":\"1004\"},\"y_scale\":{\"id\":\"1008\"}},\"id\":\"1001\",\"subtype\":\"Figure\",\"type\":\"Plot\"},{\"attributes\":{\"format\":\"0,0.[00000]\"},\"id\":\"1029\",\"type\":\"NumeralTickFormatter\"},{\"attributes\":{\"end\":null,\"start\":0},\"id\":\"1002\",\"type\":\"DataRange1d\"},{\"attributes\":{\"fill_alpha\":{\"value\":0.1},\"fill_color\":{\"value\":\"#1f77b4\"},\"height\":{\"value\":0.9},\"line_alpha\":{\"value\":0.1},\"line_color\":{\"value\":\"white\"},\"right\":{\"field\":\"cnt_events\"},\"y\":{\"field\":\"factors\"}},\"id\":\"1033\",\"type\":\"HBar\"},{\"attributes\":{},\"id\":\"1041\",\"type\":\"Selection\"},{\"attributes\":{},\"id\":\"1006\",\"type\":\"LinearScale\"},{\"attributes\":{},\"id\":\"1039\",\"type\":\"CategoricalTickFormatter\"},{\"attributes\":{\"text\":\"Top events\",\"text_color\":{\"value\":\"#333333\"},\"text_font_size\":{\"value\":\"18pt\"}},\"id\":\"1020\",\"type\":\"Title\"},{\"attributes\":{},\"id\":\"1008\",\"type\":\"CategoricalScale\"},{\"attributes\":{\"level\":\"overlay\",\"name\":\"subtitle\",\"text\":\"\",\"text_align\":\"right\",\"text_color\":\"#898989\",\"text_font_size\":\"10px\",\"x\":864.0,\"x_units\":\"screen\",\"y\":0,\"y_units\":\"screen\"},\"id\":\"1023\",\"type\":\"Label\"},{\"attributes\":{\"axis_label_text_color\":\"#666666\",\"axis_label_text_font_size\":\"11pt\",\"axis_label_text_font_style\":\"bold\",\"axis_line_color\":\"#C0C0C0\",\"formatter\":{\"id\":\"1029\"},\"major_label_text_color\":\"#898989\",\"major_label_text_font_size\":\"10pt\",\"major_tick_in\":0,\"major_tick_line_color\":\"#C0C0C0\",\"major_tick_out\":4,\"minor_tick_line_color\":\"#C0C0C0\",\"minor_tick_out\":1,\"ticker\":{\"id\":\"1011\"}},\"id\":\"1010\",\"type\":\"LinearAxis\"},{\"attributes\":{},\"id\":\"1011\",\"type\":\"BasicTicker\"},{\"attributes\":{\"fill_color\":{\"value\":\"#1f77b4\"},\"height\":{\"value\":0.9},\"line_color\":{\"value\":\"white\"},\"right\":{\"field\":\"cnt_events\"},\"y\":{\"field\":\"factors\"}},\"id\":\"1032\",\"type\":\"HBar\"},{\"attributes\":{\"factor_padding\":0.25,\"factors\":[[\"paid\",\"new_subtask_name__typing (subtasklist)\"],[\"within trial active with 2+ users\",\"users_groups_list__shown (sharing)\"],[\"free active (3-8 weeks) with 1 user\",\"tableview_open__view (table2)\"],[\"free active (3-8 weeks) with 1 user\",\"new_task__created (task_list)\"],[\"free active (3-8 weeks) with 1 user\",\"board_view__shown (boards)\"],[\"non-active after trial end\",\"tableview_change_value__click (table2)\"],[\"non-active after trial end\",\"create_task (boards)\"],[\"non-active after trial end\",\"board_view_click (boards)\"],[\"non-active after trial end\",\"new_task__created (task_list)\"],[\"non-active after trial end\",\"tableview_open__view (table2)\"],[\"non-active after trial end\",\"board_view__shown (boards)\"],[\"free active (3+ weeks) with 2+ users\",\"create_task (boards)\"],[\"free active (3+ weeks) with 2+ users\",\"board_view_click (boards)\"],[\"free active (3+ weeks) with 2+ users\",\"comment__sent (comment_field)\"],[\"free active (3+ weeks) with 2+ users\",\"tableview_change_value__click (table2)\"],[\"free active (3+ weeks) with 2+ users\",\"add_assignee__click (taskview)\"],[\"free active (3+ weeks) with 2+ users\",\"tableview_open__view (table2)\"],[\"free active (3+ weeks) with 2+ users\",\"new_task__created (task_list)\"],[\"free active (3+ weeks) with 2+ users\",\"mention_list__shown (contact_picker)\"],[\"free active (3+ weeks) with 2+ users\",\"show_task (boards)\"],[\"free active (3+ weeks) with 2+ users\",\"users_groups_list__shown (sharing)\"],[\"free active (3+ weeks) with 2+ users\",\"board_view__shown (boards)\"]]},\"id\":\"1004\",\"type\":\"FactorRange\"},{\"attributes\":{\"text\":\"Automatically sorts by value counts.\",\"text_color\":{\"value\":\"#666666\"},\"text_font_size\":{\"value\":\"12pt\"}},\"id\":\"1024\",\"type\":\"Title\"},{\"attributes\":{\"axis\":{\"id\":\"1010\"},\"grid_line_color\":null,\"ticker\":null},\"id\":\"1013\",\"type\":\"Grid\"},{\"attributes\":{\"axis_label_text_color\":\"#666666\",\"axis_label_text_font_size\":\"11pt\",\"axis_label_text_font_style\":\"bold\",\"axis_line_color\":\"#C0C0C0\",\"formatter\":{\"id\":\"1039\"},\"group_label_orientation\":\"normal\",\"group_text_font_size\":\"11pt\",\"major_label_orientation\":\"horizontal\",\"major_label_text_color\":\"#898989\",\"major_label_text_font_size\":\"10pt\",\"major_tick_in\":0,\"major_tick_line_color\":\"#C0C0C0\",\"major_tick_out\":4,\"minor_tick_line_color\":\"#C0C0C0\",\"minor_tick_out\":1,\"separator_line_alpha\":0,\"subgroup_label_orientation\":\"normal\",\"subgroup_text_font_size\":\"11pt\",\"ticker\":{\"id\":\"1015\"}},\"id\":\"1014\",\"type\":\"CategoricalAxis\"},{\"attributes\":{},\"id\":\"1015\",\"type\":\"CategoricalTicker\"},{\"attributes\":{\"axis\":{\"id\":\"1014\"},\"dimension\":1,\"grid_line_color\":null,\"ticker\":null},\"id\":\"1016\",\"type\":\"Grid\"},{\"attributes\":{},\"id\":\"1042\",\"type\":\"UnionRenderers\"},{\"attributes\":{},\"id\":\"1017\",\"type\":\"SaveTool\"},{\"attributes\":{\"source\":{\"id\":\"1028\"}},\"id\":\"1035\",\"type\":\"CDSView\"},{\"attributes\":{\"active_drag\":null,\"active_inspect\":\"auto\",\"active_multi\":null,\"active_scroll\":\"auto\",\"active_tap\":\"auto\",\"logo\":null,\"tools\":[{\"id\":\"1017\"}]},\"id\":\"1018\",\"type\":\"Toolbar\"},{\"attributes\":{\"data_source\":{\"id\":\"1028\"},\"glyph\":{\"id\":\"1032\"},\"hover_glyph\":null,\"muted_glyph\":null,\"nonselection_glyph\":{\"id\":\"1033\"},\"selection_glyph\":null,\"view\":{\"id\":\"1035\"}},\"id\":\"1034\",\"type\":\"GlyphRenderer\"},{\"attributes\":{\"data\":{\"cnt_events\":{\"__ndarray__\":\"AAAAAACauEAAAAAAAMa6QAAAAAAAy7dAAAAAAAAfu0AAAAAAAB7DQAAAAAAA/bNAAAAAAAA7tUAAAAAAAG3CQAAAAAAABcNAAAAAAICOxUAAAAAAgOrNQAAAAAAA1rVAAAAAAAD3tUAAAAAAAGS8QAAAAAAAc7xAAAAAAIB5wUAAAAAAgAjDQAAAAACAGsRAAAAAAIAKxUAAAAAAgObGQAAAAACA7shAAAAAAIBD0UA=\",\"dtype\":\"float64\",\"order\":\"little\",\"shape\":[22]},\"factors\":[[\"paid\",\"new_subtask_name__typing (subtasklist)\"],[\"within trial active with 2+ users\",\"users_groups_list__shown (sharing)\"],[\"free active (3-8 weeks) with 1 user\",\"tableview_open__view (table2)\"],[\"free active (3-8 weeks) with 1 user\",\"new_task__created (task_list)\"],[\"free active (3-8 weeks) with 1 user\",\"board_view__shown (boards)\"],[\"non-active after trial end\",\"tableview_change_value__click (table2)\"],[\"non-active after trial end\",\"create_task (boards)\"],[\"non-active after trial end\",\"board_view_click (boards)\"],[\"non-active after trial end\",\"new_task__created (task_list)\"],[\"non-active after trial end\",\"tableview_open__view (table2)\"],[\"non-active after trial end\",\"board_view__shown (boards)\"],[\"free active (3+ weeks) with 2+ users\",\"create_task (boards)\"],[\"free active (3+ weeks) with 2+ users\",\"board_view_click (boards)\"],[\"free active (3+ weeks) with 2+ users\",\"comment__sent (comment_field)\"],[\"free active (3+ weeks) with 2+ users\",\"tableview_change_value__click (table2)\"],[\"free active (3+ weeks) with 2+ users\",\"add_assignee__click (taskview)\"],[\"free active (3+ weeks) with 2+ users\",\"tableview_open__view (table2)\"],[\"free active (3+ weeks) with 2+ users\",\"new_task__created (task_list)\"],[\"free active (3+ weeks) with 2+ users\",\"mention_list__shown (contact_picker)\"],[\"free active (3+ weeks) with 2+ users\",\"show_task (boards)\"],[\"free active (3+ weeks) with 2+ users\",\"users_groups_list__shown (sharing)\"],[\"free active (3+ weeks) with 2+ users\",\"board_view__shown (boards)\"]],\"index\":[0,1,2,3,4,5,6,7,8,9,10,11,12,13,14,15,16,17,18,19,20,21]},\"name\":\"Series:\",\"selected\":{\"id\":\"1041\"},\"selection_policy\":{\"id\":\"1042\"}},\"id\":\"1028\",\"type\":\"ColumnDataSource\"}],\"root_ids\":[\"1001\"]},\"title\":\"Bokeh Application\",\"version\":\"2.2.3\"}};\n",
       "  var render_items = [{\"docid\":\"0d3a298c-e03a-48b6-b2cf-954fb10c2ee3\",\"root_ids\":[\"1001\"],\"roots\":{\"1001\":\"5ad3714c-d7f2-4baa-a8ad-e8b45ca19175\"}}];\n",
       "  root.Bokeh.embed.embed_items_notebook(docs_json, render_items);\n",
       "\n",
       "  }\n",
       "  if (root.Bokeh !== undefined) {\n",
       "    embed_document(root);\n",
       "  } else {\n",
       "    var attempts = 0;\n",
       "    var timer = setInterval(function(root) {\n",
       "      if (root.Bokeh !== undefined) {\n",
       "        clearInterval(timer);\n",
       "        embed_document(root);\n",
       "      } else {\n",
       "        attempts++;\n",
       "        if (attempts > 100) {\n",
       "          clearInterval(timer);\n",
       "          console.log(\"Bokeh: ERROR: Unable to run BokehJS code because BokehJS library is missing\");\n",
       "        }\n",
       "      }\n",
       "    }, 10, root)\n",
       "  }\n",
       "})(window);"
      ],
      "application/vnd.bokehjs_exec.v0+json": ""
     },
     "metadata": {
      "application/vnd.bokehjs_exec.v0+json": {
       "id": "1001"
      }
     },
     "output_type": "display_data"
    }
   ],
   "source": [
    "ch = chartify.Chart(blank_labels=True, y_axis_type='categorical')\n",
    "ch.set_title(\"Top events\")\n",
    "ch.set_subtitle(\"Automatically sorts by value counts.\")\n",
    "ch.plot.bar(\n",
    "    data_frame=all_events[all_events['cnt_events']>=5000],\n",
    "    categorical_columns=['account_type','event_group'],\n",
    "    numeric_column='cnt_events',\n",
    "    categorical_order_ascending=True)\n",
    "ch.axes.set_yaxis_tick_orientation('horizontal')\n",
    "ch.show()"
   ]
  },
  {
   "cell_type": "code",
   "execution_count": 28,
   "metadata": {},
   "outputs": [
    {
     "data": {
      "text/html": [
       "\n",
       "\n",
       "\n",
       "\n",
       "\n",
       "\n",
       "  <div class=\"bk-root\" id=\"86aad036-9d00-4581-a29a-9ea8fbafc40b\" data-root-id=\"1078\"></div>\n"
      ]
     },
     "metadata": {},
     "output_type": "display_data"
    },
    {
     "data": {
      "application/javascript": [
       "(function(root) {\n",
       "  function embed_document(root) {\n",
       "    \n",
       "  var docs_json = {\"b367ad3f-310b-49fb-a5bf-2888fd9bc97e\":{\"roots\":{\"references\":[{\"attributes\":{\"above\":[{\"id\":\"1101\"}],\"background_fill_color\":\"white\",\"below\":[{\"id\":\"1087\"},{\"id\":\"1100\"}],\"border_fill_color\":\"white\",\"center\":[{\"id\":\"1090\"},{\"id\":\"1093\"}],\"left\":[{\"id\":\"1091\"}],\"min_border_bottom\":60,\"min_border_left\":60,\"min_border_right\":60,\"min_border_top\":40,\"outline_line_color\":\"white\",\"plot_height\":540,\"plot_width\":960,\"renderers\":[{\"id\":\"1111\"}],\"title\":{\"id\":\"1097\"},\"toolbar\":{\"id\":\"1095\"},\"x_range\":{\"id\":\"1079\"},\"x_scale\":{\"id\":\"1083\"},\"y_range\":{\"id\":\"1081\"},\"y_scale\":{\"id\":\"1085\"}},\"id\":\"1078\",\"subtype\":\"Figure\",\"type\":\"Plot\"},{\"attributes\":{\"data_source\":{\"id\":\"1105\"},\"glyph\":{\"id\":\"1109\"},\"hover_glyph\":null,\"muted_glyph\":null,\"nonselection_glyph\":{\"id\":\"1110\"},\"selection_glyph\":null,\"view\":{\"id\":\"1112\"}},\"id\":\"1111\",\"type\":\"GlyphRenderer\"},{\"attributes\":{\"text\":\"Top events\",\"text_color\":{\"value\":\"#333333\"},\"text_font_size\":{\"value\":\"18pt\"}},\"id\":\"1097\",\"type\":\"Title\"},{\"attributes\":{},\"id\":\"1083\",\"type\":\"LinearScale\"},{\"attributes\":{},\"id\":\"1094\",\"type\":\"SaveTool\"},{\"attributes\":{\"format\":\"0,0.[0]\"},\"id\":\"1106\",\"type\":\"NumeralTickFormatter\"},{\"attributes\":{\"active_drag\":null,\"active_inspect\":\"auto\",\"active_multi\":null,\"active_scroll\":\"auto\",\"active_tap\":\"auto\",\"logo\":null,\"tools\":[{\"id\":\"1094\"}]},\"id\":\"1095\",\"type\":\"Toolbar\"},{\"attributes\":{},\"id\":\"1125\",\"type\":\"Selection\"},{\"attributes\":{\"data\":{\"event_score\":{\"__ndarray__\":\"AAAAAAAA8D84H4PzMTjvPzgfg/MxOO8/kC47aQPc7j+amZmZmZnpP1VVVVVVVeU/pZRSSiml5D9eQ3kN5TXkP3Vkz0BUOuI/CTwgn5ez3z84H4PzMTjfP0Bsk+19gO4/JN1N+OUY7j8KvxzDZi7pP2WTTTbZZOM/NE+oBYxJ3D8UO7ETO7HTP1GJ5GvqndM/mHRqHuSu7z9HWO5phOXuP9mJndiJndg/hhyX9Cme1T826jsb9Z3NP3qQu362WMk/dNFFF1106T+KgI3RdprVPzQq3ePBEtQ/velNb3rT6z8AAAAAAADUP3kN5TWU19A/0HBS9+Wx5T9EUqhx3m3dP5GQkJCQkNA/\",\"dtype\":\"float64\",\"order\":\"little\",\"shape\":[33]},\"factors\":[[\"within trial active with 2+ users\",\"users_groups_list__shown (sharing)\"],[\"within trial active with 2+ users\",\"user_result_click (search)\"],[\"within trial active with 2+ users\",\"wrike_tab__shown (navigation)\"],[\"within trial active with 2+ users\",\"change_value__click (timeline)\"],[\"within trial active with 2+ users\",\"video__jumping (proofing)\"],[\"within trial active with 2+ users\",\"only_comments__filtered (stream_usage)\"],[\"within trial active with 2+ users\",\"report_appeared (reporting)\"],[\"within trial active with 2+ users\",\"position__change (timeline)\"],[\"within trial active with 2+ users\",\"dashboard_layout__update (dashboard)\"],[\"within trial active with 2+ users\",\"new_subtask_name__typing (subtasklist)\"],[\"within trial active with 2+ users\",\"open_task__click (task)\"],[\"paid\",\"value__change (timeline)\"],[\"paid\",\"timeline_view__click (timeline)\"],[\"paid\",\"users_groups_list__shown (sharing)\"],[\"paid\",\"user_avatar__click (subtasklist)\"],[\"paid\",\"only_comments__filtered (stream_usage)\"],[\"paid\",\"timesheet__open (timesheet)\"],[\"paid\",\"new_subtask_name__typing (subtasklist)\"],[\"free active (>8 weeks) with 1 user\",\"new_subtask_suggest__shown (subtasklist)\"],[\"free active (>8 weeks) with 1 user\",\"reaction_search (stream_usage)\"],[\"free active (>8 weeks) with 1 user\",\"change_onb_template_group__click (templates)\"],[\"free active (>8 weeks) with 1 user\",\"open_task__click (task)\"],[\"free active (>8 weeks) with 1 user\",\"only_comments__filtered (stream_usage)\"],[\"free active (>8 weeks) with 1 user\",\"new_subtask_name__typing (subtasklist)\"],[\"free active (3+ weeks) with 2+ users\",\"app__opened (applications)\"],[\"free active (3+ weeks) with 2+ users\",\"entity__hover (calendars)\"],[\"free active (3+ weeks) with 2+ users\",\"new_subtask_name__typing (subtasklist)\"],[\"non-active after trial end\",\"video__jumping (proofing)\"],[\"non-active after trial end\",\"new_subtask_name__typing (subtasklist)\"],[\"non-active after trial end\",\"timesheet__open (timesheet)\"],[\"free active (3-8 weeks) with 1 user\",\"calendar__chosen (scheduling)\"],[\"free active (3-8 weeks) with 1 user\",\"only_comments__filtered (stream_usage)\"],[\"free active (3-8 weeks) with 1 user\",\"new_subtask_name__typing (subtasklist)\"]],\"index\":[0,1,2,3,4,5,6,7,8,9,10,11,12,13,14,15,16,17,18,19,20,21,22,23,24,25,26,27,28,29,30,31,32]},\"name\":\"Series:\",\"selected\":{\"id\":\"1125\"},\"selection_policy\":{\"id\":\"1126\"}},\"id\":\"1105\",\"type\":\"ColumnDataSource\"},{\"attributes\":{\"axis_label_text_color\":\"#666666\",\"axis_label_text_font_size\":\"11pt\",\"axis_label_text_font_style\":\"bold\",\"axis_line_color\":\"#C0C0C0\",\"formatter\":{\"id\":\"1123\"},\"group_label_orientation\":\"normal\",\"group_text_font_size\":\"11pt\",\"major_label_orientation\":\"horizontal\",\"major_label_text_color\":\"#898989\",\"major_label_text_font_size\":\"10pt\",\"major_tick_in\":0,\"major_tick_line_color\":\"#C0C0C0\",\"major_tick_out\":4,\"minor_tick_line_color\":\"#C0C0C0\",\"minor_tick_out\":1,\"separator_line_alpha\":0,\"subgroup_label_orientation\":\"normal\",\"subgroup_text_font_size\":\"11pt\",\"ticker\":{\"id\":\"1092\"}},\"id\":\"1091\",\"type\":\"CategoricalAxis\"},{\"attributes\":{\"source\":{\"id\":\"1105\"}},\"id\":\"1112\",\"type\":\"CDSView\"},{\"attributes\":{\"axis\":{\"id\":\"1087\"},\"grid_line_color\":null,\"ticker\":null},\"id\":\"1090\",\"type\":\"Grid\"},{\"attributes\":{\"text\":\"Automatically sorts by value counts.\",\"text_color\":{\"value\":\"#666666\"},\"text_font_size\":{\"value\":\"12pt\"}},\"id\":\"1101\",\"type\":\"Title\"},{\"attributes\":{},\"id\":\"1092\",\"type\":\"CategoricalTicker\"},{\"attributes\":{\"end\":null,\"start\":0},\"id\":\"1079\",\"type\":\"DataRange1d\"},{\"attributes\":{\"axis\":{\"id\":\"1091\"},\"dimension\":1,\"grid_line_color\":null,\"ticker\":null},\"id\":\"1093\",\"type\":\"Grid\"},{\"attributes\":{\"fill_alpha\":{\"value\":0.1},\"fill_color\":{\"value\":\"#1f77b4\"},\"height\":{\"value\":0.9},\"line_alpha\":{\"value\":0.1},\"line_color\":{\"value\":\"white\"},\"right\":{\"field\":\"event_score\"},\"y\":{\"field\":\"factors\"}},\"id\":\"1110\",\"type\":\"HBar\"},{\"attributes\":{\"axis_label_text_color\":\"#666666\",\"axis_label_text_font_size\":\"11pt\",\"axis_label_text_font_style\":\"bold\",\"axis_line_color\":\"#C0C0C0\",\"formatter\":{\"id\":\"1106\"},\"major_label_text_color\":\"#898989\",\"major_label_text_font_size\":\"10pt\",\"major_tick_in\":0,\"major_tick_line_color\":\"#C0C0C0\",\"major_tick_out\":4,\"minor_tick_line_color\":\"#C0C0C0\",\"minor_tick_out\":1,\"ticker\":{\"id\":\"1088\"}},\"id\":\"1087\",\"type\":\"LinearAxis\"},{\"attributes\":{},\"id\":\"1126\",\"type\":\"UnionRenderers\"},{\"attributes\":{\"level\":\"overlay\",\"name\":\"subtitle\",\"text\":\"\",\"text_align\":\"right\",\"text_color\":\"#898989\",\"text_font_size\":\"10px\",\"x\":864.0,\"x_units\":\"screen\",\"y\":0,\"y_units\":\"screen\"},\"id\":\"1100\",\"type\":\"Label\"},{\"attributes\":{},\"id\":\"1088\",\"type\":\"BasicTicker\"},{\"attributes\":{},\"id\":\"1123\",\"type\":\"CategoricalTickFormatter\"},{\"attributes\":{},\"id\":\"1085\",\"type\":\"CategoricalScale\"},{\"attributes\":{\"factor_padding\":0.25,\"factors\":[[\"within trial active with 2+ users\",\"users_groups_list__shown (sharing)\"],[\"within trial active with 2+ users\",\"user_result_click (search)\"],[\"within trial active with 2+ users\",\"wrike_tab__shown (navigation)\"],[\"within trial active with 2+ users\",\"change_value__click (timeline)\"],[\"within trial active with 2+ users\",\"video__jumping (proofing)\"],[\"within trial active with 2+ users\",\"only_comments__filtered (stream_usage)\"],[\"within trial active with 2+ users\",\"report_appeared (reporting)\"],[\"within trial active with 2+ users\",\"position__change (timeline)\"],[\"within trial active with 2+ users\",\"dashboard_layout__update (dashboard)\"],[\"within trial active with 2+ users\",\"new_subtask_name__typing (subtasklist)\"],[\"within trial active with 2+ users\",\"open_task__click (task)\"],[\"paid\",\"value__change (timeline)\"],[\"paid\",\"timeline_view__click (timeline)\"],[\"paid\",\"users_groups_list__shown (sharing)\"],[\"paid\",\"user_avatar__click (subtasklist)\"],[\"paid\",\"only_comments__filtered (stream_usage)\"],[\"paid\",\"timesheet__open (timesheet)\"],[\"paid\",\"new_subtask_name__typing (subtasklist)\"],[\"free active (>8 weeks) with 1 user\",\"new_subtask_suggest__shown (subtasklist)\"],[\"free active (>8 weeks) with 1 user\",\"reaction_search (stream_usage)\"],[\"free active (>8 weeks) with 1 user\",\"change_onb_template_group__click (templates)\"],[\"free active (>8 weeks) with 1 user\",\"open_task__click (task)\"],[\"free active (>8 weeks) with 1 user\",\"only_comments__filtered (stream_usage)\"],[\"free active (>8 weeks) with 1 user\",\"new_subtask_name__typing (subtasklist)\"],[\"free active (3+ weeks) with 2+ users\",\"app__opened (applications)\"],[\"free active (3+ weeks) with 2+ users\",\"entity__hover (calendars)\"],[\"free active (3+ weeks) with 2+ users\",\"new_subtask_name__typing (subtasklist)\"],[\"non-active after trial end\",\"video__jumping (proofing)\"],[\"non-active after trial end\",\"new_subtask_name__typing (subtasklist)\"],[\"non-active after trial end\",\"timesheet__open (timesheet)\"],[\"free active (3-8 weeks) with 1 user\",\"calendar__chosen (scheduling)\"],[\"free active (3-8 weeks) with 1 user\",\"only_comments__filtered (stream_usage)\"],[\"free active (3-8 weeks) with 1 user\",\"new_subtask_name__typing (subtasklist)\"]]},\"id\":\"1081\",\"type\":\"FactorRange\"},{\"attributes\":{\"fill_color\":{\"value\":\"#1f77b4\"},\"height\":{\"value\":0.9},\"line_color\":{\"value\":\"white\"},\"right\":{\"field\":\"event_score\"},\"y\":{\"field\":\"factors\"}},\"id\":\"1109\",\"type\":\"HBar\"}],\"root_ids\":[\"1078\"]},\"title\":\"Bokeh Application\",\"version\":\"2.2.3\"}};\n",
       "  var render_items = [{\"docid\":\"b367ad3f-310b-49fb-a5bf-2888fd9bc97e\",\"root_ids\":[\"1078\"],\"roots\":{\"1078\":\"86aad036-9d00-4581-a29a-9ea8fbafc40b\"}}];\n",
       "  root.Bokeh.embed.embed_items_notebook(docs_json, render_items);\n",
       "\n",
       "  }\n",
       "  if (root.Bokeh !== undefined) {\n",
       "    embed_document(root);\n",
       "  } else {\n",
       "    var attempts = 0;\n",
       "    var timer = setInterval(function(root) {\n",
       "      if (root.Bokeh !== undefined) {\n",
       "        clearInterval(timer);\n",
       "        embed_document(root);\n",
       "      } else {\n",
       "        attempts++;\n",
       "        if (attempts > 100) {\n",
       "          clearInterval(timer);\n",
       "          console.log(\"Bokeh: ERROR: Unable to run BokehJS code because BokehJS library is missing\");\n",
       "        }\n",
       "      }\n",
       "    }, 10, root)\n",
       "  }\n",
       "})(window);"
      ],
      "application/vnd.bokehjs_exec.v0+json": ""
     },
     "metadata": {
      "application/vnd.bokehjs_exec.v0+json": {
       "id": "1078"
      }
     },
     "output_type": "display_data"
    }
   ],
   "source": [
    "ch = chartify.Chart(blank_labels=True, y_axis_type='categorical')\n",
    "ch.set_title(\"Top events\")\n",
    "ch.set_subtitle(\"Automatically sorts by value counts.\")\n",
    "ch.plot.bar(\n",
    "    data_frame=all_events[all_events['event_score']<=1],\n",
    "    categorical_columns=['account_type','event_group'],\n",
    "    numeric_column='event_score',\n",
    "    categorical_order_ascending=False)\n",
    "ch.axes.set_yaxis_tick_orientation('horizontal')\n",
    "ch.show()"
   ]
  },
  {
   "cell_type": "code",
   "execution_count": null,
   "metadata": {},
   "outputs": [],
   "source": [
    "all_events['event_group'] = all_events['client_event']+' ('+all_events['client_group'] + ')'\n",
    "\n",
    "events_count_by_acc_type = pd.pivot_table(all_events, values='cnt_events', index=['event_group'],\n",
    "                    columns=['account_type'], aggfunc=np.sum, fill_value=0)\n",
    "num_accs_by_events = pd.pivot_table(all_events, values='num_accounts', index=['event_group'],\n",
    "                    columns=['account_type'], aggfunc=np.sum, fill_value=0)\n",
    "events_score_by_acc_type = pd.pivot_table(all_events, values='event_score', index=['event_group'],\n",
    "                    columns=['account_type'], aggfunc=np.sum, fill_value=11)\n",
    "events_score_by_acc_type.head()"
   ]
  },
  {
   "cell_type": "code",
   "execution_count": 23,
   "metadata": {},
   "outputs": [
    {
     "data": {
      "text/plain": [
       "(816, 6)"
      ]
     },
     "execution_count": 23,
     "metadata": {},
     "output_type": "execute_result"
    }
   ],
   "source": [
    "events_count_by_acc_type.shape"
   ]
  },
  {
   "cell_type": "code",
   "execution_count": 24,
   "metadata": {},
   "outputs": [],
   "source": [
    "events_count_by_acc_type = events_count_by_acc_type[['paid','free active (3+ weeks) with 2+ users',\n",
    "                   'free active (>8 weeks) with 1 user','free active (3-8 weeks) with 1 user',\n",
    "                    'within trial active with 2+ users','non-active after trial end']].\\\n",
    "    sort_values(by=['paid','free active (3+ weeks) with 2+ users',\n",
    "                                  'free active (>8 weeks) with 1 user','free active (3-8 weeks) with 1 user',\n",
    "                                  'within trial active with 2+ users','non-active after trial end'],ascending=False)\n",
    "\n",
    "num_accs_by_events = num_accs_by_events[['paid','free active (3+ weeks) with 2+ users',\n",
    "                   'free active (>8 weeks) with 1 user','free active (3-8 weeks) with 1 user',\n",
    "                    'within trial active with 2+ users','non-active after trial end']].\\\n",
    "    sort_values(by=['paid','free active (3+ weeks) with 2+ users',\n",
    "                                  'free active (>8 weeks) with 1 user','free active (3-8 weeks) with 1 user',\n",
    "                                  'within trial active with 2+ users','non-active after trial end'],ascending=False)\n",
    "\n",
    "events_score_by_acc_type = events_score_by_acc_type[['paid','free active (3+ weeks) with 2+ users',\n",
    "                   'free active (>8 weeks) with 1 user','free active (3-8 weeks) with 1 user',\n",
    "                    'within trial active with 2+ users','non-active after trial end']].\\\n",
    "    sort_values(by=['paid','free active (3+ weeks) with 2+ users',\n",
    "                                  'free active (>8 weeks) with 1 user','free active (3-8 weeks) with 1 user',\n",
    "                                  'within trial active with 2+ users','non-active after trial end'],ascending=True)"
   ]
  },
  {
   "cell_type": "code",
   "execution_count": null,
   "metadata": {},
   "outputs": [],
   "source": [
    "num_accs_by_events.head()"
   ]
  },
  {
   "cell_type": "code",
   "execution_count": null,
   "metadata": {},
   "outputs": [],
   "source": [
    "events_count_by_acc_type.iloc[:,0:].describe()"
   ]
  },
  {
   "cell_type": "code",
   "execution_count": null,
   "metadata": {},
   "outputs": [],
   "source": [
    "events_score_by_acc_type.iloc[:,0:].describe()"
   ]
  },
  {
   "cell_type": "code",
   "execution_count": 25,
   "metadata": {},
   "outputs": [
    {
     "data": {
      "text/plain": [
       "(334, 6)"
      ]
     },
     "execution_count": 25,
     "metadata": {},
     "output_type": "execute_result"
    }
   ],
   "source": [
    "events_count_by_acc_type = events_count_by_acc_type[events_count_by_acc_type['non-active after trial end']>10]\n",
    "events_count_by_acc_type.shape"
   ]
  },
  {
   "cell_type": "code",
   "execution_count": 26,
   "metadata": {},
   "outputs": [],
   "source": [
    "events_count_by_acc_type_T = events_count_by_acc_type.T"
   ]
  },
  {
   "cell_type": "code",
   "execution_count": 27,
   "metadata": {},
   "outputs": [],
   "source": [
    "events_count_by_acc_type_share = events_count_by_acc_type_T.div(events_count_by_acc_type_T.sum(axis=1), axis=0).T"
   ]
  },
  {
   "cell_type": "code",
   "execution_count": 28,
   "metadata": {},
   "outputs": [],
   "source": [
    "num_accs_by_events_T = num_accs_by_events.T\n",
    "num_accs_by_events_share = num_accs_by_events_T.div(num_accs_by_events_T.max(axis=1), axis=0).T"
   ]
  },
  {
   "cell_type": "code",
   "execution_count": null,
   "metadata": {},
   "outputs": [],
   "source": [
    "num_accs_by_events_share.describe()"
   ]
  },
  {
   "cell_type": "code",
   "execution_count": null,
   "metadata": {},
   "outputs": [],
   "source": [
    "num_accs_by_events.max(axis=0)"
   ]
  },
  {
   "cell_type": "code",
   "execution_count": 30,
   "metadata": {},
   "outputs": [],
   "source": [
    "for col in num_accs_by_events_share.columns:\n",
    "    num_accs_by_events_share[col] = num_accs_by_events_share[col].apply(lambda x: 0.001 if x==0 else x)"
   ]
  },
  {
   "cell_type": "code",
   "execution_count": 31,
   "metadata": {},
   "outputs": [
    {
     "data": {
      "text/html": [
       "<div>\n",
       "<style scoped>\n",
       "    .dataframe tbody tr th:only-of-type {\n",
       "        vertical-align: middle;\n",
       "    }\n",
       "\n",
       "    .dataframe tbody tr th {\n",
       "        vertical-align: top;\n",
       "    }\n",
       "\n",
       "    .dataframe thead th {\n",
       "        text-align: right;\n",
       "    }\n",
       "</style>\n",
       "<table border=\"1\" class=\"dataframe\">\n",
       "  <thead>\n",
       "    <tr style=\"text-align: right;\">\n",
       "      <th>account_type</th>\n",
       "      <th>paid</th>\n",
       "      <th>free active (3+ weeks) with 2+ users</th>\n",
       "      <th>free active (&gt;8 weeks) with 1 user</th>\n",
       "      <th>free active (3-8 weeks) with 1 user</th>\n",
       "      <th>within trial active with 2+ users</th>\n",
       "      <th>non-active after trial end</th>\n",
       "    </tr>\n",
       "    <tr>\n",
       "      <th>event_group</th>\n",
       "      <th></th>\n",
       "      <th></th>\n",
       "      <th></th>\n",
       "      <th></th>\n",
       "      <th></th>\n",
       "      <th></th>\n",
       "    </tr>\n",
       "  </thead>\n",
       "  <tbody>\n",
       "    <tr>\n",
       "      <th>tableview_open__view (table2)</th>\n",
       "      <td>1.000000</td>\n",
       "      <td>0.920732</td>\n",
       "      <td>0.914634</td>\n",
       "      <td>0.894488</td>\n",
       "      <td>0.856115</td>\n",
       "      <td>0.92627</td>\n",
       "    </tr>\n",
       "    <tr>\n",
       "      <th>board_view__shown (boards)</th>\n",
       "      <td>0.904762</td>\n",
       "      <td>1.000000</td>\n",
       "      <td>0.969512</td>\n",
       "      <td>1.000000</td>\n",
       "      <td>1.000000</td>\n",
       "      <td>1.00000</td>\n",
       "    </tr>\n",
       "  </tbody>\n",
       "</table>\n",
       "</div>"
      ],
      "text/plain": [
       "account_type                       paid  free active (3+ weeks) with 2+ users  \\\n",
       "event_group                                                                     \n",
       "tableview_open__view (table2)  1.000000                              0.920732   \n",
       "board_view__shown (boards)     0.904762                              1.000000   \n",
       "\n",
       "account_type                   free active (>8 weeks) with 1 user  \\\n",
       "event_group                                                         \n",
       "tableview_open__view (table2)                            0.914634   \n",
       "board_view__shown (boards)                               0.969512   \n",
       "\n",
       "account_type                   free active (3-8 weeks) with 1 user  \\\n",
       "event_group                                                          \n",
       "tableview_open__view (table2)                             0.894488   \n",
       "board_view__shown (boards)                                1.000000   \n",
       "\n",
       "account_type                   within trial active with 2+ users  \\\n",
       "event_group                                                        \n",
       "tableview_open__view (table2)                           0.856115   \n",
       "board_view__shown (boards)                              1.000000   \n",
       "\n",
       "account_type                   non-active after trial end  \n",
       "event_group                                                \n",
       "tableview_open__view (table2)                     0.92627  \n",
       "board_view__shown (boards)                        1.00000  "
      ]
     },
     "execution_count": 31,
     "metadata": {},
     "output_type": "execute_result"
    }
   ],
   "source": [
    "num_accs_by_events_share.head(2)"
   ]
  },
  {
   "cell_type": "markdown",
   "metadata": {},
   "source": [
    "And the final step is to make **integrated event score** - it's multiplication of event score and 1 / share of accounts (in the range 0-1). Meaning 1 / share of accounts - if all accounts have the particular event (90%) it will be 1/0.90 = 1,1 but if only several accounts in cohort have it (5%) 1/0.05 = 20. \n",
    "\n",
    "And when we multiply it by event score described above we get that the lower score - the more accounts have it at the highest frequency:\n",
    "\n",
    "* if event occured frequently in most of the accounts - it has low event score (0.4) and if most of the accounts had it (like 90%) the integrated event score will be 0.4 * (1/0.9) = 0.444\n",
    "* if event occured frequently in most of the accounts - it has low event score (0.4) and if only one account had it (like 0.1%) the integrated event score will be 0.4 * (1/0.001) = 400\n",
    "* if event occured once in most of the accounts - it has high event score (10) and if only one account had it (like 0.1%) the integrated event score will be 10 * (1/0.001) = 10000"
   ]
  },
  {
   "cell_type": "code",
   "execution_count": 32,
   "metadata": {},
   "outputs": [],
   "source": [
    "events_final_score_by_acc_type = round(events_score_by_acc_type.mul(1/num_accs_by_events_share, fill_value=100),1)"
   ]
  },
  {
   "cell_type": "code",
   "execution_count": 33,
   "metadata": {},
   "outputs": [
    {
     "data": {
      "text/html": [
       "<div>\n",
       "<style scoped>\n",
       "    .dataframe tbody tr th:only-of-type {\n",
       "        vertical-align: middle;\n",
       "    }\n",
       "\n",
       "    .dataframe tbody tr th {\n",
       "        vertical-align: top;\n",
       "    }\n",
       "\n",
       "    .dataframe thead th {\n",
       "        text-align: right;\n",
       "    }\n",
       "</style>\n",
       "<table border=\"1\" class=\"dataframe\">\n",
       "  <thead>\n",
       "    <tr style=\"text-align: right;\">\n",
       "      <th>account_type</th>\n",
       "      <th>paid</th>\n",
       "      <th>free active (3+ weeks) with 2+ users</th>\n",
       "      <th>free active (&gt;8 weeks) with 1 user</th>\n",
       "      <th>free active (3-8 weeks) with 1 user</th>\n",
       "      <th>within trial active with 2+ users</th>\n",
       "      <th>non-active after trial end</th>\n",
       "    </tr>\n",
       "    <tr>\n",
       "      <th>event_group</th>\n",
       "      <th></th>\n",
       "      <th></th>\n",
       "      <th></th>\n",
       "      <th></th>\n",
       "      <th></th>\n",
       "      <th></th>\n",
       "    </tr>\n",
       "  </thead>\n",
       "  <tbody>\n",
       "    <tr>\n",
       "      <th>new_subtask_name__typing (subtasklist)</th>\n",
       "      <td>1.4</td>\n",
       "      <td>25.7</td>\n",
       "      <td>32.5</td>\n",
       "      <td>82.2</td>\n",
       "      <td>103.3</td>\n",
       "      <td>256.0</td>\n",
       "    </tr>\n",
       "    <tr>\n",
       "      <th>board_view__shown (boards)</th>\n",
       "      <td>1.4</td>\n",
       "      <td>1.4</td>\n",
       "      <td>2.2</td>\n",
       "      <td>2.3</td>\n",
       "      <td>2.6</td>\n",
       "      <td>5.0</td>\n",
       "    </tr>\n",
       "  </tbody>\n",
       "</table>\n",
       "</div>"
      ],
      "text/plain": [
       "account_type                            paid  \\\n",
       "event_group                                    \n",
       "new_subtask_name__typing (subtasklist)   1.4   \n",
       "board_view__shown (boards)               1.4   \n",
       "\n",
       "account_type                            free active (3+ weeks) with 2+ users  \\\n",
       "event_group                                                                    \n",
       "new_subtask_name__typing (subtasklist)                                  25.7   \n",
       "board_view__shown (boards)                                               1.4   \n",
       "\n",
       "account_type                            free active (>8 weeks) with 1 user  \\\n",
       "event_group                                                                  \n",
       "new_subtask_name__typing (subtasklist)                                32.5   \n",
       "board_view__shown (boards)                                             2.2   \n",
       "\n",
       "account_type                            free active (3-8 weeks) with 1 user  \\\n",
       "event_group                                                                   \n",
       "new_subtask_name__typing (subtasklist)                                 82.2   \n",
       "board_view__shown (boards)                                              2.3   \n",
       "\n",
       "account_type                            within trial active with 2+ users  \\\n",
       "event_group                                                                 \n",
       "new_subtask_name__typing (subtasklist)                              103.3   \n",
       "board_view__shown (boards)                                            2.6   \n",
       "\n",
       "account_type                            non-active after trial end  \n",
       "event_group                                                         \n",
       "new_subtask_name__typing (subtasklist)                       256.0  \n",
       "board_view__shown (boards)                                     5.0  "
      ]
     },
     "execution_count": 33,
     "metadata": {},
     "output_type": "execute_result"
    }
   ],
   "source": [
    "events_final_score_by_acc_type.sort_values(by='paid',ascending=True).head(2)"
   ]
  },
  {
   "cell_type": "markdown",
   "metadata": {},
   "source": [
    "**RMSE for new super metric** to identify which groups have the biggest difference"
   ]
  },
  {
   "cell_type": "code",
   "execution_count": null,
   "metadata": {},
   "outputs": [],
   "source": [
    "from sklearn.metrics import mean_squared_error\n",
    "\n",
    "rmse_df = pd.DataFrame(columns=['acc_type1', 'acc_type2','rmse'])\n",
    "for col1 in events_final_score_by_acc_type.columns:\n",
    "    for col2 in events_final_score_by_acc_type.columns:\n",
    "        if col1 != col2:\n",
    "            rmse = mean_squared_error(events_final_score_by_acc_type[col1].apply(lambda x: np.sqrt(x)), \n",
    "                         events_final_score_by_acc_type[col2].apply(lambda x: np.sqrt(x)), squared=False)\n",
    "            rmse_df = rmse_df.append({'acc_type1': col1, 'acc_type2': col2, 'rmse':rmse}, ignore_index=True)\n",
    "rmse_df.head(6)"
   ]
  },
  {
   "cell_type": "code",
   "execution_count": 55,
   "metadata": {},
   "outputs": [
    {
     "data": {
      "text/html": [
       "\n",
       "\n",
       "\n",
       "\n",
       "\n",
       "\n",
       "  <div class=\"bk-root\" id=\"27e569e0-c548-4688-9e11-89edc6c29155\" data-root-id=\"1370\"></div>\n"
      ]
     },
     "metadata": {},
     "output_type": "display_data"
    },
    {
     "data": {
      "application/javascript": [
       "(function(root) {\n",
       "  function embed_document(root) {\n",
       "    \n",
       "  var docs_json = {\"ef534746-c4f6-4887-bbe5-ef22b1b20453\":{\"roots\":{\"references\":[{\"attributes\":{\"above\":[{\"id\":\"1392\"}],\"background_fill_color\":\"white\",\"below\":[{\"id\":\"1379\"},{\"id\":\"1391\"}],\"border_fill_color\":\"white\",\"center\":[{\"id\":\"1381\"},{\"id\":\"1384\"}],\"left\":[{\"id\":\"1382\"}],\"min_border_bottom\":60,\"min_border_left\":60,\"min_border_right\":60,\"min_border_top\":40,\"outline_line_color\":\"white\",\"plot_height\":540,\"plot_width\":960,\"renderers\":[{\"id\":\"1400\"},{\"id\":\"1405\"}],\"title\":{\"id\":\"1388\"},\"toolbar\":{\"id\":\"1386\"},\"x_range\":{\"id\":\"1371\"},\"x_scale\":{\"id\":\"1375\"},\"y_range\":{\"id\":\"1373\"},\"y_scale\":{\"id\":\"1377\"}},\"id\":\"1370\",\"subtype\":\"Figure\",\"type\":\"Plot\"},{\"attributes\":{\"factors\":[\"free active (3+ weeks) with 2+ users\",\"free active (>8 weeks) with 1 user\",\"free active (3-8 weeks) with 1 user\",\"within trial active with 2+ users\",\"non-active after trial end\",\"paid\"]},\"id\":\"1373\",\"type\":\"FactorRange\"},{\"attributes\":{\"data\":{\"acc_type1\":[\"paid\",\"paid\",\"paid\",\"paid\",\"paid\",\"free active (3+ weeks) with 2+ users\",\"free active (3+ weeks) with 2+ users\",\"free active (3+ weeks) with 2+ users\",\"free active (3+ weeks) with 2+ users\",\"free active (3+ weeks) with 2+ users\",\"free active (>8 weeks) with 1 user\",\"free active (>8 weeks) with 1 user\",\"free active (>8 weeks) with 1 user\",\"free active (>8 weeks) with 1 user\",\"free active (>8 weeks) with 1 user\",\"free active (3-8 weeks) with 1 user\",\"free active (3-8 weeks) with 1 user\",\"free active (3-8 weeks) with 1 user\",\"free active (3-8 weeks) with 1 user\",\"free active (3-8 weeks) with 1 user\",\"within trial active with 2+ users\",\"within trial active with 2+ users\",\"within trial active with 2+ users\",\"within trial active with 2+ users\",\"within trial active with 2+ users\",\"non-active after trial end\",\"non-active after trial end\",\"non-active after trial end\",\"non-active after trial end\",\"non-active after trial end\"],\"acc_type2\":[\"free active (3+ weeks) with 2+ users\",\"free active (>8 weeks) with 1 user\",\"free active (3-8 weeks) with 1 user\",\"within trial active with 2+ users\",\"non-active after trial end\",\"paid\",\"free active (>8 weeks) with 1 user\",\"free active (3-8 weeks) with 1 user\",\"within trial active with 2+ users\",\"non-active after trial end\",\"paid\",\"free active (3+ weeks) with 2+ users\",\"free active (3-8 weeks) with 1 user\",\"within trial active with 2+ users\",\"non-active after trial end\",\"paid\",\"free active (3+ weeks) with 2+ users\",\"free active (>8 weeks) with 1 user\",\"within trial active with 2+ users\",\"non-active after trial end\",\"paid\",\"free active (3+ weeks) with 2+ users\",\"free active (>8 weeks) with 1 user\",\"free active (3-8 weeks) with 1 user\",\"non-active after trial end\",\"paid\",\"free active (3+ weeks) with 2+ users\",\"free active (>8 weeks) with 1 user\",\"free active (3-8 weeks) with 1 user\",\"within trial active with 2+ users\"],\"formatted_text\":[\"47.18\",\"53.35\",\"46.94\",\"47.77\",\"69.39\",\"47.18\",\"35.40\",\"27.03\",\"31.96\",\"57.47\",\"53.35\",\"35.40\",\"28.97\",\"35.83\",\"47.69\",\"46.94\",\"27.03\",\"28.97\",\"28.09\",\"47.30\",\"47.77\",\"31.96\",\"35.83\",\"28.09\",\"48.66\",\"69.39\",\"57.47\",\"47.69\",\"47.30\",\"48.66\"],\"index\":[0,1,2,3,4,5,6,7,8,9,10,11,12,13,14,15,16,17,18,19,20,21,22,23,24,25,26,27,28,29],\"rmse\":{\"__ndarray__\":\"tavecDmXR0BX4c0V26xKQKRF60hVeEdACfUkbf3hR0CZZbQ+RFlRQLWr3nA5l0dA+fYLGR6zQUC22QRAwAg7QISHmt6X9j9AQkG+24m7TEBX4c0V26xKQPn2Cxkes0FAYKJ3R+z3PEB+U9rTuulBQGsW2ywa2EdApEXrSFV4R0C22QRAwAg7QGCid0fs9zxAueHiB9sVPEBqNL1apaZHQAn1JG394UdAhIea3pf2P0B+U9rTuulBQLnh4gfbFTxAJyQAJvBUSECZZbQ+RFlRQEJBvtuJu0xAaxbbLBrYR0BqNL1apaZHQCckACbwVEhA\",\"dtype\":\"float64\",\"order\":\"little\",\"shape\":[30]}},\"name\":\"Series:\",\"selected\":{\"id\":\"1444\"},\"selection_policy\":{\"id\":\"1445\"}},\"id\":\"1395\",\"type\":\"ColumnDataSource\"},{\"attributes\":{},\"id\":\"1385\",\"type\":\"SaveTool\"},{\"attributes\":{\"text\":{\"field\":\"formatted_text\"},\"text_align\":\"center\",\"text_baseline\":\"middle\",\"text_color\":{\"value\":\"#ffffff\"},\"x\":{\"field\":\"acc_type1\"},\"y\":{\"field\":\"acc_type2\"}},\"id\":\"1403\",\"type\":\"Text\"},{\"attributes\":{},\"id\":\"1444\",\"type\":\"Selection\"},{\"attributes\":{\"axis\":{\"id\":\"1379\"},\"grid_line_color\":null,\"ticker\":null},\"id\":\"1381\",\"type\":\"Grid\"},{\"attributes\":{\"data_source\":{\"id\":\"1395\"},\"glyph\":{\"id\":\"1403\"},\"hover_glyph\":null,\"muted_glyph\":null,\"nonselection_glyph\":{\"id\":\"1404\"},\"selection_glyph\":null,\"view\":{\"id\":\"1406\"}},\"id\":\"1405\",\"type\":\"GlyphRenderer\"},{\"attributes\":{},\"id\":\"1440\",\"type\":\"CategoricalTickFormatter\"},{\"attributes\":{\"active_drag\":null,\"active_inspect\":\"auto\",\"active_multi\":null,\"active_scroll\":\"auto\",\"active_tap\":\"auto\",\"logo\":null,\"tools\":[{\"id\":\"1385\"}]},\"id\":\"1386\",\"type\":\"Toolbar\"},{\"attributes\":{\"source\":{\"id\":\"1395\"}},\"id\":\"1401\",\"type\":\"CDSView\"},{\"attributes\":{\"axis_label\":\"Account Type\",\"axis_label_text_color\":\"#666666\",\"axis_label_text_font_size\":\"11pt\",\"axis_label_text_font_style\":\"bold\",\"axis_line_color\":\"#C0C0C0\",\"formatter\":{\"id\":\"1440\"},\"group_text_font_size\":\"11pt\",\"major_label_orientation\":1.5707963267948966,\"major_label_text_color\":\"#898989\",\"major_label_text_font_size\":\"10pt\",\"major_tick_in\":0,\"major_tick_line_color\":\"#C0C0C0\",\"major_tick_out\":4,\"minor_tick_line_color\":\"#C0C0C0\",\"minor_tick_out\":1,\"separator_line_alpha\":0,\"subgroup_text_font_size\":\"11pt\",\"ticker\":{\"id\":\"1380\"}},\"id\":\"1379\",\"type\":\"CategoricalAxis\"},{\"attributes\":{\"text\":\"\",\"text_color\":{\"value\":\"#666666\"},\"text_font_size\":{\"value\":\"12pt\"}},\"id\":\"1392\",\"type\":\"Title\"},{\"attributes\":{},\"id\":\"1442\",\"type\":\"CategoricalTickFormatter\"},{\"attributes\":{\"dilate\":true,\"fill_alpha\":{\"value\":0.1},\"fill_color\":{\"field\":\"rmse\",\"transform\":{\"id\":\"1396\"}},\"height\":{\"units\":\"data\",\"value\":1},\"line_alpha\":{\"value\":0.1},\"line_color\":{\"value\":\"#1f77b4\"},\"width\":{\"units\":\"data\",\"value\":1},\"x\":{\"field\":\"acc_type1\"},\"y\":{\"field\":\"acc_type2\"}},\"id\":\"1399\",\"type\":\"Rect\"},{\"attributes\":{\"text\":{\"field\":\"formatted_text\"},\"text_align\":\"center\",\"text_alpha\":{\"value\":0.1},\"text_baseline\":\"middle\",\"text_color\":{\"value\":\"#ffffff\"},\"x\":{\"field\":\"acc_type1\"},\"y\":{\"field\":\"acc_type2\"}},\"id\":\"1404\",\"type\":\"Text\"},{\"attributes\":{\"factors\":[\"paid\",\"free active (3+ weeks) with 2+ users\",\"free active (>8 weeks) with 1 user\",\"free active (3-8 weeks) with 1 user\",\"within trial active with 2+ users\",\"non-active after trial end\"]},\"id\":\"1371\",\"type\":\"FactorRange\"},{\"attributes\":{},\"id\":\"1445\",\"type\":\"UnionRenderers\"},{\"attributes\":{\"high\":69.39479034058458,\"low\":27.034183503326595,\"palette\":[\"#67a9cf\",\"#6aabd0\",\"#6dacd1\",\"#70aed1\",\"#73afd2\",\"#75b1d3\",\"#78b2d4\",\"#7bb4d5\",\"#7eb5d5\",\"#81b7d6\",\"#84b9d7\",\"#87bad8\",\"#8abcd9\",\"#8cbdd9\",\"#8fbfda\",\"#92c0db\",\"#95c2dc\",\"#98c4dd\",\"#9bc5dd\",\"#9ec7de\",\"#a1c8df\",\"#a3cae0\",\"#a6cbe1\",\"#a9cde1\",\"#accee2\",\"#afd0e3\",\"#b2d2e4\",\"#b5d3e5\",\"#b8d5e5\",\"#bbd6e6\",\"#bdd8e7\",\"#c0d9e8\",\"#c3dbe9\",\"#c6dce9\",\"#c9deea\",\"#cce0eb\",\"#cfe1ec\",\"#d2e3ed\",\"#d4e4ed\",\"#d7e6ee\",\"#dae7ef\",\"#dde9f0\",\"#e0ebf1\",\"#e3ecf1\",\"#e6eef2\",\"#e9eff3\",\"#ebf1f4\",\"#eef2f5\",\"#f1f4f5\",\"#f4f5f6\",\"#f7f7f7\",\"#f7f5f4\",\"#f7f3f1\",\"#f7f0ee\",\"#f6eeeb\",\"#f6ece8\",\"#f6eae5\",\"#f6e7e2\",\"#f6e5df\",\"#f6e3dc\",\"#f5e1d9\",\"#f5dfd6\",\"#f5dcd3\",\"#f5dacf\",\"#f5d8cc\",\"#f5d6c9\",\"#f4d3c6\",\"#f4d1c3\",\"#f4cfc0\",\"#f4cdbd\",\"#f4cbba\",\"#f4c8b7\",\"#f3c6b4\",\"#f3c4b1\",\"#f3c2ae\",\"#f3bfab\",\"#f3bda8\",\"#f3bba5\",\"#f2b9a2\",\"#f2b69f\",\"#f2b49c\",\"#f2b299\",\"#f2b096\",\"#f2ae93\",\"#f1ab90\",\"#f1a98d\",\"#f1a78a\",\"#f1a586\",\"#f1a283\",\"#f1a080\",\"#f09e7d\",\"#f09c7a\",\"#f09a77\",\"#f09774\",\"#f09571\",\"#f0936e\",\"#ef916b\",\"#ef8e68\",\"#ef8c65\",\"#ef8a62\"]},\"id\":\"1396\",\"type\":\"LinearColorMapper\"},{\"attributes\":{},\"id\":\"1375\",\"type\":\"CategoricalScale\"},{\"attributes\":{},\"id\":\"1377\",\"type\":\"CategoricalScale\"},{\"attributes\":{\"text\":\"Heatmap\",\"text_color\":{\"value\":\"#333333\"},\"text_font_size\":{\"value\":\"18pt\"}},\"id\":\"1388\",\"type\":\"Title\"},{\"attributes\":{},\"id\":\"1380\",\"type\":\"CategoricalTicker\"},{\"attributes\":{\"axis_label\":\"Account Type\",\"axis_label_text_color\":\"#666666\",\"axis_label_text_font_size\":\"11pt\",\"axis_label_text_font_style\":\"bold\",\"axis_line_color\":\"#C0C0C0\",\"formatter\":{\"id\":\"1442\"},\"group_text_font_size\":\"11pt\",\"major_label_text_color\":\"#898989\",\"major_label_text_font_size\":\"10pt\",\"major_tick_in\":0,\"major_tick_line_color\":\"#C0C0C0\",\"major_tick_out\":4,\"minor_tick_line_color\":\"#C0C0C0\",\"minor_tick_out\":1,\"separator_line_alpha\":0,\"subgroup_text_font_size\":\"11pt\",\"ticker\":{\"id\":\"1383\"}},\"id\":\"1382\",\"type\":\"CategoricalAxis\"},{\"attributes\":{\"data_source\":{\"id\":\"1395\"},\"glyph\":{\"id\":\"1398\"},\"hover_glyph\":null,\"muted_glyph\":null,\"nonselection_glyph\":{\"id\":\"1399\"},\"selection_glyph\":null,\"view\":{\"id\":\"1401\"}},\"id\":\"1400\",\"type\":\"GlyphRenderer\"},{\"attributes\":{\"source\":{\"id\":\"1395\"}},\"id\":\"1406\",\"type\":\"CDSView\"},{\"attributes\":{\"axis\":{\"id\":\"1382\"},\"dimension\":1,\"grid_line_color\":null,\"ticker\":null},\"id\":\"1384\",\"type\":\"Grid\"},{\"attributes\":{},\"id\":\"1383\",\"type\":\"CategoricalTicker\"},{\"attributes\":{\"dilate\":true,\"fill_color\":{\"field\":\"rmse\",\"transform\":{\"id\":\"1396\"}},\"height\":{\"units\":\"data\",\"value\":1},\"line_alpha\":{\"value\":0},\"line_color\":{\"value\":\"#1f77b4\"},\"width\":{\"units\":\"data\",\"value\":1},\"x\":{\"field\":\"acc_type1\"},\"y\":{\"field\":\"acc_type2\"}},\"id\":\"1398\",\"type\":\"Rect\"},{\"attributes\":{\"level\":\"overlay\",\"name\":\"subtitle\",\"text\":\"\",\"text_align\":\"right\",\"text_color\":\"#898989\",\"text_font_size\":\"10px\",\"x\":864.0,\"x_units\":\"screen\",\"y\":0,\"y_units\":\"screen\"},\"id\":\"1391\",\"type\":\"Label\"}],\"root_ids\":[\"1370\"]},\"title\":\"Bokeh Application\",\"version\":\"2.2.3\"}};\n",
       "  var render_items = [{\"docid\":\"ef534746-c4f6-4887-bbe5-ef22b1b20453\",\"root_ids\":[\"1370\"],\"roots\":{\"1370\":\"27e569e0-c548-4688-9e11-89edc6c29155\"}}];\n",
       "  root.Bokeh.embed.embed_items_notebook(docs_json, render_items);\n",
       "\n",
       "  }\n",
       "  if (root.Bokeh !== undefined) {\n",
       "    embed_document(root);\n",
       "  } else {\n",
       "    var attempts = 0;\n",
       "    var timer = setInterval(function(root) {\n",
       "      if (root.Bokeh !== undefined) {\n",
       "        clearInterval(timer);\n",
       "        embed_document(root);\n",
       "      } else {\n",
       "        attempts++;\n",
       "        if (attempts > 100) {\n",
       "          clearInterval(timer);\n",
       "          console.log(\"Bokeh: ERROR: Unable to run BokehJS code because BokehJS library is missing\");\n",
       "        }\n",
       "      }\n",
       "    }, 10, root)\n",
       "  }\n",
       "})(window);"
      ],
      "application/vnd.bokehjs_exec.v0+json": ""
     },
     "metadata": {
      "application/vnd.bokehjs_exec.v0+json": {
       "id": "1370"
      }
     },
     "output_type": "display_data"
    }
   ],
   "source": [
    "ch = chartify.Chart(\n",
    "        blank_labels=True,\n",
    "        x_axis_type='categorical',\n",
    "        y_axis_type='categorical')\n",
    "ch.plot.heatmap(\n",
    "        data_frame=rmse_df,\n",
    "        x_column='acc_type1',\n",
    "        y_column='acc_type2',\n",
    "        color_column='rmse',\n",
    "        text_column='rmse',\n",
    "        text_color='white')\n",
    "ch.axes.set_xaxis_label('Account Type').\\\n",
    "    axes.set_yaxis_label('Account Type').\\\n",
    "    set_title('Heatmap').\\\n",
    "    axes.set_xaxis_tick_orientation('vertical').\\\n",
    "    show()"
   ]
  },
  {
   "cell_type": "markdown",
   "metadata": {},
   "source": [
    "## Exploratory analysis of events between groups"
   ]
  },
  {
   "cell_type": "markdown",
   "metadata": {},
   "source": [
    "#### Difference in events between paid and free active with 1 user (3-8 weeks)"
   ]
  },
  {
   "cell_type": "code",
   "execution_count": null,
   "metadata": {},
   "outputs": [],
   "source": [
    "diff = events_final_score_by_acc_type['paid'] - events_final_score_by_acc_type['free active (3+ weeks) with 2+ users']\n",
    "diff.describe()"
   ]
  },
  {
   "cell_type": "code",
   "execution_count": 61,
   "metadata": {},
   "outputs": [
    {
     "data": {
      "text/html": [
       "\n",
       "\n",
       "\n",
       "\n",
       "\n",
       "\n",
       "  <div class=\"bk-root\" id=\"1ecd0876-efc9-4279-8740-6e8c037d2f7c\" data-root-id=\"1984\"></div>\n"
      ]
     },
     "metadata": {},
     "output_type": "display_data"
    },
    {
     "data": {
      "application/javascript": [
       "(function(root) {\n",
       "  function embed_document(root) {\n",
       "    \n",
       "  var docs_json = {\"6c252f99-8262-403b-b33b-a90d86b064eb\":{\"roots\":{\"references\":[{\"attributes\":{\"above\":[{\"id\":\"2007\"}],\"background_fill_color\":\"white\",\"below\":[{\"id\":\"1993\"},{\"id\":\"2006\"}],\"border_fill_color\":\"white\",\"center\":[{\"id\":\"1996\"},{\"id\":\"1999\"}],\"height\":600,\"left\":[{\"id\":\"1997\"}],\"min_border_bottom\":60,\"min_border_left\":60,\"min_border_right\":60,\"min_border_top\":40,\"outline_line_color\":\"white\",\"plot_height\":540,\"plot_width\":960,\"renderers\":[{\"id\":\"2016\"}],\"title\":{\"id\":\"2003\"},\"toolbar\":{\"id\":\"2001\"},\"width\":1000,\"x_range\":{\"id\":\"1985\"},\"x_scale\":{\"id\":\"1989\"},\"y_range\":{\"id\":\"1987\"},\"y_scale\":{\"id\":\"1991\"}},\"id\":\"1984\",\"subtype\":\"Figure\",\"type\":\"Plot\"},{\"attributes\":{\"factor_padding\":0.25,\"factors\":[\"snapshot_info__click (timeline)\",\"new_calendar__confirm (calendars)\",\"back__click (templates)\",\"update__apply (timeline)\",\"snapshot__share (timeline)\",\"navigation_plus_dropdown__click (sidebar)\",\"dashboard__rename (dashboard)\",\"dashboard_rename_item__click (dashboard)\",\"onb_templates_continue__click (templates)\",\"tasks_assignees__changed (task_list)\",\"dashboard_delete_item__click (dashboard)\",\"dashboard__delete (dashboard)\",\"widget_gallery_advanced_mode__click (dashboard)\",\"dependency__add (timeline)\",\"file_drilldown__click (dashboard)\",\"file_popup__shown (dashboard)\",\"change_dependency_type__click (dependencies)\",\"unfollow (task_follow)\",\"create_quick_backup__click (accounts)\",\"detach__click (subtasklist)\",\"shared_list__changed (reporting)\",\"share_report_click (reporting)\",\"sent_snapshot_email_click (reporting)\",\"send_snapshot_email_canceled (reporting)\",\"save_permissions_password_popup_confirm_button__click (users_and_groups)\",\"report_shared (reporting)\",\"report__renamed (reporting)\",\"rename__click (subtasklist)\",\"open_workload__click (navigation)\",\"double_click_open_task (timeline_view)\",\"edit_report__click (reporting)\",\"edit_report_cancel__click (reporting)\",\"builder_discard_changes__click (request_form)\",\"manage_permissions_button__click (users_and_groups)\",\"keep_account_2__click (accounts)\",\"invitations_settings_save__click (accounts)\",\"folder_quick_result_more_results__shown (search)\",\"folder_quick_result_more_results__click (search)\",\"onb_templates_video_play__click (templates)\",\"tutorial_show__click (scheduling)\"]},\"id\":\"1987\",\"type\":\"FactorRange\"},{\"attributes\":{},\"id\":\"2090\",\"type\":\"UnionRenderers\"},{\"attributes\":{\"text\":\"Top 1-40 differentiated events in paid compared to free active (3+ weeks) with 2+ users\",\"text_color\":{\"value\":\"#666666\"},\"text_font_size\":{\"value\":\"12pt\"}},\"id\":\"2007\",\"type\":\"Title\"},{\"attributes\":{},\"id\":\"1991\",\"type\":\"CategoricalScale\"},{\"attributes\":{},\"id\":\"1989\",\"type\":\"LinearScale\"},{\"attributes\":{\"axis_label_text_color\":\"#666666\",\"axis_label_text_font_size\":\"11pt\",\"axis_label_text_font_style\":\"bold\",\"axis_line_color\":\"#C0C0C0\",\"formatter\":{\"id\":\"2011\"},\"major_label_text_color\":\"#898989\",\"major_label_text_font_size\":\"10pt\",\"major_tick_in\":0,\"major_tick_line_color\":\"#C0C0C0\",\"major_tick_out\":4,\"minor_tick_line_color\":\"#C0C0C0\",\"minor_tick_out\":1,\"ticker\":{\"id\":\"1994\"}},\"id\":\"1993\",\"type\":\"LinearAxis\"},{\"attributes\":{\"axis\":{\"id\":\"1993\"},\"grid_line_color\":null,\"ticker\":null},\"id\":\"1996\",\"type\":\"Grid\"},{\"attributes\":{},\"id\":\"2089\",\"type\":\"Selection\"},{\"attributes\":{},\"id\":\"2087\",\"type\":\"CategoricalTickFormatter\"},{\"attributes\":{\"axis\":{\"id\":\"1997\"},\"dimension\":1,\"grid_line_color\":null,\"ticker\":null},\"id\":\"1999\",\"type\":\"Grid\"},{\"attributes\":{\"fill_alpha\":{\"value\":0.1},\"fill_color\":{\"value\":\"#1f77b4\"},\"height\":{\"value\":0.9},\"line_alpha\":{\"value\":0.1},\"line_color\":{\"value\":\"white\"},\"right\":{\"field\":\"diff share\"},\"y\":{\"field\":\"factors\"}},\"id\":\"2015\",\"type\":\"HBar\"},{\"attributes\":{\"source\":{\"id\":\"2010\"}},\"id\":\"2017\",\"type\":\"CDSView\"},{\"attributes\":{},\"id\":\"1998\",\"type\":\"CategoricalTicker\"},{\"attributes\":{\"data_source\":{\"id\":\"2010\"},\"glyph\":{\"id\":\"2014\"},\"hover_glyph\":null,\"muted_glyph\":null,\"nonselection_glyph\":{\"id\":\"2015\"},\"selection_glyph\":null,\"view\":{\"id\":\"2017\"}},\"id\":\"2016\",\"type\":\"GlyphRenderer\"},{\"attributes\":{\"fill_color\":{\"value\":\"#1f77b4\"},\"height\":{\"value\":0.9},\"line_color\":{\"value\":\"white\"},\"right\":{\"field\":\"diff share\"},\"y\":{\"field\":\"factors\"}},\"id\":\"2014\",\"type\":\"HBar\"},{\"attributes\":{\"axis_label_text_color\":\"#666666\",\"axis_label_text_font_size\":\"11pt\",\"axis_label_text_font_style\":\"bold\",\"axis_line_color\":\"#C0C0C0\",\"formatter\":{\"id\":\"2087\"},\"group_label_orientation\":\"normal\",\"group_text_font_size\":\"11pt\",\"major_label_orientation\":\"horizontal\",\"major_label_text_color\":\"#898989\",\"major_label_text_font_size\":\"10pt\",\"major_tick_in\":0,\"major_tick_line_color\":\"#C0C0C0\",\"major_tick_out\":4,\"minor_tick_line_color\":\"#C0C0C0\",\"minor_tick_out\":1,\"separator_line_alpha\":0,\"subgroup_label_orientation\":\"normal\",\"subgroup_text_font_size\":\"11pt\",\"ticker\":{\"id\":\"1998\"}},\"id\":\"1997\",\"type\":\"CategoricalAxis\"},{\"attributes\":{\"end\":0,\"start\":null},\"id\":\"1985\",\"type\":\"DataRange1d\"},{\"attributes\":{\"data\":{\"diff share\":{\"__ndarray__\":\"mpmZmZl9ssAAAAAAAIWywJqZmZmZhrLAAAAAAACsssAAAAAAAKyywAAAAAAArLLAAAAAAADkssAAAAAAAOSywAAAAAAA5LLAMzMzM7P6ssAAAAAAAPyywAAAAAAA/LLAZmZmZuYCs8AzMzMzMzSzwAAAAAAAqsTAAAAAAACqxMAAAAAAAKrEwAAAAAAAqsTAAAAAAACqxMAAAAAAAKrEwAAAAAAAqsTAAAAAAACqxMAAAAAAAKrEwAAAAAAAqsTAAAAAAACqxMAAAAAAAKrEwAAAAAAAqsTAAAAAAACqxMAAAAAAAKrEwAAAAAAAqsTAAAAAAACqxMAAAAAAAKrEwAAAAAAAqsTAAAAAAACqxMAAAAAAAKrEwAAAAAAAqsTAAAAAAACqxMAAAAAAAKrEwAAAAAAAqsTAAAAAAADUxMA=\",\"dtype\":\"float64\",\"order\":\"little\",\"shape\":[40]},\"factors\":[\"snapshot_info__click (timeline)\",\"new_calendar__confirm (calendars)\",\"back__click (templates)\",\"update__apply (timeline)\",\"snapshot__share (timeline)\",\"navigation_plus_dropdown__click (sidebar)\",\"dashboard__rename (dashboard)\",\"dashboard_rename_item__click (dashboard)\",\"onb_templates_continue__click (templates)\",\"tasks_assignees__changed (task_list)\",\"dashboard_delete_item__click (dashboard)\",\"dashboard__delete (dashboard)\",\"widget_gallery_advanced_mode__click (dashboard)\",\"dependency__add (timeline)\",\"file_drilldown__click (dashboard)\",\"file_popup__shown (dashboard)\",\"change_dependency_type__click (dependencies)\",\"unfollow (task_follow)\",\"create_quick_backup__click (accounts)\",\"detach__click (subtasklist)\",\"shared_list__changed (reporting)\",\"share_report_click (reporting)\",\"sent_snapshot_email_click (reporting)\",\"send_snapshot_email_canceled (reporting)\",\"save_permissions_password_popup_confirm_button__click (users_and_groups)\",\"report_shared (reporting)\",\"report__renamed (reporting)\",\"rename__click (subtasklist)\",\"open_workload__click (navigation)\",\"double_click_open_task (timeline_view)\",\"edit_report__click (reporting)\",\"edit_report_cancel__click (reporting)\",\"builder_discard_changes__click (request_form)\",\"manage_permissions_button__click (users_and_groups)\",\"keep_account_2__click (accounts)\",\"invitations_settings_save__click (accounts)\",\"folder_quick_result_more_results__shown (search)\",\"folder_quick_result_more_results__click (search)\",\"onb_templates_video_play__click (templates)\",\"tutorial_show__click (scheduling)\"],\"index\":[0,1,2,3,4,5,6,7,8,9,10,11,12,13,14,15,16,17,18,19,20,21,22,23,24,25,26,27,28,29,30,31,32,33,34,35,36,37,38,39]},\"name\":\"Series:\",\"selected\":{\"id\":\"2089\"},\"selection_policy\":{\"id\":\"2090\"}},\"id\":\"2010\",\"type\":\"ColumnDataSource\"},{\"attributes\":{\"format\":\"0,0.[00000]\"},\"id\":\"2011\",\"type\":\"NumeralTickFormatter\"},{\"attributes\":{},\"id\":\"2000\",\"type\":\"SaveTool\"},{\"attributes\":{},\"id\":\"1994\",\"type\":\"BasicTicker\"},{\"attributes\":{\"active_drag\":null,\"active_inspect\":\"auto\",\"active_multi\":null,\"active_scroll\":\"auto\",\"active_tap\":\"auto\",\"logo\":null,\"tools\":[{\"id\":\"2000\"}]},\"id\":\"2001\",\"type\":\"Toolbar\"},{\"attributes\":{\"text\":\"\",\"text_color\":{\"value\":\"#333333\"},\"text_font_size\":{\"value\":\"18pt\"}},\"id\":\"2003\",\"type\":\"Title\"},{\"attributes\":{\"level\":\"overlay\",\"name\":\"subtitle\",\"text\":\"\",\"text_align\":\"right\",\"text_color\":\"#898989\",\"text_font_size\":\"10px\",\"x\":864.0,\"x_units\":\"screen\",\"y\":0,\"y_units\":\"screen\"},\"id\":\"2006\",\"type\":\"Label\"}],\"root_ids\":[\"1984\"]},\"title\":\"Bokeh Application\",\"version\":\"2.2.3\"}};\n",
       "  var render_items = [{\"docid\":\"6c252f99-8262-403b-b33b-a90d86b064eb\",\"root_ids\":[\"1984\"],\"roots\":{\"1984\":\"1ecd0876-efc9-4279-8740-6e8c037d2f7c\"}}];\n",
       "  root.Bokeh.embed.embed_items_notebook(docs_json, render_items);\n",
       "\n",
       "  }\n",
       "  if (root.Bokeh !== undefined) {\n",
       "    embed_document(root);\n",
       "  } else {\n",
       "    var attempts = 0;\n",
       "    var timer = setInterval(function(root) {\n",
       "      if (root.Bokeh !== undefined) {\n",
       "        clearInterval(timer);\n",
       "        embed_document(root);\n",
       "      } else {\n",
       "        attempts++;\n",
       "        if (attempts > 100) {\n",
       "          clearInterval(timer);\n",
       "          console.log(\"Bokeh: ERROR: Unable to run BokehJS code because BokehJS library is missing\");\n",
       "        }\n",
       "      }\n",
       "    }, 10, root)\n",
       "  }\n",
       "})(window);"
      ],
      "application/vnd.bokehjs_exec.v0+json": ""
     },
     "metadata": {
      "application/vnd.bokehjs_exec.v0+json": {
       "id": "1984"
      }
     },
     "output_type": "display_data"
    }
   ],
   "source": [
    "mask = (diff <-1000)\n",
    "events_diff = pd.DataFrame(diff[mask].sort_values(ascending=True)[80:120],columns = ['diff share']).reset_index()\n",
    "ch = chartify.Chart(blank_labels=True, y_axis_type='categorical')\n",
    "ch.set_subtitle(\"Top 1-40 differentiated events in paid compared to free active (3+ weeks) with 2+ users\")\n",
    "ch.plot.bar(\n",
    "    data_frame=events_diff,\n",
    "    categorical_columns=['event_group'],\n",
    "    numeric_column='diff share',\n",
    "    categorical_order_ascending=False)\n",
    "ch.figure.height = 600\n",
    "ch.figure.width = 1000\n",
    "ch.axes.set_yaxis_tick_orientation('horizontal')\n",
    "ch.show()"
   ]
  },
  {
   "cell_type": "markdown",
   "metadata": {},
   "source": [
    "#### Difference in events between free active (3+ weeks) with 2+ users and within trial active with 2+ users"
   ]
  },
  {
   "cell_type": "code",
   "execution_count": 113,
   "metadata": {},
   "outputs": [],
   "source": [
    "s = (events_final_score_by_acc_type['free active (3+ weeks) with 2+ users'] - \\\n",
    "        events_final_score_by_acc_type['within trial active with 2+ users'])\n",
    "# diff = s.where((s>0)|(s<0),0.001)\n",
    "diff = s"
   ]
  },
  {
   "cell_type": "code",
   "execution_count": 117,
   "metadata": {},
   "outputs": [
    {
     "data": {
      "text/html": [
       "\n",
       "\n",
       "\n",
       "\n",
       "\n",
       "\n",
       "  <div class=\"bk-root\" id=\"9b7f71c1-65d0-4672-a0fb-47e6563f6818\" data-root-id=\"5647\"></div>\n"
      ]
     },
     "metadata": {},
     "output_type": "display_data"
    },
    {
     "data": {
      "application/javascript": [
       "(function(root) {\n",
       "  function embed_document(root) {\n",
       "    \n",
       "  var docs_json = {\"f47c364f-a186-4b42-9f36-662595a22d4b\":{\"roots\":{\"references\":[{\"attributes\":{\"above\":[{\"id\":\"5670\"}],\"background_fill_color\":\"white\",\"below\":[{\"id\":\"5656\"},{\"id\":\"5669\"}],\"border_fill_color\":\"white\",\"center\":[{\"id\":\"5659\"},{\"id\":\"5662\"}],\"height\":600,\"left\":[{\"id\":\"5660\"}],\"min_border_bottom\":60,\"min_border_left\":60,\"min_border_right\":60,\"min_border_top\":40,\"outline_line_color\":\"white\",\"plot_height\":540,\"plot_width\":960,\"renderers\":[{\"id\":\"5679\"}],\"title\":{\"id\":\"5666\"},\"toolbar\":{\"id\":\"5664\"},\"width\":1000,\"x_range\":{\"id\":\"5648\"},\"x_scale\":{\"id\":\"5652\"},\"y_range\":{\"id\":\"5650\"},\"y_scale\":{\"id\":\"5654\"}},\"id\":\"5647\",\"subtype\":\"Figure\",\"type\":\"Plot\"},{\"attributes\":{},\"id\":\"5654\",\"type\":\"CategoricalScale\"},{\"attributes\":{},\"id\":\"5652\",\"type\":\"LinearScale\"},{\"attributes\":{\"factor_padding\":0.25,\"factors\":[\"permalink_item__chosen (taskview)\",\"rename (table2)\",\"attach_website_link_click (attachment_components)\",\"app__create (applications)\",\"turn_into_project_click (task_list)\",\"task_importance_low__click (task_list)\",\"task_full_results_back_button__click (search)\",\"zoom_fit__click (proofing)\",\"new_t_report__click (reporting)\",\"create_t_report_dialog__shown (reporting)\",\"copy_permalink__click (configurable_views)\",\"space_object__open (spaces)\",\"task_card_display__changed (folder_header)\",\"task_list_display__changed (folder_header)\",\"slack_integration_click (integrations)\",\"delete_comment_button__click (comment_field)\",\"tasks__deleted (task_list)\",\"format_via_toolbar__chosen (comment_field)\",\"new_subtask__added (subtasklist)\",\"login_existing_button__click (ms_teams)\",\"show_empty_folders__click (table2)\",\"sort_by_date_click (attachments)\",\"archive_all (inbox)\",\"space_object__create (spaces)\",\"cfmanager_open_view__click (cfmanager)\",\"task_open__click (inbox)\",\"add_new_version_click (attachments)\",\"forget__click (login)\",\"delete_all_click (attachments)\",\"task_follow__click (taskview)\",\"configure_app_click (api)\",\"tasks__removed_from_my_todo (task_list)\",\"tasks_context_menu__remove_from_my_todo (task_list)\",\"open_in_a_new_tab_context_menu__click (attachments)\",\"subtask__click (subtasklist)\",\"file_popup__shown (file_view)\",\"freeze_column__click (table2)\",\"new_calendar_popup__shown (calendars)\",\"new_calendar__click (calendars)\",\"submit__click (login)\"]},\"id\":\"5650\",\"type\":\"FactorRange\"},{\"attributes\":{\"axis\":{\"id\":\"5660\"},\"dimension\":1,\"grid_line_color\":null,\"ticker\":null},\"id\":\"5662\",\"type\":\"Grid\"},{\"attributes\":{\"data\":{\"diff share\":{\"__ndarray__\":\"AAAAAABwkcCZmZmZme2RwM3MzMzMDpLAZmZmZmYWksAzMzMzMxmSwMzMzMzMWJLAZmZmZmZgksCamZmZmYeSwGZmZmZmdJPAZmZmZmZ0k8BmZmZmZsCTwM3MzMzMWpTAAAAAAABclMBmZmZmZl6UwJqZmZmZkZTAZmZmZmaYlcAAAAAAAPiWwDQzMzMzG5fAzszMzMx+l8BmZmZmZgKYwJqZmZmZDZjAAAAAAAC+mMAAAAAAAOSYwAAAAAAAeJnAAAAAAAC4msAAAAAAALiawAAAAAAAuJrAAAAAAAC4msDNzMzMzE6cwJqZmZmZm5zAZmZmZmbinMAzMzMzM+2dwDMzMzMz7Z3AMjMzMzO7n8BmZmZmZp2gwAAAAAAAg6HAAAAAAADxocAzMzMzMwKjwDMzMzMzAqPAAAAAAADEo8A=\",\"dtype\":\"float64\",\"order\":\"little\",\"shape\":[40]},\"factors\":[\"permalink_item__chosen (taskview)\",\"rename (table2)\",\"attach_website_link_click (attachment_components)\",\"app__create (applications)\",\"turn_into_project_click (task_list)\",\"task_importance_low__click (task_list)\",\"task_full_results_back_button__click (search)\",\"zoom_fit__click (proofing)\",\"new_t_report__click (reporting)\",\"create_t_report_dialog__shown (reporting)\",\"copy_permalink__click (configurable_views)\",\"space_object__open (spaces)\",\"task_card_display__changed (folder_header)\",\"task_list_display__changed (folder_header)\",\"slack_integration_click (integrations)\",\"delete_comment_button__click (comment_field)\",\"tasks__deleted (task_list)\",\"format_via_toolbar__chosen (comment_field)\",\"new_subtask__added (subtasklist)\",\"login_existing_button__click (ms_teams)\",\"show_empty_folders__click (table2)\",\"sort_by_date_click (attachments)\",\"archive_all (inbox)\",\"space_object__create (spaces)\",\"cfmanager_open_view__click (cfmanager)\",\"task_open__click (inbox)\",\"add_new_version_click (attachments)\",\"forget__click (login)\",\"delete_all_click (attachments)\",\"task_follow__click (taskview)\",\"configure_app_click (api)\",\"tasks__removed_from_my_todo (task_list)\",\"tasks_context_menu__remove_from_my_todo (task_list)\",\"open_in_a_new_tab_context_menu__click (attachments)\",\"subtask__click (subtasklist)\",\"file_popup__shown (file_view)\",\"freeze_column__click (table2)\",\"new_calendar_popup__shown (calendars)\",\"new_calendar__click (calendars)\",\"submit__click (login)\"],\"index\":[0,1,2,3,4,5,6,7,8,9,10,11,12,13,14,15,16,17,18,19,20,21,22,23,24,25,26,27,28,29,30,31,32,33,34,35,36,37,38,39]},\"name\":\"Series:\",\"selected\":{\"id\":\"5878\"},\"selection_policy\":{\"id\":\"5879\"}},\"id\":\"5673\",\"type\":\"ColumnDataSource\"},{\"attributes\":{},\"id\":\"5661\",\"type\":\"CategoricalTicker\"},{\"attributes\":{\"axis_label_text_color\":\"#666666\",\"axis_label_text_font_size\":\"11pt\",\"axis_label_text_font_style\":\"bold\",\"axis_line_color\":\"#C0C0C0\",\"formatter\":{\"id\":\"5876\"},\"group_label_orientation\":\"normal\",\"group_text_font_size\":\"11pt\",\"major_label_orientation\":\"horizontal\",\"major_label_text_color\":\"#898989\",\"major_label_text_font_size\":\"10pt\",\"major_tick_in\":0,\"major_tick_line_color\":\"#C0C0C0\",\"major_tick_out\":4,\"minor_tick_line_color\":\"#C0C0C0\",\"minor_tick_out\":1,\"separator_line_alpha\":0,\"subgroup_label_orientation\":\"normal\",\"subgroup_text_font_size\":\"11pt\",\"ticker\":{\"id\":\"5661\"}},\"id\":\"5660\",\"type\":\"CategoricalAxis\"},{\"attributes\":{\"end\":0,\"start\":null},\"id\":\"5648\",\"type\":\"DataRange1d\"},{\"attributes\":{\"active_drag\":null,\"active_inspect\":\"auto\",\"active_multi\":null,\"active_scroll\":\"auto\",\"active_tap\":\"auto\",\"logo\":null,\"tools\":[{\"id\":\"5663\"}]},\"id\":\"5664\",\"type\":\"Toolbar\"},{\"attributes\":{\"axis\":{\"id\":\"5656\"},\"grid_line_color\":null,\"ticker\":null},\"id\":\"5659\",\"type\":\"Grid\"},{\"attributes\":{\"source\":{\"id\":\"5673\"}},\"id\":\"5680\",\"type\":\"CDSView\"},{\"attributes\":{},\"id\":\"5657\",\"type\":\"BasicTicker\"},{\"attributes\":{\"fill_color\":{\"value\":\"#1f77b4\"},\"height\":{\"value\":0.9},\"line_color\":{\"value\":\"white\"},\"right\":{\"field\":\"diff share\"},\"y\":{\"field\":\"factors\"}},\"id\":\"5677\",\"type\":\"HBar\"},{\"attributes\":{\"level\":\"overlay\",\"name\":\"subtitle\",\"text\":\"\",\"text_align\":\"right\",\"text_color\":\"#898989\",\"text_font_size\":\"10px\",\"x\":864.0,\"x_units\":\"screen\",\"y\":0,\"y_units\":\"screen\"},\"id\":\"5669\",\"type\":\"Label\"},{\"attributes\":{},\"id\":\"5879\",\"type\":\"UnionRenderers\"},{\"attributes\":{\"data_source\":{\"id\":\"5673\"},\"glyph\":{\"id\":\"5677\"},\"hover_glyph\":null,\"muted_glyph\":null,\"nonselection_glyph\":{\"id\":\"5678\"},\"selection_glyph\":null,\"view\":{\"id\":\"5680\"}},\"id\":\"5679\",\"type\":\"GlyphRenderer\"},{\"attributes\":{\"axis_label_text_color\":\"#666666\",\"axis_label_text_font_size\":\"11pt\",\"axis_label_text_font_style\":\"bold\",\"axis_line_color\":\"#C0C0C0\",\"formatter\":{\"id\":\"5674\"},\"major_label_text_color\":\"#898989\",\"major_label_text_font_size\":\"10pt\",\"major_tick_in\":0,\"major_tick_line_color\":\"#C0C0C0\",\"major_tick_out\":4,\"minor_tick_line_color\":\"#C0C0C0\",\"minor_tick_out\":1,\"ticker\":{\"id\":\"5657\"}},\"id\":\"5656\",\"type\":\"LinearAxis\"},{\"attributes\":{},\"id\":\"5878\",\"type\":\"Selection\"},{\"attributes\":{\"text\":\"\",\"text_color\":{\"value\":\"#333333\"},\"text_font_size\":{\"value\":\"18pt\"}},\"id\":\"5666\",\"type\":\"Title\"},{\"attributes\":{},\"id\":\"5876\",\"type\":\"CategoricalTickFormatter\"},{\"attributes\":{\"format\":\"0,0.[0000]\"},\"id\":\"5674\",\"type\":\"NumeralTickFormatter\"},{\"attributes\":{\"text\":\"Top 40-80 differentiated events in free active (3+ weeks) compared to within trial active with 2+ users\",\"text_color\":{\"value\":\"#666666\"},\"text_font_size\":{\"value\":\"12pt\"}},\"id\":\"5670\",\"type\":\"Title\"},{\"attributes\":{\"fill_alpha\":{\"value\":0.1},\"fill_color\":{\"value\":\"#1f77b4\"},\"height\":{\"value\":0.9},\"line_alpha\":{\"value\":0.1},\"line_color\":{\"value\":\"white\"},\"right\":{\"field\":\"diff share\"},\"y\":{\"field\":\"factors\"}},\"id\":\"5678\",\"type\":\"HBar\"},{\"attributes\":{},\"id\":\"5663\",\"type\":\"SaveTool\"}],\"root_ids\":[\"5647\"]},\"title\":\"Bokeh Application\",\"version\":\"2.2.3\"}};\n",
       "  var render_items = [{\"docid\":\"f47c364f-a186-4b42-9f36-662595a22d4b\",\"root_ids\":[\"5647\"],\"roots\":{\"5647\":\"9b7f71c1-65d0-4672-a0fb-47e6563f6818\"}}];\n",
       "  root.Bokeh.embed.embed_items_notebook(docs_json, render_items);\n",
       "\n",
       "  }\n",
       "  if (root.Bokeh !== undefined) {\n",
       "    embed_document(root);\n",
       "  } else {\n",
       "    var attempts = 0;\n",
       "    var timer = setInterval(function(root) {\n",
       "      if (root.Bokeh !== undefined) {\n",
       "        clearInterval(timer);\n",
       "        embed_document(root);\n",
       "      } else {\n",
       "        attempts++;\n",
       "        if (attempts > 100) {\n",
       "          clearInterval(timer);\n",
       "          console.log(\"Bokeh: ERROR: Unable to run BokehJS code because BokehJS library is missing\");\n",
       "        }\n",
       "      }\n",
       "    }, 10, root)\n",
       "  }\n",
       "})(window);"
      ],
      "application/vnd.bokehjs_exec.v0+json": ""
     },
     "metadata": {
      "application/vnd.bokehjs_exec.v0+json": {
       "id": "5647"
      }
     },
     "output_type": "display_data"
    }
   ],
   "source": [
    "mask = ((diff > -1000)|(diff < 1000))\n",
    "events_diff = pd.DataFrame(diff[mask].sort_values(ascending=True)[200:240],columns = ['diff share']).reset_index()\n",
    "ch = chartify.Chart(blank_labels=True, y_axis_type='categorical')\n",
    "ch.set_subtitle(\"Top 40-80 differentiated events in free active (3+ weeks) compared to within trial active with 2+ users\")\n",
    "ch.plot.bar(\n",
    "    data_frame=events_diff,\n",
    "    categorical_columns=['event_group'],\n",
    "    numeric_column='diff share',\n",
    "    categorical_order_ascending=False)\n",
    "ch.figure.height = 600\n",
    "ch.figure.width = 1000\n",
    "ch.axes.set_yaxis_tick_orientation('horizontal')\n",
    "ch.show()"
   ]
  },
  {
   "cell_type": "code",
   "execution_count": null,
   "metadata": {},
   "outputs": [],
   "source": [
    "events_diff[-20:]"
   ]
  },
  {
   "cell_type": "markdown",
   "metadata": {},
   "source": [
    "## Exploratory analysis of events for different groups"
   ]
  },
  {
   "cell_type": "markdown",
   "metadata": {},
   "source": [
    "#### **Paid**"
   ]
  },
  {
   "cell_type": "code",
   "execution_count": 134,
   "metadata": {},
   "outputs": [],
   "source": [
    "df_events = events_count_by_acc_type[['paid']].sort_values(by='paid',ascending=False).reset_index()\n",
    "df_accs = num_accs_by_events_share[num_accs_by_events_share['paid']>0.2][['paid']].\\\n",
    "            sort_values(by='paid',ascending=False).reset_index()\n",
    "df_scores = events_score_by_acc_type[events_score_by_acc_type['paid']<5][['paid']].\\\n",
    "            sort_values(by='paid',ascending=True).reset_index()\n",
    "df_final_scores = events_final_score_by_acc_type[events_final_score_by_acc_type['paid']<100][['paid']].\\\n",
    "            sort_values(by='paid',ascending=True).reset_index()"
   ]
  },
  {
   "cell_type": "code",
   "execution_count": 137,
   "metadata": {},
   "outputs": [
    {
     "data": {
      "text/html": [
       "\n",
       "\n",
       "\n",
       "\n",
       "\n",
       "\n",
       "  <div class=\"bk-root\" id=\"aada7f36-7c07-4baf-b97e-1e6d9fd251b3\" data-root-id=\"10076\"></div>\n"
      ]
     },
     "metadata": {},
     "output_type": "display_data"
    },
    {
     "data": {
      "application/javascript": [
       "(function(root) {\n",
       "  function embed_document(root) {\n",
       "    \n",
       "  var docs_json = {\"d4d7ef37-62ac-42f1-8a3b-52dcd7e60a29\":{\"roots\":{\"references\":[{\"attributes\":{\"above\":[{\"id\":\"10099\"}],\"background_fill_color\":\"white\",\"below\":[{\"id\":\"10085\"},{\"id\":\"10098\"}],\"border_fill_color\":\"white\",\"center\":[{\"id\":\"10088\"},{\"id\":\"10091\"}],\"height\":600,\"left\":[{\"id\":\"10089\"}],\"min_border_bottom\":60,\"min_border_left\":60,\"min_border_right\":60,\"min_border_top\":40,\"outline_line_color\":\"white\",\"plot_height\":540,\"plot_width\":960,\"renderers\":[{\"id\":\"10109\"}],\"title\":{\"id\":\"10095\"},\"toolbar\":{\"id\":\"10093\"},\"width\":1000,\"x_range\":{\"id\":\"10077\"},\"x_scale\":{\"id\":\"10081\"},\"y_range\":{\"id\":\"10079\"},\"y_scale\":{\"id\":\"10083\"}},\"id\":\"10076\",\"subtype\":\"Figure\",\"type\":\"Plot\"},{\"attributes\":{\"fill_color\":{\"value\":\"#1f77b4\"},\"height\":{\"value\":0.9},\"line_color\":{\"value\":\"white\"},\"right\":{\"field\":\"paid\"},\"y\":{\"field\":\"factors\"}},\"id\":\"10107\",\"type\":\"HBar\"},{\"attributes\":{\"data_source\":{\"id\":\"10103\"},\"glyph\":{\"id\":\"10107\"},\"hover_glyph\":null,\"muted_glyph\":null,\"nonselection_glyph\":{\"id\":\"10108\"},\"selection_glyph\":null,\"view\":{\"id\":\"10110\"}},\"id\":\"10109\",\"type\":\"GlyphRenderer\"},{\"attributes\":{\"end\":null,\"start\":0},\"id\":\"10077\",\"type\":\"DataRange1d\"},{\"attributes\":{\"data\":{\"factors\":[\"text__formatted (live_editor)\",\"open_reports__click (navigation)\",\"template_card__click (dashboard)\",\"new_subtask_suggest__shown (subtasklist)\",\"open_attachment_click (attachments)\",\"element__click (wrike_guide)\",\"file__render (proofing)\",\"invite_users_button__click (invitation)\",\"open_calendar__click (navigation)\",\"welcome_quest_show (reporting)\",\"sharing_dialog__shown (sharing)\",\"app_directory_page__shown (apps_integrations)\",\"user_avatar__click (task_list)\",\"new_space__shown (spaces)\",\"app_card__click (apps_integrations)\",\"mention_item__chosen (comment_field)\",\"visit_app (calendars_performance)\",\"viewer_open (proofing)\",\"user_picker__shown (task_list)\",\"emails_page__shown (profile)\",\"edit_space__shown (spaces)\",\"sync_subtasks_popup__shown (task)\",\"theme_mosaic__click (profile_themes)\",\"tableview_open_overlay__click (table2)\",\"change_task_status__dnd (boards)\",\"task_delete__click (task_list)\",\"add_file_from_source_click (attachments)\",\"default_view__changed (projects)\",\"task__rescheduled (timeline)\",\"attach_menu__open (attachments)\"],\"index\":[0,1,2,3,4,5,6,7,8,9,10,11,12,13,14,15,16,17,18,19,20,21,22,23,24,25,26,27,28,29],\"paid\":{\"__ndarray__\":\"mpmZmZmZKUCamZmZmZkpQGZmZmZmZilAZmZmZmZmKUAzMzMzMzMpQDMzMzMzMylAAAAAAAAAKUBmZmZmZmYoQGZmZmZmZidAZmZmZmZmJ0CamZmZmZkmQJqZmZmZmSZAmpmZmZmZJkAAAAAAAAAmQAAAAAAAACZAAAAAAAAAJkDNzMzMzMwlQDMzMzMzMyVAmpmZmZmZJEAzMzMzMzMjQDMzMzMzMyJAMzMzMzMzIkDNzMzMzMwhQGZmZmZmZiFAAAAAAAAAIUBmZmZmZmYgQAAAAAAAACBAZmZmZmZmHkAzMzMzMzMdQGZmZmZmZhxA\",\"dtype\":\"float64\",\"order\":\"little\",\"shape\":[30]}},\"name\":\"Series:\",\"selected\":{\"id\":\"10406\"},\"selection_policy\":{\"id\":\"10407\"}},\"id\":\"10103\",\"type\":\"ColumnDataSource\"},{\"attributes\":{\"level\":\"overlay\",\"name\":\"subtitle\",\"text\":\"\",\"text_align\":\"right\",\"text_color\":\"#898989\",\"text_font_size\":\"10px\",\"x\":864.0,\"x_units\":\"screen\",\"y\":0,\"y_units\":\"screen\"},\"id\":\"10098\",\"type\":\"Label\"},{\"attributes\":{\"text\":\"Sorts by integrated event score (the lower score - the more recurring event in most of accs)\",\"text_color\":{\"value\":\"#666666\"},\"text_font_size\":{\"value\":\"12pt\"}},\"id\":\"10099\",\"type\":\"Title\"},{\"attributes\":{\"format\":\"0,0.[00]\"},\"id\":\"10104\",\"type\":\"NumeralTickFormatter\"},{\"attributes\":{\"axis_label_text_color\":\"#666666\",\"axis_label_text_font_size\":\"11pt\",\"axis_label_text_font_style\":\"bold\",\"axis_line_color\":\"#C0C0C0\",\"formatter\":{\"id\":\"10104\"},\"major_label_text_color\":\"#898989\",\"major_label_text_font_size\":\"10pt\",\"major_tick_in\":0,\"major_tick_line_color\":\"#C0C0C0\",\"major_tick_out\":4,\"minor_tick_line_color\":\"#C0C0C0\",\"minor_tick_out\":1,\"ticker\":{\"id\":\"10086\"}},\"id\":\"10085\",\"type\":\"LinearAxis\"},{\"attributes\":{},\"id\":\"10406\",\"type\":\"Selection\"},{\"attributes\":{},\"id\":\"10090\",\"type\":\"CategoricalTicker\"},{\"attributes\":{},\"id\":\"10086\",\"type\":\"BasicTicker\"},{\"attributes\":{\"axis\":{\"id\":\"10089\"},\"dimension\":1,\"grid_line_color\":null,\"ticker\":null},\"id\":\"10091\",\"type\":\"Grid\"},{\"attributes\":{\"axis_label_text_color\":\"#666666\",\"axis_label_text_font_size\":\"11pt\",\"axis_label_text_font_style\":\"bold\",\"axis_line_color\":\"#C0C0C0\",\"formatter\":{\"id\":\"10404\"},\"group_label_orientation\":\"normal\",\"group_text_font_size\":\"11pt\",\"major_label_orientation\":\"horizontal\",\"major_label_text_color\":\"#898989\",\"major_label_text_font_size\":\"10pt\",\"major_tick_in\":0,\"major_tick_line_color\":\"#C0C0C0\",\"major_tick_out\":4,\"minor_tick_line_color\":\"#C0C0C0\",\"minor_tick_out\":1,\"separator_line_alpha\":0,\"subgroup_label_orientation\":\"normal\",\"subgroup_text_font_size\":\"11pt\",\"ticker\":{\"id\":\"10090\"}},\"id\":\"10089\",\"type\":\"CategoricalAxis\"},{\"attributes\":{\"source\":{\"id\":\"10103\"}},\"id\":\"10110\",\"type\":\"CDSView\"},{\"attributes\":{},\"id\":\"10081\",\"type\":\"LinearScale\"},{\"attributes\":{\"factor_padding\":0.25,\"factors\":[\"text__formatted (live_editor)\",\"open_reports__click (navigation)\",\"template_card__click (dashboard)\",\"new_subtask_suggest__shown (subtasklist)\",\"open_attachment_click (attachments)\",\"element__click (wrike_guide)\",\"file__render (proofing)\",\"invite_users_button__click (invitation)\",\"open_calendar__click (navigation)\",\"welcome_quest_show (reporting)\",\"sharing_dialog__shown (sharing)\",\"app_directory_page__shown (apps_integrations)\",\"user_avatar__click (task_list)\",\"new_space__shown (spaces)\",\"app_card__click (apps_integrations)\",\"mention_item__chosen (comment_field)\",\"visit_app (calendars_performance)\",\"viewer_open (proofing)\",\"user_picker__shown (task_list)\",\"emails_page__shown (profile)\",\"edit_space__shown (spaces)\",\"sync_subtasks_popup__shown (task)\",\"theme_mosaic__click (profile_themes)\",\"tableview_open_overlay__click (table2)\",\"change_task_status__dnd (boards)\",\"task_delete__click (task_list)\",\"add_file_from_source_click (attachments)\",\"default_view__changed (projects)\",\"task__rescheduled (timeline)\",\"attach_menu__open (attachments)\"]},\"id\":\"10079\",\"type\":\"FactorRange\"},{\"attributes\":{},\"id\":\"10404\",\"type\":\"CategoricalTickFormatter\"},{\"attributes\":{\"fill_alpha\":{\"value\":0.1},\"fill_color\":{\"value\":\"#1f77b4\"},\"height\":{\"value\":0.9},\"line_alpha\":{\"value\":0.1},\"line_color\":{\"value\":\"white\"},\"right\":{\"field\":\"paid\"},\"y\":{\"field\":\"factors\"}},\"id\":\"10108\",\"type\":\"HBar\"},{\"attributes\":{\"active_drag\":null,\"active_inspect\":\"auto\",\"active_multi\":null,\"active_scroll\":\"auto\",\"active_tap\":\"auto\",\"logo\":null,\"tools\":[{\"id\":\"10092\"}]},\"id\":\"10093\",\"type\":\"Toolbar\"},{\"attributes\":{},\"id\":\"10092\",\"type\":\"SaveTool\"},{\"attributes\":{\"axis\":{\"id\":\"10085\"},\"grid_line_color\":null,\"ticker\":null},\"id\":\"10088\",\"type\":\"Grid\"},{\"attributes\":{\"text\":\"Top 30-60 events for paid\",\"text_color\":{\"value\":\"#333333\"},\"text_font_size\":{\"value\":\"18pt\"}},\"id\":\"10095\",\"type\":\"Title\"},{\"attributes\":{},\"id\":\"10083\",\"type\":\"CategoricalScale\"},{\"attributes\":{},\"id\":\"10407\",\"type\":\"UnionRenderers\"}],\"root_ids\":[\"10076\"]},\"title\":\"Bokeh Application\",\"version\":\"2.2.3\"}};\n",
       "  var render_items = [{\"docid\":\"d4d7ef37-62ac-42f1-8a3b-52dcd7e60a29\",\"root_ids\":[\"10076\"],\"roots\":{\"10076\":\"aada7f36-7c07-4baf-b97e-1e6d9fd251b3\"}}];\n",
       "  root.Bokeh.embed.embed_items_notebook(docs_json, render_items);\n",
       "\n",
       "  }\n",
       "  if (root.Bokeh !== undefined) {\n",
       "    embed_document(root);\n",
       "  } else {\n",
       "    var attempts = 0;\n",
       "    var timer = setInterval(function(root) {\n",
       "      if (root.Bokeh !== undefined) {\n",
       "        clearInterval(timer);\n",
       "        embed_document(root);\n",
       "      } else {\n",
       "        attempts++;\n",
       "        if (attempts > 100) {\n",
       "          clearInterval(timer);\n",
       "          console.log(\"Bokeh: ERROR: Unable to run BokehJS code because BokehJS library is missing\");\n",
       "        }\n",
       "      }\n",
       "    }, 10, root)\n",
       "  }\n",
       "})(window);"
      ],
      "application/vnd.bokehjs_exec.v0+json": ""
     },
     "metadata": {
      "application/vnd.bokehjs_exec.v0+json": {
       "id": "10076"
      }
     },
     "output_type": "display_data"
    }
   ],
   "source": [
    "ch = chartify.Chart(blank_labels=True, y_axis_type='categorical')\n",
    "ch.set_title(\"Top 30-60 events for paid\")\n",
    "ch.set_subtitle(\"Sorts by integrated event score (the lower score - the more recurring event in most of accs)\")\n",
    "ch.plot.bar(\n",
    "    data_frame=df_final_scores[30:60],\n",
    "    categorical_columns=['event_group'],\n",
    "    numeric_column='paid',\n",
    "    categorical_order_ascending=False)\n",
    "ch.figure.height = 600\n",
    "ch.figure.width = 1000\n",
    "ch.axes.set_yaxis_tick_orientation('horizontal')\n",
    "ch.show()"
   ]
  },
  {
   "cell_type": "code",
   "execution_count": 136,
   "metadata": {},
   "outputs": [
    {
     "data": {
      "text/html": [
       "\n",
       "\n",
       "\n",
       "\n",
       "\n",
       "\n",
       "  <div class=\"bk-root\" id=\"eae34d7c-e85b-46ab-8bf6-f1a3eacd85cb\" data-root-id=\"9716\"></div>\n"
      ]
     },
     "metadata": {},
     "output_type": "display_data"
    },
    {
     "data": {
      "application/javascript": [
       "(function(root) {\n",
       "  function embed_document(root) {\n",
       "    \n",
       "  var docs_json = {\"e942cae9-3961-4daf-bced-6acd7264ebf5\":{\"roots\":{\"references\":[{\"attributes\":{\"above\":[{\"id\":\"9739\"}],\"background_fill_color\":\"white\",\"below\":[{\"id\":\"9725\"},{\"id\":\"9738\"}],\"border_fill_color\":\"white\",\"center\":[{\"id\":\"9728\"},{\"id\":\"9731\"}],\"height\":600,\"left\":[{\"id\":\"9729\"}],\"min_border_bottom\":60,\"min_border_left\":60,\"min_border_right\":60,\"min_border_top\":40,\"outline_line_color\":\"white\",\"plot_height\":540,\"plot_width\":960,\"renderers\":[{\"id\":\"9749\"}],\"title\":{\"id\":\"9735\"},\"toolbar\":{\"id\":\"9733\"},\"width\":1000,\"x_range\":{\"id\":\"9717\"},\"x_scale\":{\"id\":\"9721\"},\"y_range\":{\"id\":\"9719\"},\"y_scale\":{\"id\":\"9723\"}},\"id\":\"9716\",\"subtype\":\"Figure\",\"type\":\"Plot\"},{\"attributes\":{\"axis\":{\"id\":\"9729\"},\"dimension\":1,\"grid_line_color\":null,\"ticker\":null},\"id\":\"9731\",\"type\":\"Grid\"},{\"attributes\":{\"active_drag\":null,\"active_inspect\":\"auto\",\"active_multi\":null,\"active_scroll\":\"auto\",\"active_tap\":\"auto\",\"logo\":null,\"tools\":[{\"id\":\"9732\"}]},\"id\":\"9733\",\"type\":\"Toolbar\"},{\"attributes\":{\"text\":\"Sorts by integrated event score (the lower score - the more recurring event in most of accs)\",\"text_color\":{\"value\":\"#666666\"},\"text_font_size\":{\"value\":\"12pt\"}},\"id\":\"9739\",\"type\":\"Title\"},{\"attributes\":{\"text\":\"Top 1-30 events for paid\",\"text_color\":{\"value\":\"#333333\"},\"text_font_size\":{\"value\":\"18pt\"}},\"id\":\"9735\",\"type\":\"Title\"},{\"attributes\":{\"fill_color\":{\"value\":\"#1f77b4\"},\"height\":{\"value\":0.9},\"line_color\":{\"value\":\"white\"},\"right\":{\"field\":\"paid\"},\"y\":{\"field\":\"factors\"}},\"id\":\"9747\",\"type\":\"HBar\"},{\"attributes\":{\"axis_label_text_color\":\"#666666\",\"axis_label_text_font_size\":\"11pt\",\"axis_label_text_font_style\":\"bold\",\"axis_line_color\":\"#C0C0C0\",\"formatter\":{\"id\":\"10037\"},\"group_label_orientation\":\"normal\",\"group_text_font_size\":\"11pt\",\"major_label_orientation\":\"horizontal\",\"major_label_text_color\":\"#898989\",\"major_label_text_font_size\":\"10pt\",\"major_tick_in\":0,\"major_tick_line_color\":\"#C0C0C0\",\"major_tick_out\":4,\"minor_tick_line_color\":\"#C0C0C0\",\"minor_tick_out\":1,\"separator_line_alpha\":0,\"subgroup_label_orientation\":\"normal\",\"subgroup_text_font_size\":\"11pt\",\"ticker\":{\"id\":\"9730\"}},\"id\":\"9729\",\"type\":\"CategoricalAxis\"},{\"attributes\":{},\"id\":\"9730\",\"type\":\"CategoricalTicker\"},{\"attributes\":{\"axis_label_text_color\":\"#666666\",\"axis_label_text_font_size\":\"11pt\",\"axis_label_text_font_style\":\"bold\",\"axis_line_color\":\"#C0C0C0\",\"formatter\":{\"id\":\"9744\"},\"major_label_text_color\":\"#898989\",\"major_label_text_font_size\":\"10pt\",\"major_tick_in\":0,\"major_tick_line_color\":\"#C0C0C0\",\"major_tick_out\":4,\"minor_tick_line_color\":\"#C0C0C0\",\"minor_tick_out\":1,\"ticker\":{\"id\":\"9726\"}},\"id\":\"9725\",\"type\":\"LinearAxis\"},{\"attributes\":{\"fill_alpha\":{\"value\":0.1},\"fill_color\":{\"value\":\"#1f77b4\"},\"height\":{\"value\":0.9},\"line_alpha\":{\"value\":0.1},\"line_color\":{\"value\":\"white\"},\"right\":{\"field\":\"paid\"},\"y\":{\"field\":\"factors\"}},\"id\":\"9748\",\"type\":\"HBar\"},{\"attributes\":{},\"id\":\"10040\",\"type\":\"UnionRenderers\"},{\"attributes\":{\"format\":\"0,0.[0]\"},\"id\":\"9744\",\"type\":\"NumeralTickFormatter\"},{\"attributes\":{\"end\":null,\"start\":0},\"id\":\"9717\",\"type\":\"DataRange1d\"},{\"attributes\":{\"axis\":{\"id\":\"9725\"},\"grid_line_color\":null,\"ticker\":null},\"id\":\"9728\",\"type\":\"Grid\"},{\"attributes\":{},\"id\":\"9732\",\"type\":\"SaveTool\"},{\"attributes\":{\"data_source\":{\"id\":\"9743\"},\"glyph\":{\"id\":\"9747\"},\"hover_glyph\":null,\"muted_glyph\":null,\"nonselection_glyph\":{\"id\":\"9748\"},\"selection_glyph\":null,\"view\":{\"id\":\"9750\"}},\"id\":\"9749\",\"type\":\"GlyphRenderer\"},{\"attributes\":{\"source\":{\"id\":\"9743\"}},\"id\":\"9750\",\"type\":\"CDSView\"},{\"attributes\":{},\"id\":\"9726\",\"type\":\"BasicTicker\"},{\"attributes\":{\"factor_padding\":0.25,\"factors\":[\"start_date__change (scheduling)\",\"create_task (boards)\",\"position__change (timeline)\",\"folder_picker__shown (folder_picker)\",\"dashboard__show (dashboard)\",\"task__open (timeline)\",\"show_task (boards)\",\"subtasks__show (task_list)\",\"comment__sent (comment_field)\",\"wrike_guide__click (wrike_guide)\",\"tableview_change_value__click (table2)\",\"edit_title__click (taskview)\",\"filter_menu__open (quick_filters)\",\"dependency__add (timeline)\",\"open_mytodo__click (navigation)\",\"viewport__changing (timeline)\",\"add_project_folder_plus__click (projects)\",\"add_project_folder_plus_click (folder)\",\"mention_list__shown (contact_picker)\",\"add_assignee__click (taskview)\",\"tableview_open__view (table2)\",\"due_date__change (scheduling)\",\"groupingClick (timeline)\",\"board_view_click (boards)\",\"value__change (timeline)\",\"new_task__created (task_list)\",\"timeline_view__click (timeline)\",\"users_groups_list__shown (sharing)\",\"board_view__shown (boards)\",\"new_subtask_name__typing (subtasklist)\"]},\"id\":\"9719\",\"type\":\"FactorRange\"},{\"attributes\":{},\"id\":\"10039\",\"type\":\"Selection\"},{\"attributes\":{\"data\":{\"factors\":[\"start_date__change (scheduling)\",\"create_task (boards)\",\"position__change (timeline)\",\"folder_picker__shown (folder_picker)\",\"dashboard__show (dashboard)\",\"task__open (timeline)\",\"show_task (boards)\",\"subtasks__show (task_list)\",\"comment__sent (comment_field)\",\"wrike_guide__click (wrike_guide)\",\"tableview_change_value__click (table2)\",\"edit_title__click (taskview)\",\"filter_menu__open (quick_filters)\",\"dependency__add (timeline)\",\"open_mytodo__click (navigation)\",\"viewport__changing (timeline)\",\"add_project_folder_plus__click (projects)\",\"add_project_folder_plus_click (folder)\",\"mention_list__shown (contact_picker)\",\"add_assignee__click (taskview)\",\"tableview_open__view (table2)\",\"due_date__change (scheduling)\",\"groupingClick (timeline)\",\"board_view_click (boards)\",\"value__change (timeline)\",\"new_task__created (task_list)\",\"timeline_view__click (timeline)\",\"users_groups_list__shown (sharing)\",\"board_view__shown (boards)\",\"new_subtask_name__typing (subtasklist)\"],\"index\":[0,1,2,3,4,5,6,7,8,9,10,11,12,13,14,15,16,17,18,19,20,21,22,23,24,25,26,27,28,29],\"paid\":{\"__ndarray__\":\"AAAAAAAAHEDNzMzMzMwaQGZmZmZmZhpAZmZmZmZmGkAzMzMzMzMXQJqZmZmZmRVAMzMzMzMzFUAzMzMzMzMVQM3MzMzMzBRAmpmZmZmZE0DNzMzMzMwSQDMzMzMzMxFAMzMzMzMzD0BmZmZmZmYOQM3MzMzMzAxAMzMzMzMzC0AzMzMzMzMLQDMzMzMzMwtAZmZmZmZmCkCamZmZmZkJQJqZmZmZmQVAzczMzMzMBEAAAAAAAAAEQGZmZmZmZgJAmpmZmZmZAUBmZmZmZmb+P83MzMzMzPw/AAAAAAAA+D9mZmZmZmb2P2ZmZmZmZvY/\",\"dtype\":\"float64\",\"order\":\"little\",\"shape\":[30]}},\"name\":\"Series:\",\"selected\":{\"id\":\"10039\"},\"selection_policy\":{\"id\":\"10040\"}},\"id\":\"9743\",\"type\":\"ColumnDataSource\"},{\"attributes\":{\"level\":\"overlay\",\"name\":\"subtitle\",\"text\":\"\",\"text_align\":\"right\",\"text_color\":\"#898989\",\"text_font_size\":\"10px\",\"x\":864.0,\"x_units\":\"screen\",\"y\":0,\"y_units\":\"screen\"},\"id\":\"9738\",\"type\":\"Label\"},{\"attributes\":{},\"id\":\"9723\",\"type\":\"CategoricalScale\"},{\"attributes\":{},\"id\":\"10037\",\"type\":\"CategoricalTickFormatter\"},{\"attributes\":{},\"id\":\"9721\",\"type\":\"LinearScale\"}],\"root_ids\":[\"9716\"]},\"title\":\"Bokeh Application\",\"version\":\"2.2.3\"}};\n",
       "  var render_items = [{\"docid\":\"e942cae9-3961-4daf-bced-6acd7264ebf5\",\"root_ids\":[\"9716\"],\"roots\":{\"9716\":\"eae34d7c-e85b-46ab-8bf6-f1a3eacd85cb\"}}];\n",
       "  root.Bokeh.embed.embed_items_notebook(docs_json, render_items);\n",
       "\n",
       "  }\n",
       "  if (root.Bokeh !== undefined) {\n",
       "    embed_document(root);\n",
       "  } else {\n",
       "    var attempts = 0;\n",
       "    var timer = setInterval(function(root) {\n",
       "      if (root.Bokeh !== undefined) {\n",
       "        clearInterval(timer);\n",
       "        embed_document(root);\n",
       "      } else {\n",
       "        attempts++;\n",
       "        if (attempts > 100) {\n",
       "          clearInterval(timer);\n",
       "          console.log(\"Bokeh: ERROR: Unable to run BokehJS code because BokehJS library is missing\");\n",
       "        }\n",
       "      }\n",
       "    }, 10, root)\n",
       "  }\n",
       "})(window);"
      ],
      "application/vnd.bokehjs_exec.v0+json": ""
     },
     "metadata": {
      "application/vnd.bokehjs_exec.v0+json": {
       "id": "9716"
      }
     },
     "output_type": "display_data"
    }
   ],
   "source": [
    "ch = chartify.Chart(blank_labels=True, y_axis_type='categorical')\n",
    "ch.set_title(\"Top 1-30 events for paid\")\n",
    "ch.set_subtitle(\"Sorts by integrated event score (the lower score - the more recurring event in most of accs)\")\n",
    "ch.plot.bar(\n",
    "    data_frame=df_final_scores[0:30],\n",
    "    categorical_columns=['event_group'],\n",
    "    numeric_column='paid',\n",
    "    categorical_order_ascending=False)\n",
    "ch.figure.height = 600\n",
    "ch.figure.width = 1000\n",
    "ch.axes.set_yaxis_tick_orientation('horizontal')\n",
    "ch.show()"
   ]
  },
  {
   "cell_type": "code",
   "execution_count": 139,
   "metadata": {},
   "outputs": [
    {
     "data": {
      "text/html": [
       "\n",
       "\n",
       "\n",
       "\n",
       "\n",
       "\n",
       "  <div class=\"bk-root\" id=\"4531ee15-3d07-4a76-8f1d-bc80fe557607\" data-root-id=\"10817\"></div>\n"
      ]
     },
     "metadata": {},
     "output_type": "display_data"
    },
    {
     "data": {
      "application/javascript": [
       "(function(root) {\n",
       "  function embed_document(root) {\n",
       "    \n",
       "  var docs_json = {\"301d68c1-1816-4a15-b875-e1686099ef7f\":{\"roots\":{\"references\":[{\"attributes\":{\"above\":[{\"id\":\"10840\"}],\"background_fill_color\":\"white\",\"below\":[{\"id\":\"10826\"},{\"id\":\"10839\"}],\"border_fill_color\":\"white\",\"center\":[{\"id\":\"10829\"},{\"id\":\"10832\"}],\"height\":600,\"left\":[{\"id\":\"10830\"}],\"min_border_bottom\":60,\"min_border_left\":60,\"min_border_right\":60,\"min_border_top\":40,\"outline_line_color\":\"white\",\"plot_height\":540,\"plot_width\":960,\"renderers\":[{\"id\":\"10850\"}],\"title\":{\"id\":\"10836\"},\"toolbar\":{\"id\":\"10834\"},\"width\":1000,\"x_range\":{\"id\":\"10818\"},\"x_scale\":{\"id\":\"10822\"},\"y_range\":{\"id\":\"10820\"},\"y_scale\":{\"id\":\"10824\"}},\"id\":\"10817\",\"subtype\":\"Figure\",\"type\":\"Plot\"},{\"attributes\":{\"factor_padding\":0.25,\"factors\":[\"comment_write__tried (comment_field)\",\"dashboard__change (dashboard)\",\"navigation_show_spaces__click (sidebar)\",\"choose_project__click (projects)\",\"folder__open (timeline)\",\"sharing_indication__click (folder_header)\",\"visit_ws_before_app (calendars_performance)\",\"snapshots_panel__open (timeline)\",\"snapshots_panel__close (timeline)\",\"view_dependencies__click (taskview)\",\"dependency_dialog__open (dependencies)\",\"projects_from_subfolders__tick (dashboard)\",\"visual_settings__changed (timeline)\",\"highlight_overdue__click (timeline)\",\"profile_details_upload_avatar_button__click (profile)\",\"subtask__click (subtasklist)\",\"updates_section_save__click (profile)\",\"change_value__click (timeline)\",\"user_avatar__click (subtasklist)\",\"dashboard__create (dashboard)\",\"sorting_button__click (boards)\",\"new_subtask_close__click (subtasklist)\",\"new_subtask__added (subtasklist)\",\"folder_tag__click (taskview)\",\"view_subtasks__click (taskview)\",\"tableview_hide_column__click (table2)\",\"add_folder (table2)\",\"widget_detach_item__click (dashboard)\",\"attachment__added (comment_field)\",\"settings_in_list_via_toolbar_in_list__changed (folder_header)\"]},\"id\":\"10820\",\"type\":\"FactorRange\"},{\"attributes\":{\"fill_alpha\":{\"value\":0.1},\"fill_color\":{\"value\":\"#1f77b4\"},\"height\":{\"value\":0.9},\"line_alpha\":{\"value\":0.1},\"line_color\":{\"value\":\"white\"},\"right\":{\"field\":\"paid\"},\"y\":{\"field\":\"factors\"}},\"id\":\"10849\",\"type\":\"HBar\"},{\"attributes\":{},\"id\":\"10822\",\"type\":\"LinearScale\"},{\"attributes\":{\"data_source\":{\"id\":\"10844\"},\"glyph\":{\"id\":\"10848\"},\"hover_glyph\":null,\"muted_glyph\":null,\"nonselection_glyph\":{\"id\":\"10849\"},\"selection_glyph\":null,\"view\":{\"id\":\"10851\"}},\"id\":\"10850\",\"type\":\"GlyphRenderer\"},{\"attributes\":{},\"id\":\"10831\",\"type\":\"CategoricalTicker\"},{\"attributes\":{},\"id\":\"11159\",\"type\":\"CategoricalTickFormatter\"},{\"attributes\":{\"axis_label_text_color\":\"#666666\",\"axis_label_text_font_size\":\"11pt\",\"axis_label_text_font_style\":\"bold\",\"axis_line_color\":\"#C0C0C0\",\"formatter\":{\"id\":\"11159\"},\"group_label_orientation\":\"normal\",\"group_text_font_size\":\"11pt\",\"major_label_orientation\":\"horizontal\",\"major_label_text_color\":\"#898989\",\"major_label_text_font_size\":\"10pt\",\"major_tick_in\":0,\"major_tick_line_color\":\"#C0C0C0\",\"major_tick_out\":4,\"minor_tick_line_color\":\"#C0C0C0\",\"minor_tick_out\":1,\"separator_line_alpha\":0,\"subgroup_label_orientation\":\"normal\",\"subgroup_text_font_size\":\"11pt\",\"ticker\":{\"id\":\"10831\"}},\"id\":\"10830\",\"type\":\"CategoricalAxis\"},{\"attributes\":{\"text\":\"Top 60-90 events for paid\",\"text_color\":{\"value\":\"#333333\"},\"text_font_size\":{\"value\":\"18pt\"}},\"id\":\"10836\",\"type\":\"Title\"},{\"attributes\":{\"axis\":{\"id\":\"10830\"},\"dimension\":1,\"grid_line_color\":null,\"ticker\":null},\"id\":\"10832\",\"type\":\"Grid\"},{\"attributes\":{\"data\":{\"factors\":[\"comment_write__tried (comment_field)\",\"dashboard__change (dashboard)\",\"navigation_show_spaces__click (sidebar)\",\"choose_project__click (projects)\",\"folder__open (timeline)\",\"sharing_indication__click (folder_header)\",\"visit_ws_before_app (calendars_performance)\",\"snapshots_panel__open (timeline)\",\"snapshots_panel__close (timeline)\",\"view_dependencies__click (taskview)\",\"dependency_dialog__open (dependencies)\",\"projects_from_subfolders__tick (dashboard)\",\"visual_settings__changed (timeline)\",\"highlight_overdue__click (timeline)\",\"profile_details_upload_avatar_button__click (profile)\",\"subtask__click (subtasklist)\",\"updates_section_save__click (profile)\",\"change_value__click (timeline)\",\"user_avatar__click (subtasklist)\",\"dashboard__create (dashboard)\",\"sorting_button__click (boards)\",\"new_subtask_close__click (subtasklist)\",\"new_subtask__added (subtasklist)\",\"folder_tag__click (taskview)\",\"view_subtasks__click (taskview)\",\"tableview_hide_column__click (table2)\",\"add_folder (table2)\",\"widget_detach_item__click (dashboard)\",\"attachment__added (comment_field)\",\"settings_in_list_via_toolbar_in_list__changed (folder_header)\"],\"index\":[0,1,2,3,4,5,6,7,8,9,10,11,12,13,14,15,16,17,18,19,20,21,22,23,24,25,26,27,28,29],\"paid\":{\"__ndarray__\":\"mpmZmZnZQECamZmZmZlAQJqZmZmZWUBAZmZmZmYmQEBmZmZmZiZAQGZmZmZmJkBAZmZmZmYmQEDNzMzMzAxAQM3MzMzMDEBAZmZmZmbmP0BmZmZmZuY/QAAAAAAAgD9AZmZmZmbmPECamZmZmZk8QM3MzMzMzDtAAAAAAACAO0CamZmZmRk7QGZmZmZmZjpAAAAAAACAOUAzMzMzM7M4QDMzMzMzszhAZmZmZmZmOEDNzMzMzEw4QAAAAAAAADhAAAAAAACAN0BmZmZmZmY3QM3MzMzMTDdAmpmZmZkZN0AAAAAAAAA3QJqZmZmZGTZA\",\"dtype\":\"float64\",\"order\":\"little\",\"shape\":[30]}},\"name\":\"Series:\",\"selected\":{\"id\":\"11161\"},\"selection_policy\":{\"id\":\"11162\"}},\"id\":\"10844\",\"type\":\"ColumnDataSource\"},{\"attributes\":{\"level\":\"overlay\",\"name\":\"subtitle\",\"text\":\"\",\"text_align\":\"right\",\"text_color\":\"#898989\",\"text_font_size\":\"10px\",\"x\":864.0,\"x_units\":\"screen\",\"y\":0,\"y_units\":\"screen\"},\"id\":\"10839\",\"type\":\"Label\"},{\"attributes\":{\"axis_label_text_color\":\"#666666\",\"axis_label_text_font_size\":\"11pt\",\"axis_label_text_font_style\":\"bold\",\"axis_line_color\":\"#C0C0C0\",\"formatter\":{\"id\":\"10845\"},\"major_label_text_color\":\"#898989\",\"major_label_text_font_size\":\"10pt\",\"major_tick_in\":0,\"major_tick_line_color\":\"#C0C0C0\",\"major_tick_out\":4,\"minor_tick_line_color\":\"#C0C0C0\",\"minor_tick_out\":1,\"ticker\":{\"id\":\"10827\"}},\"id\":\"10826\",\"type\":\"LinearAxis\"},{\"attributes\":{\"source\":{\"id\":\"10844\"}},\"id\":\"10851\",\"type\":\"CDSView\"},{\"attributes\":{\"text\":\"Sorts by integrated event score (the lower score - the more recurring event in most of accs)\",\"text_color\":{\"value\":\"#666666\"},\"text_font_size\":{\"value\":\"12pt\"}},\"id\":\"10840\",\"type\":\"Title\"},{\"attributes\":{},\"id\":\"11161\",\"type\":\"Selection\"},{\"attributes\":{\"end\":null,\"start\":0},\"id\":\"10818\",\"type\":\"DataRange1d\"},{\"attributes\":{\"active_drag\":null,\"active_inspect\":\"auto\",\"active_multi\":null,\"active_scroll\":\"auto\",\"active_tap\":\"auto\",\"logo\":null,\"tools\":[{\"id\":\"10833\"}]},\"id\":\"10834\",\"type\":\"Toolbar\"},{\"attributes\":{\"format\":\"0,0.[00]\"},\"id\":\"10845\",\"type\":\"NumeralTickFormatter\"},{\"attributes\":{},\"id\":\"10833\",\"type\":\"SaveTool\"},{\"attributes\":{},\"id\":\"11162\",\"type\":\"UnionRenderers\"},{\"attributes\":{},\"id\":\"10824\",\"type\":\"CategoricalScale\"},{\"attributes\":{},\"id\":\"10827\",\"type\":\"BasicTicker\"},{\"attributes\":{\"fill_color\":{\"value\":\"#1f77b4\"},\"height\":{\"value\":0.9},\"line_color\":{\"value\":\"white\"},\"right\":{\"field\":\"paid\"},\"y\":{\"field\":\"factors\"}},\"id\":\"10848\",\"type\":\"HBar\"},{\"attributes\":{\"axis\":{\"id\":\"10826\"},\"grid_line_color\":null,\"ticker\":null},\"id\":\"10829\",\"type\":\"Grid\"}],\"root_ids\":[\"10817\"]},\"title\":\"Bokeh Application\",\"version\":\"2.2.3\"}};\n",
       "  var render_items = [{\"docid\":\"301d68c1-1816-4a15-b875-e1686099ef7f\",\"root_ids\":[\"10817\"],\"roots\":{\"10817\":\"4531ee15-3d07-4a76-8f1d-bc80fe557607\"}}];\n",
       "  root.Bokeh.embed.embed_items_notebook(docs_json, render_items);\n",
       "\n",
       "  }\n",
       "  if (root.Bokeh !== undefined) {\n",
       "    embed_document(root);\n",
       "  } else {\n",
       "    var attempts = 0;\n",
       "    var timer = setInterval(function(root) {\n",
       "      if (root.Bokeh !== undefined) {\n",
       "        clearInterval(timer);\n",
       "        embed_document(root);\n",
       "      } else {\n",
       "        attempts++;\n",
       "        if (attempts > 100) {\n",
       "          clearInterval(timer);\n",
       "          console.log(\"Bokeh: ERROR: Unable to run BokehJS code because BokehJS library is missing\");\n",
       "        }\n",
       "      }\n",
       "    }, 10, root)\n",
       "  }\n",
       "})(window);"
      ],
      "application/vnd.bokehjs_exec.v0+json": ""
     },
     "metadata": {
      "application/vnd.bokehjs_exec.v0+json": {
       "id": "10817"
      }
     },
     "output_type": "display_data"
    }
   ],
   "source": [
    "ch = chartify.Chart(blank_labels=True, y_axis_type='categorical')\n",
    "ch.set_title(\"Top 60-90 events for paid\")\n",
    "ch.set_subtitle(\"Sorts by integrated event score (the lower score - the more recurring event in most of accs)\")\n",
    "ch.plot.bar(\n",
    "    data_frame=df_final_scores[60:90],\n",
    "    categorical_columns=['event_group'],\n",
    "    numeric_column='paid',\n",
    "    categorical_order_ascending=False)\n",
    "ch.figure.height = 600\n",
    "ch.figure.width = 1000\n",
    "ch.axes.set_yaxis_tick_orientation('horizontal')\n",
    "ch.show()"
   ]
  },
  {
   "cell_type": "code",
   "execution_count": 133,
   "metadata": {},
   "outputs": [
    {
     "data": {
      "text/html": [
       "\n",
       "\n",
       "\n",
       "\n",
       "\n",
       "\n",
       "  <div class=\"bk-root\" id=\"c318c6c1-4a5b-467a-9c25-60b94ebcb6f7\" data-root-id=\"15731\"></div>\n"
      ]
     },
     "metadata": {},
     "output_type": "display_data"
    },
    {
     "data": {
      "application/javascript": [
       "(function(root) {\n",
       "  function embed_document(root) {\n",
       "    \n",
       "  var docs_json = {\"8741eb6e-0eed-48b1-919e-552027cc0279\":{\"roots\":{\"references\":[{\"attributes\":{\"above\":[{\"id\":\"15754\"}],\"background_fill_color\":\"white\",\"below\":[{\"id\":\"15740\"},{\"id\":\"15753\"}],\"border_fill_color\":\"white\",\"center\":[{\"id\":\"15743\"},{\"id\":\"15746\"}],\"height\":600,\"left\":[{\"id\":\"15744\"}],\"min_border_bottom\":60,\"min_border_left\":60,\"min_border_right\":60,\"min_border_top\":40,\"outline_line_color\":\"white\",\"plot_height\":540,\"plot_width\":960,\"renderers\":[{\"id\":\"15764\"}],\"title\":{\"id\":\"15750\"},\"toolbar\":{\"id\":\"15748\"},\"width\":1000,\"x_range\":{\"id\":\"15732\"},\"x_scale\":{\"id\":\"15736\"},\"y_range\":{\"id\":\"15734\"},\"y_scale\":{\"id\":\"15738\"}},\"id\":\"15731\",\"subtype\":\"Figure\",\"type\":\"Plot\"},{\"attributes\":{\"end\":null,\"start\":0},\"id\":\"15732\",\"type\":\"DataRange1d\"},{\"attributes\":{},\"id\":\"15747\",\"type\":\"SaveTool\"},{\"attributes\":{\"axis_label_text_color\":\"#666666\",\"axis_label_text_font_size\":\"11pt\",\"axis_label_text_font_style\":\"bold\",\"axis_line_color\":\"#C0C0C0\",\"formatter\":{\"id\":\"15759\"},\"major_label_text_color\":\"#898989\",\"major_label_text_font_size\":\"10pt\",\"major_tick_in\":0,\"major_tick_line_color\":\"#C0C0C0\",\"major_tick_out\":4,\"minor_tick_line_color\":\"#C0C0C0\",\"minor_tick_out\":1,\"ticker\":{\"id\":\"15741\"}},\"id\":\"15740\",\"type\":\"LinearAxis\"},{\"attributes\":{\"data_source\":{\"id\":\"15758\"},\"glyph\":{\"id\":\"15762\"},\"hover_glyph\":null,\"muted_glyph\":null,\"nonselection_glyph\":{\"id\":\"15763\"},\"selection_glyph\":null,\"view\":{\"id\":\"15765\"}},\"id\":\"15764\",\"type\":\"GlyphRenderer\"},{\"attributes\":{\"format\":\"0,0.[0]\"},\"id\":\"15759\",\"type\":\"NumeralTickFormatter\"},{\"attributes\":{\"level\":\"overlay\",\"name\":\"subtitle\",\"text\":\"\",\"text_align\":\"right\",\"text_color\":\"#898989\",\"text_font_size\":\"10px\",\"x\":864.0,\"x_units\":\"screen\",\"y\":0,\"y_units\":\"screen\"},\"id\":\"15753\",\"type\":\"Label\"},{\"attributes\":{},\"id\":\"16156\",\"type\":\"CategoricalTickFormatter\"},{\"attributes\":{\"axis_label_text_color\":\"#666666\",\"axis_label_text_font_size\":\"11pt\",\"axis_label_text_font_style\":\"bold\",\"axis_line_color\":\"#C0C0C0\",\"formatter\":{\"id\":\"16156\"},\"group_label_orientation\":\"normal\",\"group_text_font_size\":\"11pt\",\"major_label_orientation\":\"horizontal\",\"major_label_text_color\":\"#898989\",\"major_label_text_font_size\":\"10pt\",\"major_tick_in\":0,\"major_tick_line_color\":\"#C0C0C0\",\"major_tick_out\":4,\"minor_tick_line_color\":\"#C0C0C0\",\"minor_tick_out\":1,\"separator_line_alpha\":0,\"subgroup_label_orientation\":\"normal\",\"subgroup_text_font_size\":\"11pt\",\"ticker\":{\"id\":\"15745\"}},\"id\":\"15744\",\"type\":\"CategoricalAxis\"},{\"attributes\":{\"axis\":{\"id\":\"15740\"},\"grid_line_color\":null,\"ticker\":null},\"id\":\"15743\",\"type\":\"Grid\"},{\"attributes\":{\"axis\":{\"id\":\"15744\"},\"dimension\":1,\"grid_line_color\":null,\"ticker\":null},\"id\":\"15746\",\"type\":\"Grid\"},{\"attributes\":{},\"id\":\"15741\",\"type\":\"BasicTicker\"},{\"attributes\":{},\"id\":\"15736\",\"type\":\"LinearScale\"},{\"attributes\":{},\"id\":\"16158\",\"type\":\"UnionRenderers\"},{\"attributes\":{\"source\":{\"id\":\"15758\"}},\"id\":\"15765\",\"type\":\"CDSView\"},{\"attributes\":{\"factor_padding\":0.25,\"factors\":[\"add_folder_tag__click (taskview)\",\"attach_menu__open (attachments)\",\"mention_list__shown (contact_picker)\",\"space__create (spaces)\",\"invite_users_button__click (invitation)\",\"edit_space__shown (spaces)\",\"welcome_quest_show (reporting)\",\"open_calendar__click (navigation)\",\"task_delete__click (task_list)\",\"app_directory_page__shown (apps_integrations)\",\"new_space__shown (spaces)\",\"default_view__changed (projects)\",\"emails_page__shown (profile)\",\"folder_picker__shown (folder_picker)\",\"sharing_dialog__shown (sharing)\",\"visit_app (calendars_performance)\",\"show_task (boards)\",\"start_date__change (scheduling)\",\"due_date__change (scheduling)\",\"filter_menu__open (quick_filters)\",\"wrike_guide__click (wrike_guide)\",\"edit_title__click (taskview)\",\"open_mytodo__click (navigation)\",\"add_project_folder_plus_click (folder)\",\"add_project_folder_plus__click (projects)\",\"add_assignee__click (taskview)\",\"new_task__created (task_list)\",\"board_view_click (boards)\",\"board_view__shown (boards)\",\"tableview_open__view (table2)\"]},\"id\":\"15734\",\"type\":\"FactorRange\"},{\"attributes\":{\"text\":\"Top events for paid\",\"text_color\":{\"value\":\"#333333\"},\"text_font_size\":{\"value\":\"18pt\"}},\"id\":\"15750\",\"type\":\"Title\"},{\"attributes\":{\"fill_color\":{\"value\":\"#1f77b4\"},\"height\":{\"value\":0.9},\"line_color\":{\"value\":\"white\"},\"right\":{\"field\":\"paid\"},\"y\":{\"field\":\"factors\"}},\"id\":\"15762\",\"type\":\"HBar\"},{\"attributes\":{},\"id\":\"15738\",\"type\":\"CategoricalScale\"},{\"attributes\":{},\"id\":\"16159\",\"type\":\"Selection\"},{\"attributes\":{},\"id\":\"15745\",\"type\":\"CategoricalTicker\"},{\"attributes\":{\"active_drag\":null,\"active_inspect\":\"auto\",\"active_multi\":null,\"active_scroll\":\"auto\",\"active_tap\":\"auto\",\"logo\":null,\"tools\":[{\"id\":\"15747\"}]},\"id\":\"15748\",\"type\":\"Toolbar\"},{\"attributes\":{\"data\":{\"factors\":[\"add_folder_tag__click (taskview)\",\"attach_menu__open (attachments)\",\"mention_list__shown (contact_picker)\",\"space__create (spaces)\",\"invite_users_button__click (invitation)\",\"edit_space__shown (spaces)\",\"welcome_quest_show (reporting)\",\"open_calendar__click (navigation)\",\"task_delete__click (task_list)\",\"app_directory_page__shown (apps_integrations)\",\"new_space__shown (spaces)\",\"default_view__changed (projects)\",\"emails_page__shown (profile)\",\"folder_picker__shown (folder_picker)\",\"sharing_dialog__shown (sharing)\",\"visit_app (calendars_performance)\",\"show_task (boards)\",\"start_date__change (scheduling)\",\"due_date__change (scheduling)\",\"filter_menu__open (quick_filters)\",\"wrike_guide__click (wrike_guide)\",\"edit_title__click (taskview)\",\"open_mytodo__click (navigation)\",\"add_project_folder_plus_click (folder)\",\"add_project_folder_plus__click (projects)\",\"add_assignee__click (taskview)\",\"new_task__created (task_list)\",\"board_view_click (boards)\",\"board_view__shown (boards)\",\"tableview_open__view (table2)\"],\"index\":[0,1,2,3,4,5,6,7,8,9,10,11,12,13,14,15,16,17,18,19,20,21,22,23,24,25,26,27,28,29],\"paid\":{\"__ndarray__\":\"YhiGYRiG4T9iGIZhGIbhP5IkSZIkSeI/kiRJkiRJ4j+SJEmSJEniP5IkSZIkSeI/kiRJkiRJ4j/DMAzDMAzjP8MwDMMwDOM/wzAMwzAM4z8lSZIkSZLkPyVJkiRJkuQ/JUmSJEmS5D9VVVVVVVXlP1VVVVVVVeU/VVVVVVVV5T+GYRiGYRjmP4ZhGIZhGOY/hmEYhmEY5j+3bdu2bdvmP+h5nud5nuc/6Hme53me5z/oeZ7neZ7nPxiGYRiGYeg/GIZhGIZh6D9JkiRJkiTpP9u2bdu2bes/Pc/zPM/z7D89z/M8z/PsPwAAAAAAAPA/\",\"dtype\":\"float64\",\"order\":\"little\",\"shape\":[30]}},\"name\":\"Series:\",\"selected\":{\"id\":\"16159\"},\"selection_policy\":{\"id\":\"16158\"}},\"id\":\"15758\",\"type\":\"ColumnDataSource\"},{\"attributes\":{\"text\":\"Sorts by share of accs with this event among all\",\"text_color\":{\"value\":\"#666666\"},\"text_font_size\":{\"value\":\"12pt\"}},\"id\":\"15754\",\"type\":\"Title\"},{\"attributes\":{\"fill_alpha\":{\"value\":0.1},\"fill_color\":{\"value\":\"#1f77b4\"},\"height\":{\"value\":0.9},\"line_alpha\":{\"value\":0.1},\"line_color\":{\"value\":\"white\"},\"right\":{\"field\":\"paid\"},\"y\":{\"field\":\"factors\"}},\"id\":\"15763\",\"type\":\"HBar\"}],\"root_ids\":[\"15731\"]},\"title\":\"Bokeh Application\",\"version\":\"2.2.3\"}};\n",
       "  var render_items = [{\"docid\":\"8741eb6e-0eed-48b1-919e-552027cc0279\",\"root_ids\":[\"15731\"],\"roots\":{\"15731\":\"c318c6c1-4a5b-467a-9c25-60b94ebcb6f7\"}}];\n",
       "  root.Bokeh.embed.embed_items_notebook(docs_json, render_items);\n",
       "\n",
       "  }\n",
       "  if (root.Bokeh !== undefined) {\n",
       "    embed_document(root);\n",
       "  } else {\n",
       "    var attempts = 0;\n",
       "    var timer = setInterval(function(root) {\n",
       "      if (root.Bokeh !== undefined) {\n",
       "        clearInterval(timer);\n",
       "        embed_document(root);\n",
       "      } else {\n",
       "        attempts++;\n",
       "        if (attempts > 100) {\n",
       "          clearInterval(timer);\n",
       "          console.log(\"Bokeh: ERROR: Unable to run BokehJS code because BokehJS library is missing\");\n",
       "        }\n",
       "      }\n",
       "    }, 10, root)\n",
       "  }\n",
       "})(window);"
      ],
      "application/vnd.bokehjs_exec.v0+json": ""
     },
     "metadata": {
      "application/vnd.bokehjs_exec.v0+json": {
       "id": "15731"
      }
     },
     "output_type": "display_data"
    }
   ],
   "source": [
    "ch = chartify.Chart(blank_labels=True, y_axis_type='categorical')\n",
    "ch.set_title(\"Top events for paid\")\n",
    "ch.set_subtitle(\"Sorts by share of accs with this event among all\")\n",
    "ch.plot.bar(\n",
    "    data_frame=df_accs[0:30],\n",
    "    categorical_columns=['event_group'],\n",
    "    numeric_column='paid',\n",
    "    categorical_order_ascending=True)\n",
    "ch.figure.height = 600\n",
    "ch.figure.width = 1000\n",
    "ch.axes.set_yaxis_tick_orientation('horizontal')\n",
    "ch.show()"
   ]
  },
  {
   "cell_type": "markdown",
   "metadata": {},
   "source": [
    "#### **Free active (3+ weeks) with 2+ users**"
   ]
  },
  {
   "cell_type": "code",
   "execution_count": 32,
   "metadata": {},
   "outputs": [],
   "source": [
    "df_events = events_count_by_acc_type[['free active (3+ weeks) with 2+ users']].\\\n",
    "        sort_values(by='free active (3+ weeks) with 2+ users',ascending=False)[0:30].reset_index()\n",
    "df_accs = num_accs_by_events_share[num_accs_by_events_share['free active (3+ weeks) with 2+ users']>0.2]\\\n",
    "                [['free active (3+ weeks) with 2+ users']].\\\n",
    "            sort_values(by='free active (3+ weeks) with 2+ users',ascending=False).reset_index()\n",
    "df_scores = events_score_by_acc_type[events_score_by_acc_type['free active (3+ weeks) with 2+ users']<5]\\\n",
    "                [['free active (3+ weeks) with 2+ users']].\\\n",
    "            sort_values(by='free active (3+ weeks) with 2+ users',ascending=True).reset_index()\n",
    "df_final_scores = events_final_score_by_acc_type[events_final_score_by_acc_type['free active (3+ weeks) with 2+ users']<100]\\\n",
    "            [['free active (3+ weeks) with 2+ users']].\\\n",
    "            sort_values(by='free active (3+ weeks) with 2+ users',ascending=True).reset_index()"
   ]
  },
  {
   "cell_type": "code",
   "execution_count": 67,
   "metadata": {},
   "outputs": [
    {
     "data": {
      "text/html": [
       "\n",
       "\n",
       "\n",
       "\n",
       "\n",
       "\n",
       "  <div class=\"bk-root\" id=\"f0cda315-395a-4b06-bfb2-bf5f6f00963b\" data-root-id=\"2594\"></div>\n"
      ]
     },
     "metadata": {},
     "output_type": "display_data"
    },
    {
     "data": {
      "application/javascript": [
       "(function(root) {\n",
       "  function embed_document(root) {\n",
       "    \n",
       "  var docs_json = {\"4d6010ca-1257-4180-bd75-5f467d4e5054\":{\"roots\":{\"references\":[{\"attributes\":{\"above\":[{\"id\":\"2617\"}],\"background_fill_color\":\"white\",\"below\":[{\"id\":\"2603\"},{\"id\":\"2616\"}],\"border_fill_color\":\"white\",\"center\":[{\"id\":\"2606\"},{\"id\":\"2609\"}],\"height\":600,\"left\":[{\"id\":\"2607\"}],\"min_border_bottom\":60,\"min_border_left\":60,\"min_border_right\":60,\"min_border_top\":40,\"outline_line_color\":\"white\",\"plot_height\":540,\"plot_width\":960,\"renderers\":[{\"id\":\"2627\"}],\"title\":{\"id\":\"2613\"},\"toolbar\":{\"id\":\"2611\"},\"width\":1000,\"x_range\":{\"id\":\"2595\"},\"x_scale\":{\"id\":\"2599\"},\"y_range\":{\"id\":\"2597\"},\"y_scale\":{\"id\":\"2601\"}},\"id\":\"2594\",\"subtype\":\"Figure\",\"type\":\"Plot\"},{\"attributes\":{\"text\":\"Top events\",\"text_color\":{\"value\":\"#333333\"},\"text_font_size\":{\"value\":\"18pt\"}},\"id\":\"2613\",\"type\":\"Title\"},{\"attributes\":{\"axis\":{\"id\":\"2603\"},\"grid_line_color\":null,\"ticker\":null},\"id\":\"2606\",\"type\":\"Grid\"},{\"attributes\":{},\"id\":\"2608\",\"type\":\"CategoricalTicker\"},{\"attributes\":{\"level\":\"overlay\",\"name\":\"subtitle\",\"text\":\"\",\"text_align\":\"right\",\"text_color\":\"#898989\",\"text_font_size\":\"10px\",\"x\":864.0,\"x_units\":\"screen\",\"y\":0,\"y_units\":\"screen\"},\"id\":\"2616\",\"type\":\"Label\"},{\"attributes\":{\"axis_label_text_color\":\"#666666\",\"axis_label_text_font_size\":\"11pt\",\"axis_label_text_font_style\":\"bold\",\"axis_line_color\":\"#C0C0C0\",\"formatter\":{\"id\":\"2726\"},\"group_label_orientation\":\"normal\",\"group_text_font_size\":\"11pt\",\"major_label_orientation\":\"horizontal\",\"major_label_text_color\":\"#898989\",\"major_label_text_font_size\":\"10pt\",\"major_tick_in\":0,\"major_tick_line_color\":\"#C0C0C0\",\"major_tick_out\":4,\"minor_tick_line_color\":\"#C0C0C0\",\"minor_tick_out\":1,\"separator_line_alpha\":0,\"subgroup_label_orientation\":\"normal\",\"subgroup_text_font_size\":\"11pt\",\"ticker\":{\"id\":\"2608\"}},\"id\":\"2607\",\"type\":\"CategoricalAxis\"},{\"attributes\":{},\"id\":\"2610\",\"type\":\"SaveTool\"},{\"attributes\":{\"data\":{\"factors\":[\"add_folder_tag__click (taskview)\",\"mention_item__chosen (comment_field)\",\"only_comments__filtered (stream_usage)\",\"start_date__change (scheduling)\",\"add_file_from_source_click (attachments)\",\"wrike_guide__click (wrike_guide)\",\"folder_picker__shown (folder_picker)\",\"attach_menu__open (attachments)\",\"tableview_open_overlay__click (table2)\",\"open_mytodo__click (navigation)\",\"user_avatar__click (task_list)\",\"user_picker__shown (task_list)\",\"add_project_folder_plus_click (folder)\",\"add_project_folder_plus__click (projects)\",\"change_task_status__dnd (boards)\",\"due_date__change (scheduling)\",\"filter_menu__open (quick_filters)\",\"viewer_open (proofing)\",\"edit_title__click (taskview)\",\"create_task (boards)\",\"board_view_click (boards)\",\"comment__sent (comment_field)\",\"tableview_change_value__click (table2)\",\"add_assignee__click (taskview)\",\"tableview_open__view (table2)\",\"new_task__created (task_list)\",\"mention_list__shown (contact_picker)\",\"show_task (boards)\",\"users_groups_list__shown (sharing)\",\"board_view__shown (boards)\"],\"free active (3+ weeks) with 2+ users\":[1603,1609,1731,1789,1889,2224,2291,2306,2474,2497,2637,2746,2802,2802,2971,3016,3113,3141,3738,5590,5623,7268,7283,8947,9745,10293,10773,11725,12765,17678],\"index\":[0,1,2,3,4,5,6,7,8,9,10,11,12,13,14,15,16,17,18,19,20,21,22,23,24,25,26,27,28,29]},\"name\":\"Series:\",\"selected\":{\"id\":\"2728\"},\"selection_policy\":{\"id\":\"2729\"}},\"id\":\"2621\",\"type\":\"ColumnDataSource\"},{\"attributes\":{\"axis\":{\"id\":\"2607\"},\"dimension\":1,\"grid_line_color\":null,\"ticker\":null},\"id\":\"2609\",\"type\":\"Grid\"},{\"attributes\":{},\"id\":\"2728\",\"type\":\"Selection\"},{\"attributes\":{\"format\":\"0,0.[00000]\"},\"id\":\"2622\",\"type\":\"NumeralTickFormatter\"},{\"attributes\":{\"end\":null,\"start\":0},\"id\":\"2595\",\"type\":\"DataRange1d\"},{\"attributes\":{},\"id\":\"2729\",\"type\":\"UnionRenderers\"},{\"attributes\":{},\"id\":\"2601\",\"type\":\"CategoricalScale\"},{\"attributes\":{\"fill_color\":{\"value\":\"#1f77b4\"},\"height\":{\"value\":0.9},\"line_color\":{\"value\":\"white\"},\"right\":{\"field\":\"free active (3+ weeks) with 2+ users\"},\"y\":{\"field\":\"factors\"}},\"id\":\"2625\",\"type\":\"HBar\"},{\"attributes\":{},\"id\":\"2604\",\"type\":\"BasicTicker\"},{\"attributes\":{\"factor_padding\":0.25,\"factors\":[\"add_folder_tag__click (taskview)\",\"mention_item__chosen (comment_field)\",\"only_comments__filtered (stream_usage)\",\"start_date__change (scheduling)\",\"add_file_from_source_click (attachments)\",\"wrike_guide__click (wrike_guide)\",\"folder_picker__shown (folder_picker)\",\"attach_menu__open (attachments)\",\"tableview_open_overlay__click (table2)\",\"open_mytodo__click (navigation)\",\"user_avatar__click (task_list)\",\"user_picker__shown (task_list)\",\"add_project_folder_plus_click (folder)\",\"add_project_folder_plus__click (projects)\",\"change_task_status__dnd (boards)\",\"due_date__change (scheduling)\",\"filter_menu__open (quick_filters)\",\"viewer_open (proofing)\",\"edit_title__click (taskview)\",\"create_task (boards)\",\"board_view_click (boards)\",\"comment__sent (comment_field)\",\"tableview_change_value__click (table2)\",\"add_assignee__click (taskview)\",\"tableview_open__view (table2)\",\"new_task__created (task_list)\",\"mention_list__shown (contact_picker)\",\"show_task (boards)\",\"users_groups_list__shown (sharing)\",\"board_view__shown (boards)\"]},\"id\":\"2597\",\"type\":\"FactorRange\"},{\"attributes\":{},\"id\":\"2599\",\"type\":\"LinearScale\"},{\"attributes\":{\"axis_label_text_color\":\"#666666\",\"axis_label_text_font_size\":\"11pt\",\"axis_label_text_font_style\":\"bold\",\"axis_line_color\":\"#C0C0C0\",\"formatter\":{\"id\":\"2622\"},\"major_label_text_color\":\"#898989\",\"major_label_text_font_size\":\"10pt\",\"major_tick_in\":0,\"major_tick_line_color\":\"#C0C0C0\",\"major_tick_out\":4,\"minor_tick_line_color\":\"#C0C0C0\",\"minor_tick_out\":1,\"ticker\":{\"id\":\"2604\"}},\"id\":\"2603\",\"type\":\"LinearAxis\"},{\"attributes\":{\"fill_alpha\":{\"value\":0.1},\"fill_color\":{\"value\":\"#1f77b4\"},\"height\":{\"value\":0.9},\"line_alpha\":{\"value\":0.1},\"line_color\":{\"value\":\"white\"},\"right\":{\"field\":\"free active (3+ weeks) with 2+ users\"},\"y\":{\"field\":\"factors\"}},\"id\":\"2626\",\"type\":\"HBar\"},{\"attributes\":{\"active_drag\":null,\"active_inspect\":\"auto\",\"active_multi\":null,\"active_scroll\":\"auto\",\"active_tap\":\"auto\",\"logo\":null,\"tools\":[{\"id\":\"2610\"}]},\"id\":\"2611\",\"type\":\"Toolbar\"},{\"attributes\":{\"source\":{\"id\":\"2621\"}},\"id\":\"2628\",\"type\":\"CDSView\"},{\"attributes\":{\"text\":\"Automatically sorts by value counts.\",\"text_color\":{\"value\":\"#666666\"},\"text_font_size\":{\"value\":\"12pt\"}},\"id\":\"2617\",\"type\":\"Title\"},{\"attributes\":{\"data_source\":{\"id\":\"2621\"},\"glyph\":{\"id\":\"2625\"},\"hover_glyph\":null,\"muted_glyph\":null,\"nonselection_glyph\":{\"id\":\"2626\"},\"selection_glyph\":null,\"view\":{\"id\":\"2628\"}},\"id\":\"2627\",\"type\":\"GlyphRenderer\"},{\"attributes\":{},\"id\":\"2726\",\"type\":\"CategoricalTickFormatter\"}],\"root_ids\":[\"2594\"]},\"title\":\"Bokeh Application\",\"version\":\"2.2.3\"}};\n",
       "  var render_items = [{\"docid\":\"4d6010ca-1257-4180-bd75-5f467d4e5054\",\"root_ids\":[\"2594\"],\"roots\":{\"2594\":\"f0cda315-395a-4b06-bfb2-bf5f6f00963b\"}}];\n",
       "  root.Bokeh.embed.embed_items_notebook(docs_json, render_items);\n",
       "\n",
       "  }\n",
       "  if (root.Bokeh !== undefined) {\n",
       "    embed_document(root);\n",
       "  } else {\n",
       "    var attempts = 0;\n",
       "    var timer = setInterval(function(root) {\n",
       "      if (root.Bokeh !== undefined) {\n",
       "        clearInterval(timer);\n",
       "        embed_document(root);\n",
       "      } else {\n",
       "        attempts++;\n",
       "        if (attempts > 100) {\n",
       "          clearInterval(timer);\n",
       "          console.log(\"Bokeh: ERROR: Unable to run BokehJS code because BokehJS library is missing\");\n",
       "        }\n",
       "      }\n",
       "    }, 10, root)\n",
       "  }\n",
       "})(window);"
      ],
      "application/vnd.bokehjs_exec.v0+json": ""
     },
     "metadata": {
      "application/vnd.bokehjs_exec.v0+json": {
       "id": "2594"
      }
     },
     "output_type": "display_data"
    }
   ],
   "source": [
    "ch = chartify.Chart(blank_labels=True, y_axis_type='categorical')\n",
    "ch.set_title(\"Top events\")\n",
    "ch.set_subtitle(\"Automatically sorts by value counts.\")\n",
    "ch.plot.bar(\n",
    "    data_frame=df_events,\n",
    "    categorical_columns=['event_group'],\n",
    "    numeric_column='free active (3+ weeks) with 2+ users',\n",
    "    categorical_order_ascending=True)\n",
    "ch.figure.height = 600\n",
    "ch.figure.width = 1000\n",
    "ch.axes.set_yaxis_tick_orientation('horizontal')\n",
    "ch.show()"
   ]
  },
  {
   "cell_type": "code",
   "execution_count": 132,
   "metadata": {},
   "outputs": [
    {
     "data": {
      "text/html": [
       "\n",
       "\n",
       "\n",
       "\n",
       "\n",
       "\n",
       "  <div class=\"bk-root\" id=\"226e88f7-bc38-4ae0-86fd-aa8b2b52227a\" data-root-id=\"8678\"></div>\n"
      ]
     },
     "metadata": {},
     "output_type": "display_data"
    },
    {
     "data": {
      "application/javascript": [
       "(function(root) {\n",
       "  function embed_document(root) {\n",
       "    \n",
       "  var docs_json = {\"ef41caa9-0051-4c1c-8ef9-a5e5d4258658\":{\"roots\":{\"references\":[{\"attributes\":{\"above\":[{\"id\":\"8701\"}],\"background_fill_color\":\"white\",\"below\":[{\"id\":\"8687\"},{\"id\":\"8700\"}],\"border_fill_color\":\"white\",\"center\":[{\"id\":\"8690\"},{\"id\":\"8693\"}],\"height\":600,\"left\":[{\"id\":\"8691\"}],\"min_border_bottom\":60,\"min_border_left\":60,\"min_border_right\":60,\"min_border_top\":40,\"outline_line_color\":\"white\",\"plot_height\":540,\"plot_width\":960,\"renderers\":[{\"id\":\"8711\"}],\"title\":{\"id\":\"8697\"},\"toolbar\":{\"id\":\"8695\"},\"width\":1000,\"x_range\":{\"id\":\"8679\"},\"x_scale\":{\"id\":\"8683\"},\"y_range\":{\"id\":\"8681\"},\"y_scale\":{\"id\":\"8685\"}},\"id\":\"8678\",\"subtype\":\"Figure\",\"type\":\"Plot\"},{\"attributes\":{\"format\":\"0,0.[00]\"},\"id\":\"8706\",\"type\":\"NumeralTickFormatter\"},{\"attributes\":{},\"id\":\"8980\",\"type\":\"Selection\"},{\"attributes\":{},\"id\":\"8978\",\"type\":\"CategoricalTickFormatter\"},{\"attributes\":{\"text\":\"Sorts by event score (the lower score - more frequent event)\",\"text_color\":{\"value\":\"#666666\"},\"text_font_size\":{\"value\":\"12pt\"}},\"id\":\"8701\",\"type\":\"Title\"},{\"attributes\":{},\"id\":\"8685\",\"type\":\"CategoricalScale\"},{\"attributes\":{},\"id\":\"8692\",\"type\":\"CategoricalTicker\"},{\"attributes\":{\"end\":null,\"start\":0},\"id\":\"8679\",\"type\":\"DataRange1d\"},{\"attributes\":{\"axis\":{\"id\":\"8691\"},\"dimension\":1,\"grid_line_color\":null,\"ticker\":null},\"id\":\"8693\",\"type\":\"Grid\"},{\"attributes\":{},\"id\":\"8688\",\"type\":\"BasicTicker\"},{\"attributes\":{},\"id\":\"8694\",\"type\":\"SaveTool\"},{\"attributes\":{\"fill_color\":{\"value\":\"#1f77b4\"},\"height\":{\"value\":0.9},\"line_color\":{\"value\":\"white\"},\"right\":{\"field\":\"free active (3+ weeks) with 2+ users\"},\"y\":{\"field\":\"factors\"}},\"id\":\"8709\",\"type\":\"HBar\"},{\"attributes\":{\"data\":{\"factors\":[\"emails_page__shown (profile)\",\"mention_item__chosen (comment_field)\",\"file__render (proofing)\",\"add_folder_tag__click (taskview)\",\"app_directory_page__shown (apps_integrations)\",\"task_delete__click (task_list)\",\"element__click (wrike_guide)\",\"new_space__shown (spaces)\",\"list__created (live_editor)\",\"tableview_open_overlay__click (table2)\",\"default_view__changed (projects)\",\"start_date__change (scheduling)\",\"invite_users_button__click (invitation)\",\"folder_picker__shown (folder_picker)\",\"theme_mosaic__click (profile_themes)\",\"user_avatar__click (task_list)\",\"add_file_from_source_click (attachments)\",\"user_picker__shown (task_list)\",\"edit_space__shown (spaces)\",\"sharing_dialog__shown (sharing)\",\"change_task_status__dnd (boards)\",\"viewer_open (proofing)\",\"attach_menu__open (attachments)\",\"open_mytodo__click (navigation)\",\"tableview_change_value__click (table2)\",\"wrike_guide__click (wrike_guide)\",\"due_date__change (scheduling)\",\"edit_title__click (taskview)\",\"filter_menu__open (quick_filters)\",\"add_project_folder_plus_click (folder)\",\"add_project_folder_plus__click (projects)\",\"create_task (boards)\",\"tableview_open__view (table2)\",\"comment__sent (comment_field)\",\"board_view_click (boards)\",\"show_task (boards)\",\"mention_list__shown (contact_picker)\",\"add_assignee__click (taskview)\",\"new_task__created (task_list)\",\"users_groups_list__shown (sharing)\"],\"free active (3+ weeks) with 2+ users\":{\"__ndarray__\":\"zczMzMzMLkCamZmZmZktQJqZmZmZmS1AZmZmZmZmLEAAAAAAAAArQM3MzMzMzCpAZmZmZmZmKUDNzMzMzMwoQDMzMzMzMyhAMzMzMzMzKEAAAAAAAAAkQJqZmZmZmSNAmpmZmZmZI0AzMzMzMzMjQAAAAAAAACNAAAAAAAAAI0BmZmZmZmYiQGZmZmZmZiJAZmZmZmZmIUAzMzMzMzMhQGZmZmZmZiBAZmZmZmZmHkCamZmZmZkdQDMzMzMzMxtAmpmZmZmZF0AzMzMzMzMXQM3MzMzMzBZAAAAAAAAAFkAzMzMzMzMVQM3MzMzMzBJAzczMzMzMEkDNzMzMzMwQQAAAAAAAAAxAMzMzMzMzC0AzMzMzMzMHQGZmZmZmZgZAMzMzMzMzA0BmZmZmZmYCQAAAAAAAAABAAAAAAAAA+D8=\",\"dtype\":\"float64\",\"order\":\"little\",\"shape\":[40]},\"index\":[0,1,2,3,4,5,6,7,8,9,10,11,12,13,14,15,16,17,18,19,20,21,22,23,24,25,26,27,28,29,30,31,32,33,34,35,36,37,38,39]},\"name\":\"Series:\",\"selected\":{\"id\":\"8980\"},\"selection_policy\":{\"id\":\"8981\"}},\"id\":\"8705\",\"type\":\"ColumnDataSource\"},{\"attributes\":{\"active_drag\":null,\"active_inspect\":\"auto\",\"active_multi\":null,\"active_scroll\":\"auto\",\"active_tap\":\"auto\",\"logo\":null,\"tools\":[{\"id\":\"8694\"}]},\"id\":\"8695\",\"type\":\"Toolbar\"},{\"attributes\":{},\"id\":\"8981\",\"type\":\"UnionRenderers\"},{\"attributes\":{\"axis\":{\"id\":\"8687\"},\"grid_line_color\":null,\"ticker\":null},\"id\":\"8690\",\"type\":\"Grid\"},{\"attributes\":{\"data_source\":{\"id\":\"8705\"},\"glyph\":{\"id\":\"8709\"},\"hover_glyph\":null,\"muted_glyph\":null,\"nonselection_glyph\":{\"id\":\"8710\"},\"selection_glyph\":null,\"view\":{\"id\":\"8712\"}},\"id\":\"8711\",\"type\":\"GlyphRenderer\"},{\"attributes\":{\"axis_label_text_color\":\"#666666\",\"axis_label_text_font_size\":\"11pt\",\"axis_label_text_font_style\":\"bold\",\"axis_line_color\":\"#C0C0C0\",\"formatter\":{\"id\":\"8706\"},\"major_label_text_color\":\"#898989\",\"major_label_text_font_size\":\"10pt\",\"major_tick_in\":0,\"major_tick_line_color\":\"#C0C0C0\",\"major_tick_out\":4,\"minor_tick_line_color\":\"#C0C0C0\",\"minor_tick_out\":1,\"ticker\":{\"id\":\"8688\"}},\"id\":\"8687\",\"type\":\"LinearAxis\"},{\"attributes\":{\"text\":\"Top 40 events for free active (3+ weeks) with 2+ users\",\"text_color\":{\"value\":\"#333333\"},\"text_font_size\":{\"value\":\"18pt\"}},\"id\":\"8697\",\"type\":\"Title\"},{\"attributes\":{\"factor_padding\":0.25,\"factors\":[\"emails_page__shown (profile)\",\"mention_item__chosen (comment_field)\",\"file__render (proofing)\",\"add_folder_tag__click (taskview)\",\"app_directory_page__shown (apps_integrations)\",\"task_delete__click (task_list)\",\"element__click (wrike_guide)\",\"new_space__shown (spaces)\",\"list__created (live_editor)\",\"tableview_open_overlay__click (table2)\",\"default_view__changed (projects)\",\"start_date__change (scheduling)\",\"invite_users_button__click (invitation)\",\"folder_picker__shown (folder_picker)\",\"theme_mosaic__click (profile_themes)\",\"user_avatar__click (task_list)\",\"add_file_from_source_click (attachments)\",\"user_picker__shown (task_list)\",\"edit_space__shown (spaces)\",\"sharing_dialog__shown (sharing)\",\"change_task_status__dnd (boards)\",\"viewer_open (proofing)\",\"attach_menu__open (attachments)\",\"open_mytodo__click (navigation)\",\"tableview_change_value__click (table2)\",\"wrike_guide__click (wrike_guide)\",\"due_date__change (scheduling)\",\"edit_title__click (taskview)\",\"filter_menu__open (quick_filters)\",\"add_project_folder_plus_click (folder)\",\"add_project_folder_plus__click (projects)\",\"create_task (boards)\",\"tableview_open__view (table2)\",\"comment__sent (comment_field)\",\"board_view_click (boards)\",\"show_task (boards)\",\"mention_list__shown (contact_picker)\",\"add_assignee__click (taskview)\",\"new_task__created (task_list)\",\"users_groups_list__shown (sharing)\"]},\"id\":\"8681\",\"type\":\"FactorRange\"},{\"attributes\":{\"source\":{\"id\":\"8705\"}},\"id\":\"8712\",\"type\":\"CDSView\"},{\"attributes\":{\"level\":\"overlay\",\"name\":\"subtitle\",\"text\":\"\",\"text_align\":\"right\",\"text_color\":\"#898989\",\"text_font_size\":\"10px\",\"x\":864.0,\"x_units\":\"screen\",\"y\":0,\"y_units\":\"screen\"},\"id\":\"8700\",\"type\":\"Label\"},{\"attributes\":{},\"id\":\"8683\",\"type\":\"LinearScale\"},{\"attributes\":{\"fill_alpha\":{\"value\":0.1},\"fill_color\":{\"value\":\"#1f77b4\"},\"height\":{\"value\":0.9},\"line_alpha\":{\"value\":0.1},\"line_color\":{\"value\":\"white\"},\"right\":{\"field\":\"free active (3+ weeks) with 2+ users\"},\"y\":{\"field\":\"factors\"}},\"id\":\"8710\",\"type\":\"HBar\"},{\"attributes\":{\"axis_label_text_color\":\"#666666\",\"axis_label_text_font_size\":\"11pt\",\"axis_label_text_font_style\":\"bold\",\"axis_line_color\":\"#C0C0C0\",\"formatter\":{\"id\":\"8978\"},\"group_label_orientation\":\"normal\",\"group_text_font_size\":\"11pt\",\"major_label_orientation\":\"horizontal\",\"major_label_text_color\":\"#898989\",\"major_label_text_font_size\":\"10pt\",\"major_tick_in\":0,\"major_tick_line_color\":\"#C0C0C0\",\"major_tick_out\":4,\"minor_tick_line_color\":\"#C0C0C0\",\"minor_tick_out\":1,\"separator_line_alpha\":0,\"subgroup_label_orientation\":\"normal\",\"subgroup_text_font_size\":\"11pt\",\"ticker\":{\"id\":\"8692\"}},\"id\":\"8691\",\"type\":\"CategoricalAxis\"}],\"root_ids\":[\"8678\"]},\"title\":\"Bokeh Application\",\"version\":\"2.2.3\"}};\n",
       "  var render_items = [{\"docid\":\"ef41caa9-0051-4c1c-8ef9-a5e5d4258658\",\"root_ids\":[\"8678\"],\"roots\":{\"8678\":\"226e88f7-bc38-4ae0-86fd-aa8b2b52227a\"}}];\n",
       "  root.Bokeh.embed.embed_items_notebook(docs_json, render_items);\n",
       "\n",
       "  }\n",
       "  if (root.Bokeh !== undefined) {\n",
       "    embed_document(root);\n",
       "  } else {\n",
       "    var attempts = 0;\n",
       "    var timer = setInterval(function(root) {\n",
       "      if (root.Bokeh !== undefined) {\n",
       "        clearInterval(timer);\n",
       "        embed_document(root);\n",
       "      } else {\n",
       "        attempts++;\n",
       "        if (attempts > 100) {\n",
       "          clearInterval(timer);\n",
       "          console.log(\"Bokeh: ERROR: Unable to run BokehJS code because BokehJS library is missing\");\n",
       "        }\n",
       "      }\n",
       "    }, 10, root)\n",
       "  }\n",
       "})(window);"
      ],
      "application/vnd.bokehjs_exec.v0+json": ""
     },
     "metadata": {
      "application/vnd.bokehjs_exec.v0+json": {
       "id": "8678"
      }
     },
     "output_type": "display_data"
    }
   ],
   "source": [
    "ch = chartify.Chart(blank_labels=True, y_axis_type='categorical')\n",
    "ch.set_title(\"Top 40 events for free active (3+ weeks) with 2+ users\")\n",
    "ch.set_subtitle(\"Sorts by event score (the lower score - more frequent event)\")\n",
    "ch.plot.bar(\n",
    "    data_frame=df_final_scores[1:41],\n",
    "    categorical_columns=['event_group'],\n",
    "    numeric_column='free active (3+ weeks) with 2+ users',\n",
    "    categorical_order_ascending=False)\n",
    "ch.figure.height = 600\n",
    "ch.figure.width = 1000\n",
    "ch.axes.set_yaxis_tick_orientation('horizontal')\n",
    "ch.show()"
   ]
  },
  {
   "cell_type": "code",
   "execution_count": 133,
   "metadata": {},
   "outputs": [
    {
     "data": {
      "text/html": [
       "\n",
       "\n",
       "\n",
       "\n",
       "\n",
       "\n",
       "  <div class=\"bk-root\" id=\"2e355df8-ebaf-4ae5-aa74-68e5b6bcc31e\" data-root-id=\"9017\"></div>\n"
      ]
     },
     "metadata": {},
     "output_type": "display_data"
    },
    {
     "data": {
      "application/javascript": [
       "(function(root) {\n",
       "  function embed_document(root) {\n",
       "    \n",
       "  var docs_json = {\"1dc21e7c-7b90-4964-946c-e335a5fa3740\":{\"roots\":{\"references\":[{\"attributes\":{\"above\":[{\"id\":\"9040\"}],\"background_fill_color\":\"white\",\"below\":[{\"id\":\"9026\"},{\"id\":\"9039\"}],\"border_fill_color\":\"white\",\"center\":[{\"id\":\"9029\"},{\"id\":\"9032\"}],\"height\":600,\"left\":[{\"id\":\"9030\"}],\"min_border_bottom\":60,\"min_border_left\":60,\"min_border_right\":60,\"min_border_top\":40,\"outline_line_color\":\"white\",\"plot_height\":540,\"plot_width\":960,\"renderers\":[{\"id\":\"9050\"}],\"title\":{\"id\":\"9036\"},\"toolbar\":{\"id\":\"9034\"},\"width\":1000,\"x_range\":{\"id\":\"9018\"},\"x_scale\":{\"id\":\"9022\"},\"y_range\":{\"id\":\"9020\"},\"y_scale\":{\"id\":\"9024\"}},\"id\":\"9017\",\"subtype\":\"Figure\",\"type\":\"Plot\"},{\"attributes\":{\"axis\":{\"id\":\"9026\"},\"grid_line_color\":null,\"ticker\":null},\"id\":\"9029\",\"type\":\"Grid\"},{\"attributes\":{},\"id\":\"9326\",\"type\":\"Selection\"},{\"attributes\":{\"end\":null,\"start\":0},\"id\":\"9018\",\"type\":\"DataRange1d\"},{\"attributes\":{},\"id\":\"9027\",\"type\":\"BasicTicker\"},{\"attributes\":{\"source\":{\"id\":\"9044\"}},\"id\":\"9051\",\"type\":\"CDSView\"},{\"attributes\":{\"axis_label_text_color\":\"#666666\",\"axis_label_text_font_size\":\"11pt\",\"axis_label_text_font_style\":\"bold\",\"axis_line_color\":\"#C0C0C0\",\"formatter\":{\"id\":\"9045\"},\"major_label_text_color\":\"#898989\",\"major_label_text_font_size\":\"10pt\",\"major_tick_in\":0,\"major_tick_line_color\":\"#C0C0C0\",\"major_tick_out\":4,\"minor_tick_line_color\":\"#C0C0C0\",\"minor_tick_out\":1,\"ticker\":{\"id\":\"9027\"}},\"id\":\"9026\",\"type\":\"LinearAxis\"},{\"attributes\":{\"axis\":{\"id\":\"9030\"},\"dimension\":1,\"grid_line_color\":null,\"ticker\":null},\"id\":\"9032\",\"type\":\"Grid\"},{\"attributes\":{},\"id\":\"9022\",\"type\":\"LinearScale\"},{\"attributes\":{},\"id\":\"9033\",\"type\":\"SaveTool\"},{\"attributes\":{\"active_drag\":null,\"active_inspect\":\"auto\",\"active_multi\":null,\"active_scroll\":\"auto\",\"active_tap\":\"auto\",\"logo\":null,\"tools\":[{\"id\":\"9033\"}]},\"id\":\"9034\",\"type\":\"Toolbar\"},{\"attributes\":{},\"id\":\"9324\",\"type\":\"CategoricalTickFormatter\"},{\"attributes\":{\"data_source\":{\"id\":\"9044\"},\"glyph\":{\"id\":\"9048\"},\"hover_glyph\":null,\"muted_glyph\":null,\"nonselection_glyph\":{\"id\":\"9049\"},\"selection_glyph\":null,\"view\":{\"id\":\"9051\"}},\"id\":\"9050\",\"type\":\"GlyphRenderer\"},{\"attributes\":{\"format\":\"0,0.[00]\"},\"id\":\"9045\",\"type\":\"NumeralTickFormatter\"},{\"attributes\":{\"fill_alpha\":{\"value\":0.1},\"fill_color\":{\"value\":\"#1f77b4\"},\"height\":{\"value\":0.9},\"line_alpha\":{\"value\":0.1},\"line_color\":{\"value\":\"white\"},\"right\":{\"field\":\"free active (3+ weeks) with 2+ users\"},\"y\":{\"field\":\"factors\"}},\"id\":\"9049\",\"type\":\"HBar\"},{\"attributes\":{\"factor_padding\":0.25,\"factors\":[\"only_comments__filtered (stream_usage)\",\"optional_views__error_shown (optional_views)\",\"choose_project__click (projects)\",\"change_space_color__click (spaces)\",\"duration__change (scheduling)\",\"profile_details_upload_avatar_button__click (profile)\",\"delete_comment_button__click (stream_usage)\",\"remove_folder_tag__click (taskview)\",\"importance_button__click (taskview)\",\"task_status__changed (task_list)\",\"shared_list__changed (sharing)\",\"user_role__changed (invitation)\",\"open_reports__click (navigation)\",\"tableview_add_column__click (table2)\",\"delete_task (boards)\",\"apps_access_page__shown (devportal)\",\"sorting_button__click (boards)\",\"new_subtask_name__typing (subtasklist)\",\"allocation_days__change (scheduling)\",\"tripple_dot__click (configurable_views)\",\"add_subproject_subfolder__click (projects)\",\"open_calendar__click (navigation)\",\"attach_menu__click (taskview)\",\"text__formatted (live_editor)\",\"remove_assignee__click (taskview)\",\"welcome_quest_show (reporting)\",\"navigation_show_spaces__click (sidebar)\",\"app_card__click (apps_integrations)\",\"space__create (spaces)\",\"change_task_priority__dnd (boards)\",\"pdf_page__navigation (proofing)\",\"attachment__added (comment_field)\",\"attachment__added (stream_usage)\",\"open_attachment_click (attachments)\",\"plus__click (configurable_views)\",\"preview__show (attachments)\",\"tableview_sorting_setting_change__click (table2)\",\"sharing_indication__click (folder_header)\",\"space_icon_tooltip__shown (spaces)\",\"visit_app (calendars_performance)\"]},\"id\":\"9020\",\"type\":\"FactorRange\"},{\"attributes\":{\"axis_label_text_color\":\"#666666\",\"axis_label_text_font_size\":\"11pt\",\"axis_label_text_font_style\":\"bold\",\"axis_line_color\":\"#C0C0C0\",\"formatter\":{\"id\":\"9324\"},\"group_label_orientation\":\"normal\",\"group_text_font_size\":\"11pt\",\"major_label_orientation\":\"horizontal\",\"major_label_text_color\":\"#898989\",\"major_label_text_font_size\":\"10pt\",\"major_tick_in\":0,\"major_tick_line_color\":\"#C0C0C0\",\"major_tick_out\":4,\"minor_tick_line_color\":\"#C0C0C0\",\"minor_tick_out\":1,\"separator_line_alpha\":0,\"subgroup_label_orientation\":\"normal\",\"subgroup_text_font_size\":\"11pt\",\"ticker\":{\"id\":\"9031\"}},\"id\":\"9030\",\"type\":\"CategoricalAxis\"},{\"attributes\":{},\"id\":\"9031\",\"type\":\"CategoricalTicker\"},{\"attributes\":{},\"id\":\"9327\",\"type\":\"UnionRenderers\"},{\"attributes\":{\"text\":\"Top 41-80 events for free active (3+ weeks) with 2+ users\",\"text_color\":{\"value\":\"#333333\"},\"text_font_size\":{\"value\":\"18pt\"}},\"id\":\"9036\",\"type\":\"Title\"},{\"attributes\":{\"text\":\"Sorts by event score (the lower score - more frequent event)\",\"text_color\":{\"value\":\"#666666\"},\"text_font_size\":{\"value\":\"12pt\"}},\"id\":\"9040\",\"type\":\"Title\"},{\"attributes\":{\"fill_color\":{\"value\":\"#1f77b4\"},\"height\":{\"value\":0.9},\"line_color\":{\"value\":\"white\"},\"right\":{\"field\":\"free active (3+ weeks) with 2+ users\"},\"y\":{\"field\":\"factors\"}},\"id\":\"9048\",\"type\":\"HBar\"},{\"attributes\":{\"data\":{\"factors\":[\"only_comments__filtered (stream_usage)\",\"optional_views__error_shown (optional_views)\",\"choose_project__click (projects)\",\"change_space_color__click (spaces)\",\"duration__change (scheduling)\",\"profile_details_upload_avatar_button__click (profile)\",\"delete_comment_button__click (stream_usage)\",\"remove_folder_tag__click (taskview)\",\"importance_button__click (taskview)\",\"task_status__changed (task_list)\",\"shared_list__changed (sharing)\",\"user_role__changed (invitation)\",\"open_reports__click (navigation)\",\"tableview_add_column__click (table2)\",\"delete_task (boards)\",\"apps_access_page__shown (devportal)\",\"sorting_button__click (boards)\",\"new_subtask_name__typing (subtasklist)\",\"allocation_days__change (scheduling)\",\"tripple_dot__click (configurable_views)\",\"add_subproject_subfolder__click (projects)\",\"open_calendar__click (navigation)\",\"attach_menu__click (taskview)\",\"text__formatted (live_editor)\",\"remove_assignee__click (taskview)\",\"welcome_quest_show (reporting)\",\"navigation_show_spaces__click (sidebar)\",\"app_card__click (apps_integrations)\",\"space__create (spaces)\",\"change_task_priority__dnd (boards)\",\"pdf_page__navigation (proofing)\",\"attachment__added (comment_field)\",\"attachment__added (stream_usage)\",\"open_attachment_click (attachments)\",\"plus__click (configurable_views)\",\"preview__show (attachments)\",\"tableview_sorting_setting_change__click (table2)\",\"sharing_indication__click (folder_header)\",\"space_icon_tooltip__shown (spaces)\",\"visit_app (calendars_performance)\"],\"free active (3+ weeks) with 2+ users\":{\"__ndarray__\":\"MzMzMzNzQ0DNzMzMzExDQM3MzMzMDENAZmZmZmamQkAzMzMzMzNCQDMzMzMz80FAMzMzMzPzQUBmZmZmZiZBQDMzMzMzs0BAzczMzMwMQEAAAAAAAIA/QM3MzMzMTD9AzczMzMxMP0CamZmZmZk9QGZmZmZm5jxAmpmZmZmZPEAzMzMzMzM7QDMzMzMzszlAzczMzMxMOUDNzMzMzEw5QAAAAAAAADlAMzMzMzMzOEBmZmZmZuY3QM3MzMzMTDdAMzMzMzMzN0DNzMzMzEw2QGZmZmZm5jVAmpmZmZmZNUAzMzMzMzM1QAAAAAAAgDRAzczMzMxMNEDNzMzMzMwzQAAAAAAAgDNAzczMzMxMM0AAAAAAAAAzQAAAAAAAADNAmpmZmZmZMkDNzMzMzEwyQM3MzMzMzC9AzczMzMzML0A=\",\"dtype\":\"float64\",\"order\":\"little\",\"shape\":[40]},\"index\":[0,1,2,3,4,5,6,7,8,9,10,11,12,13,14,15,16,17,18,19,20,21,22,23,24,25,26,27,28,29,30,31,32,33,34,35,36,37,38,39]},\"name\":\"Series:\",\"selected\":{\"id\":\"9326\"},\"selection_policy\":{\"id\":\"9327\"}},\"id\":\"9044\",\"type\":\"ColumnDataSource\"},{\"attributes\":{\"level\":\"overlay\",\"name\":\"subtitle\",\"text\":\"\",\"text_align\":\"right\",\"text_color\":\"#898989\",\"text_font_size\":\"10px\",\"x\":864.0,\"x_units\":\"screen\",\"y\":0,\"y_units\":\"screen\"},\"id\":\"9039\",\"type\":\"Label\"},{\"attributes\":{},\"id\":\"9024\",\"type\":\"CategoricalScale\"}],\"root_ids\":[\"9017\"]},\"title\":\"Bokeh Application\",\"version\":\"2.2.3\"}};\n",
       "  var render_items = [{\"docid\":\"1dc21e7c-7b90-4964-946c-e335a5fa3740\",\"root_ids\":[\"9017\"],\"roots\":{\"9017\":\"2e355df8-ebaf-4ae5-aa74-68e5b6bcc31e\"}}];\n",
       "  root.Bokeh.embed.embed_items_notebook(docs_json, render_items);\n",
       "\n",
       "  }\n",
       "  if (root.Bokeh !== undefined) {\n",
       "    embed_document(root);\n",
       "  } else {\n",
       "    var attempts = 0;\n",
       "    var timer = setInterval(function(root) {\n",
       "      if (root.Bokeh !== undefined) {\n",
       "        clearInterval(timer);\n",
       "        embed_document(root);\n",
       "      } else {\n",
       "        attempts++;\n",
       "        if (attempts > 100) {\n",
       "          clearInterval(timer);\n",
       "          console.log(\"Bokeh: ERROR: Unable to run BokehJS code because BokehJS library is missing\");\n",
       "        }\n",
       "      }\n",
       "    }, 10, root)\n",
       "  }\n",
       "})(window);"
      ],
      "application/vnd.bokehjs_exec.v0+json": ""
     },
     "metadata": {
      "application/vnd.bokehjs_exec.v0+json": {
       "id": "9017"
      }
     },
     "output_type": "display_data"
    }
   ],
   "source": [
    "ch = chartify.Chart(blank_labels=True, y_axis_type='categorical')\n",
    "ch.set_title(\"Top 41-80 events for free active (3+ weeks) with 2+ users\")\n",
    "ch.set_subtitle(\"Sorts by event score (the lower score - more frequent event)\")\n",
    "ch.plot.bar(\n",
    "    data_frame=df_final_scores[41:81],\n",
    "    categorical_columns=['event_group'],\n",
    "    numeric_column='free active (3+ weeks) with 2+ users',\n",
    "    categorical_order_ascending=False)\n",
    "ch.figure.height = 600\n",
    "ch.figure.width = 1000\n",
    "ch.axes.set_yaxis_tick_orientation('horizontal')\n",
    "ch.show()"
   ]
  },
  {
   "cell_type": "code",
   "execution_count": null,
   "metadata": {},
   "outputs": [],
   "source": [
    "df_final_scores[0:41].head(3)"
   ]
  },
  {
   "cell_type": "markdown",
   "metadata": {},
   "source": [
    "#### **Free active (>8 weeks) with 1 user**"
   ]
  },
  {
   "cell_type": "code",
   "execution_count": 69,
   "metadata": {},
   "outputs": [],
   "source": [
    "df_events = events_count_by_acc_type[['free active (>8 weeks) with 1 user']].\\\n",
    "        sort_values(by='free active (>8 weeks) with 1 user',ascending=False).reset_index()\n",
    "df_accs = num_accs_by_events_share[num_accs_by_events_share['free active (>8 weeks) with 1 user']>0.2]\\\n",
    "                [['free active (>8 weeks) with 1 user']].\\\n",
    "            sort_values(by='free active (>8 weeks) with 1 user',ascending=False).reset_index()\n",
    "df_scores = events_score_by_acc_type[events_score_by_acc_type['free active (>8 weeks) with 1 user']<5]\\\n",
    "                [['free active (>8 weeks) with 1 user']].\\\n",
    "            sort_values(by='free active (>8 weeks) with 1 user',ascending=True).reset_index()"
   ]
  },
  {
   "cell_type": "code",
   "execution_count": 71,
   "metadata": {},
   "outputs": [
    {
     "data": {
      "text/html": [
       "\n",
       "\n",
       "\n",
       "\n",
       "\n",
       "\n",
       "  <div class=\"bk-root\" id=\"16632fcd-a971-463e-a5f5-1176cd78e3dc\" data-root-id=\"3128\"></div>\n"
      ]
     },
     "metadata": {},
     "output_type": "display_data"
    },
    {
     "data": {
      "application/javascript": [
       "(function(root) {\n",
       "  function embed_document(root) {\n",
       "    \n",
       "  var docs_json = {\"2b9deab0-f6d8-4d88-8524-db0bf62bab8e\":{\"roots\":{\"references\":[{\"attributes\":{\"above\":[{\"id\":\"3151\"}],\"background_fill_color\":\"white\",\"below\":[{\"id\":\"3137\"},{\"id\":\"3150\"}],\"border_fill_color\":\"white\",\"center\":[{\"id\":\"3140\"},{\"id\":\"3143\"}],\"height\":600,\"left\":[{\"id\":\"3141\"}],\"min_border_bottom\":60,\"min_border_left\":60,\"min_border_right\":60,\"min_border_top\":40,\"outline_line_color\":\"white\",\"plot_height\":540,\"plot_width\":960,\"renderers\":[{\"id\":\"3161\"}],\"title\":{\"id\":\"3147\"},\"toolbar\":{\"id\":\"3145\"},\"width\":1000,\"x_range\":{\"id\":\"3129\"},\"x_scale\":{\"id\":\"3133\"},\"y_range\":{\"id\":\"3131\"},\"y_scale\":{\"id\":\"3135\"}},\"id\":\"3128\",\"subtype\":\"Figure\",\"type\":\"Plot\"},{\"attributes\":{\"fill_alpha\":{\"value\":0.1},\"fill_color\":{\"value\":\"#1f77b4\"},\"height\":{\"value\":0.9},\"line_alpha\":{\"value\":0.1},\"line_color\":{\"value\":\"white\"},\"right\":{\"field\":\"free active (>8 weeks) with 1 user\"},\"y\":{\"field\":\"factors\"}},\"id\":\"3160\",\"type\":\"HBar\"},{\"attributes\":{},\"id\":\"3284\",\"type\":\"UnionRenderers\"},{\"attributes\":{\"axis_label_text_color\":\"#666666\",\"axis_label_text_font_size\":\"11pt\",\"axis_label_text_font_style\":\"bold\",\"axis_line_color\":\"#C0C0C0\",\"formatter\":{\"id\":\"3156\"},\"major_label_text_color\":\"#898989\",\"major_label_text_font_size\":\"10pt\",\"major_tick_in\":0,\"major_tick_line_color\":\"#C0C0C0\",\"major_tick_out\":4,\"minor_tick_line_color\":\"#C0C0C0\",\"minor_tick_out\":1,\"ticker\":{\"id\":\"3138\"}},\"id\":\"3137\",\"type\":\"LinearAxis\"},{\"attributes\":{\"axis\":{\"id\":\"3137\"},\"grid_line_color\":null,\"ticker\":null},\"id\":\"3140\",\"type\":\"Grid\"},{\"attributes\":{},\"id\":\"3283\",\"type\":\"Selection\"},{\"attributes\":{},\"id\":\"3135\",\"type\":\"CategoricalScale\"},{\"attributes\":{\"factor_padding\":0.25,\"factors\":[\"add_project_folder_plus__click (projects)\",\"add_project_folder_plus_click (folder)\",\"projects_tab__shown (navigation)\",\"due_date__change (scheduling)\",\"comment__sent (comment_field)\",\"mention_list__shown (contact_picker)\",\"tableview_open__view (table2)\",\"duplication_finish (duplicate)\",\"duplication_start (duplicate)\",\"change_task_status__dnd (boards)\",\"add_subproject_subfolder__click (projects)\",\"optional_views__error_shown (optional_views)\",\"new_subtask_close__click (subtasklist)\",\"show_task (boards)\",\"theme_mosaic__click (profile_themes)\",\"tasklist__click (navigation)\",\"tableview_change_value__click (table2)\",\"time__changed (scheduling)\",\"displayed_views__changed (optional_views)\",\"board_view__shown (boards)\",\"timeline__click (navigation)\",\"filter__changed (boards)\",\"create_task (boards)\",\"save_event__click (scheduling)\",\"new_subtask__added (subtasklist)\",\"users_groups_list__shown (sharing)\",\"wrike_tab__shown (navigation)\",\"my_work_tab__shown (navigation)\",\"new_task__created (task_list)\",\"new_subtask_suggest__shown (subtasklist)\"]},\"id\":\"3131\",\"type\":\"FactorRange\"},{\"attributes\":{\"level\":\"overlay\",\"name\":\"subtitle\",\"text\":\"\",\"text_align\":\"right\",\"text_color\":\"#898989\",\"text_font_size\":\"10px\",\"x\":864.0,\"x_units\":\"screen\",\"y\":0,\"y_units\":\"screen\"},\"id\":\"3150\",\"type\":\"Label\"},{\"attributes\":{\"end\":null,\"start\":0},\"id\":\"3129\",\"type\":\"DataRange1d\"},{\"attributes\":{\"axis\":{\"id\":\"3141\"},\"dimension\":1,\"grid_line_color\":null,\"ticker\":null},\"id\":\"3143\",\"type\":\"Grid\"},{\"attributes\":{},\"id\":\"3138\",\"type\":\"BasicTicker\"},{\"attributes\":{\"text\":\"Top 30 events for free active (>8 weeks) with 1 user\",\"text_color\":{\"value\":\"#333333\"},\"text_font_size\":{\"value\":\"18pt\"}},\"id\":\"3147\",\"type\":\"Title\"},{\"attributes\":{},\"id\":\"3144\",\"type\":\"SaveTool\"},{\"attributes\":{\"text\":\"Sorts by event score (the lower score - more frequent event)\",\"text_color\":{\"value\":\"#666666\"},\"text_font_size\":{\"value\":\"12pt\"}},\"id\":\"3151\",\"type\":\"Title\"},{\"attributes\":{\"data\":{\"factors\":[\"add_project_folder_plus__click (projects)\",\"add_project_folder_plus_click (folder)\",\"projects_tab__shown (navigation)\",\"due_date__change (scheduling)\",\"comment__sent (comment_field)\",\"mention_list__shown (contact_picker)\",\"tableview_open__view (table2)\",\"duplication_finish (duplicate)\",\"duplication_start (duplicate)\",\"change_task_status__dnd (boards)\",\"add_subproject_subfolder__click (projects)\",\"optional_views__error_shown (optional_views)\",\"new_subtask_close__click (subtasklist)\",\"show_task (boards)\",\"theme_mosaic__click (profile_themes)\",\"tasklist__click (navigation)\",\"tableview_change_value__click (table2)\",\"time__changed (scheduling)\",\"displayed_views__changed (optional_views)\",\"board_view__shown (boards)\",\"timeline__click (navigation)\",\"filter__changed (boards)\",\"create_task (boards)\",\"save_event__click (scheduling)\",\"new_subtask__added (subtasklist)\",\"users_groups_list__shown (sharing)\",\"wrike_tab__shown (navigation)\",\"my_work_tab__shown (navigation)\",\"new_task__created (task_list)\",\"new_subtask_suggest__shown (subtasklist)\"],\"free active (>8 weeks) with 1 user\":{\"__ndarray__\":\"nud5nud5DkCe53me53kOQOQMCy6V7Q1Ahi6FhK/EDEAAAAAAAMAMQEmSJEmSJAxAq6qqqqqqCkD41ZhID1QKQPjVmEgPVApAI591gynyCUBwVSk21IgIQGE3kv2qYAdA7vrZYmX4BkBMZzGdxXQGQJlcQUyuIAZA0B5GjX3HBUDs6+vr6+sEQCdNmjRp0gRAvEAmxQtkAkBVVVVVVVUBQJ5VWnd1AwFARXqgcnYL/z8UO7ETO7H7P9KkSZMmTfo/epC7frZY+T+3bdu2bdv2P8uHe5bOw/M/oBvz9NFq8j+aGGAPnInxP5h0ah7kru8/\",\"dtype\":\"float64\",\"order\":\"little\",\"shape\":[30]},\"index\":[0,1,2,3,4,5,6,7,8,9,10,11,12,13,14,15,16,17,18,19,20,21,22,23,24,25,26,27,28,29]},\"name\":\"Series:\",\"selected\":{\"id\":\"3283\"},\"selection_policy\":{\"id\":\"3284\"}},\"id\":\"3155\",\"type\":\"ColumnDataSource\"},{\"attributes\":{},\"id\":\"3133\",\"type\":\"LinearScale\"},{\"attributes\":{\"fill_color\":{\"value\":\"#1f77b4\"},\"height\":{\"value\":0.9},\"line_color\":{\"value\":\"white\"},\"right\":{\"field\":\"free active (>8 weeks) with 1 user\"},\"y\":{\"field\":\"factors\"}},\"id\":\"3159\",\"type\":\"HBar\"},{\"attributes\":{\"format\":\"0,0.[0]\"},\"id\":\"3156\",\"type\":\"NumeralTickFormatter\"},{\"attributes\":{\"active_drag\":null,\"active_inspect\":\"auto\",\"active_multi\":null,\"active_scroll\":\"auto\",\"active_tap\":\"auto\",\"logo\":null,\"tools\":[{\"id\":\"3144\"}]},\"id\":\"3145\",\"type\":\"Toolbar\"},{\"attributes\":{},\"id\":\"3142\",\"type\":\"CategoricalTicker\"},{\"attributes\":{\"source\":{\"id\":\"3155\"}},\"id\":\"3162\",\"type\":\"CDSView\"},{\"attributes\":{},\"id\":\"3281\",\"type\":\"CategoricalTickFormatter\"},{\"attributes\":{\"data_source\":{\"id\":\"3155\"},\"glyph\":{\"id\":\"3159\"},\"hover_glyph\":null,\"muted_glyph\":null,\"nonselection_glyph\":{\"id\":\"3160\"},\"selection_glyph\":null,\"view\":{\"id\":\"3162\"}},\"id\":\"3161\",\"type\":\"GlyphRenderer\"},{\"attributes\":{\"axis_label_text_color\":\"#666666\",\"axis_label_text_font_size\":\"11pt\",\"axis_label_text_font_style\":\"bold\",\"axis_line_color\":\"#C0C0C0\",\"formatter\":{\"id\":\"3281\"},\"group_label_orientation\":\"normal\",\"group_text_font_size\":\"11pt\",\"major_label_orientation\":\"horizontal\",\"major_label_text_color\":\"#898989\",\"major_label_text_font_size\":\"10pt\",\"major_tick_in\":0,\"major_tick_line_color\":\"#C0C0C0\",\"major_tick_out\":4,\"minor_tick_line_color\":\"#C0C0C0\",\"minor_tick_out\":1,\"separator_line_alpha\":0,\"subgroup_label_orientation\":\"normal\",\"subgroup_text_font_size\":\"11pt\",\"ticker\":{\"id\":\"3142\"}},\"id\":\"3141\",\"type\":\"CategoricalAxis\"}],\"root_ids\":[\"3128\"]},\"title\":\"Bokeh Application\",\"version\":\"2.2.3\"}};\n",
       "  var render_items = [{\"docid\":\"2b9deab0-f6d8-4d88-8524-db0bf62bab8e\",\"root_ids\":[\"3128\"],\"roots\":{\"3128\":\"16632fcd-a971-463e-a5f5-1176cd78e3dc\"}}];\n",
       "  root.Bokeh.embed.embed_items_notebook(docs_json, render_items);\n",
       "\n",
       "  }\n",
       "  if (root.Bokeh !== undefined) {\n",
       "    embed_document(root);\n",
       "  } else {\n",
       "    var attempts = 0;\n",
       "    var timer = setInterval(function(root) {\n",
       "      if (root.Bokeh !== undefined) {\n",
       "        clearInterval(timer);\n",
       "        embed_document(root);\n",
       "      } else {\n",
       "        attempts++;\n",
       "        if (attempts > 100) {\n",
       "          clearInterval(timer);\n",
       "          console.log(\"Bokeh: ERROR: Unable to run BokehJS code because BokehJS library is missing\");\n",
       "        }\n",
       "      }\n",
       "    }, 10, root)\n",
       "  }\n",
       "})(window);"
      ],
      "application/vnd.bokehjs_exec.v0+json": ""
     },
     "metadata": {
      "application/vnd.bokehjs_exec.v0+json": {
       "id": "3128"
      }
     },
     "output_type": "display_data"
    }
   ],
   "source": [
    "ch = chartify.Chart(blank_labels=True, y_axis_type='categorical')\n",
    "ch.set_title(\"Top 30 events for free active (>8 weeks) with 1 user\")\n",
    "ch.set_subtitle(\"Sorts by event score (the lower score - more frequent event)\")\n",
    "ch.plot.bar(\n",
    "    data_frame=df_scores[5:35],\n",
    "    categorical_columns=['event_group'],\n",
    "    numeric_column='free active (>8 weeks) with 1 user',\n",
    "    categorical_order_ascending=False)\n",
    "ch.figure.height = 600\n",
    "ch.figure.width = 1000\n",
    "ch.axes.set_yaxis_tick_orientation('horizontal')\n",
    "ch.show()"
   ]
  },
  {
   "cell_type": "markdown",
   "metadata": {},
   "source": [
    "## Decision tree for top events"
   ]
  },
  {
   "cell_type": "markdown",
   "metadata": {},
   "source": [
    "What events can 'predict' the retention of users on 3 week of use with 2+ active users?"
   ]
  },
  {
   "cell_type": "code",
   "execution_count": null,
   "metadata": {},
   "outputs": [],
   "source": [
    "filtered_free_events.head(2)"
   ]
  },
  {
   "cell_type": "code",
   "execution_count": null,
   "metadata": {},
   "outputs": [],
   "source": [
    "filtered_free_events.\\\n",
    "    groupby(['account_type']).\\\n",
    "    aggregate({'account_id': 'nunique'}).reset_index().sort_values(by='account_id',ascending=True)"
   ]
  },
  {
   "cell_type": "code",
   "execution_count": null,
   "metadata": {},
   "outputs": [],
   "source": [
    "def is_retained_long(account_type):\n",
    "    if account_type == 'free active (3+ weeks) with 2+ users':\n",
    "        return 1\n",
    "    else:\n",
    "        return 0\n",
    "df = filtered_free_events[filtered_free_events['account_type'].\\\n",
    "                              isin(['free active (3+ weeks) with 2+ users','within trial active with 2+ users'])]\n",
    "df['is_retained_long'] = df.apply(lambda x: is_retained_long(x['account_type']),axis=1)\n",
    "df.head(2)"
   ]
  },
  {
   "cell_type": "code",
   "execution_count": 35,
   "metadata": {},
   "outputs": [
    {
     "data": {
      "text/plain": [
       "(37535, 17)"
      ]
     },
     "execution_count": 35,
     "metadata": {},
     "output_type": "execute_result"
    }
   ],
   "source": [
    "df.shape"
   ]
  },
  {
   "cell_type": "code",
   "execution_count": 36,
   "metadata": {},
   "outputs": [],
   "source": [
    "top_events = df_final_scores.iloc[0:61,0]\n",
    "df = df[df['event_group'].isin(top_events)]"
   ]
  },
  {
   "cell_type": "code",
   "execution_count": null,
   "metadata": {},
   "outputs": [],
   "source": [
    "df.head(2)"
   ]
  },
  {
   "cell_type": "code",
   "execution_count": 38,
   "metadata": {},
   "outputs": [],
   "source": [
    "df_cnt_events = pd.pivot_table(df, values=['cnt_events'], \n",
    "                   index=['account_id','is_retained_long','avg_active_users_view','avg_active_users_edit'],\n",
    "                   columns=['event_group'], \n",
    "                   aggfunc={'cnt_events': np.sum}, fill_value=0)\n",
    "df_event_score = pd.pivot_table(df, values=['event_score'], \n",
    "                   index=['account_id','is_retained_long','avg_active_users_view','avg_active_users_edit'],\n",
    "                   columns=['event_group'], \n",
    "                   aggfunc={'event_score': np.median}, fill_value=0)"
   ]
  },
  {
   "cell_type": "code",
   "execution_count": 39,
   "metadata": {},
   "outputs": [],
   "source": [
    "df_cnt_events = df_cnt_events.droplevel(0, axis=1).reset_index()"
   ]
  },
  {
   "cell_type": "code",
   "execution_count": null,
   "metadata": {},
   "outputs": [],
   "source": [
    "df_cnt_events.head(2)"
   ]
  },
  {
   "cell_type": "code",
   "execution_count": null,
   "metadata": {},
   "outputs": [],
   "source": [
    "df_cnt_events.loc[:,'avg_active_users_view':].head()"
   ]
  },
  {
   "cell_type": "code",
   "execution_count": 42,
   "metadata": {},
   "outputs": [
    {
     "data": {
      "text/plain": [
       "(1106, 65)"
      ]
     },
     "execution_count": 42,
     "metadata": {},
     "output_type": "execute_result"
    }
   ],
   "source": [
    "df_cnt_events.shape"
   ]
  },
  {
   "cell_type": "markdown",
   "metadata": {
    "extensions": {
     "jupyter_dashboards": {
      "version": 1,
      "views": {
       "grid_default": {
        "col": 0,
        "height": 4,
        "hidden": false,
        "row": 0,
        "width": 4
       },
       "report_default": {}
      }
     }
    }
   },
   "source": [
    "Teaching models"
   ]
  },
  {
   "cell_type": "code",
   "execution_count": 43,
   "metadata": {
    "extensions": {
     "jupyter_dashboards": {
      "version": 1,
      "views": {
       "grid_default": {
        "hidden": true
       },
       "report_default": {}
      }
     }
    }
   },
   "outputs": [],
   "source": [
    "from sklearn.metrics import classification_report, accuracy_score\n",
    "from sklearn.model_selection import train_test_split\n",
    "from sklearn.ensemble import RandomForestClassifier\n",
    "\n",
    "from sklearn.datasets import make_regression\n",
    "from sklearn.linear_model import LogisticRegression\n",
    "\n",
    "from sklearn import tree\n",
    "from sklearn.tree import DecisionTreeClassifier\n",
    "\n",
    "from sklearn.ensemble import GradientBoostingClassifier"
   ]
  },
  {
   "cell_type": "markdown",
   "metadata": {},
   "source": [
    "Cross-validation"
   ]
  },
  {
   "cell_type": "code",
   "execution_count": 44,
   "metadata": {},
   "outputs": [],
   "source": [
    "from sklearn.model_selection import RepeatedStratifiedKFold\n",
    "from sklearn.model_selection import StratifiedKFold\n",
    "from sklearn.model_selection import cross_val_score"
   ]
  },
  {
   "cell_type": "markdown",
   "metadata": {
    "extensions": {
     "jupyter_dashboards": {
      "version": 1,
      "views": {
       "grid_default": {
        "col": 4,
        "height": 4,
        "hidden": false,
        "row": 0,
        "width": 4
       },
       "report_default": {}
      }
     }
    }
   },
   "source": [
    "For drawing the tree"
   ]
  },
  {
   "cell_type": "code",
   "execution_count": 45,
   "metadata": {
    "extensions": {
     "jupyter_dashboards": {
      "version": 1,
      "views": {
       "grid_default": {
        "hidden": true
       },
       "report_default": {}
      }
     }
    }
   },
   "outputs": [],
   "source": [
    "from six import StringIO\n",
    "from IPython.display import Image  \n",
    "import pydotplus\n",
    "import graphviz\n",
    "from sklearn.tree import export_graphviz\n",
    "from graphviz import Source\n",
    "from IPython.display import SVG"
   ]
  },
  {
   "cell_type": "markdown",
   "metadata": {},
   "source": [
    "Model evaluation"
   ]
  },
  {
   "cell_type": "code",
   "execution_count": 46,
   "metadata": {},
   "outputs": [],
   "source": [
    "from sklearn import metrics\n",
    "\n",
    "from sklearn.metrics import confusion_matrix\n",
    "from sklearn.metrics import f1_score\n",
    "from sklearn.metrics import classification_report\n",
    "from sklearn.metrics import plot_confusion_matrix\n",
    "\n",
    "from sklearn.metrics import precision_recall_curve\n",
    "from sklearn.metrics import auc"
   ]
  },
  {
   "cell_type": "markdown",
   "metadata": {},
   "source": [
    "Feature importance"
   ]
  },
  {
   "cell_type": "code",
   "execution_count": 47,
   "metadata": {},
   "outputs": [],
   "source": [
    "from sklearn.feature_selection import SelectKBest\n",
    "from sklearn.feature_selection import chi2"
   ]
  },
  {
   "cell_type": "code",
   "execution_count": 48,
   "metadata": {
    "extensions": {
     "jupyter_dashboards": {
      "version": 1,
      "views": {
       "grid_default": {
        "hidden": true
       },
       "report_default": {}
      }
     }
    }
   },
   "outputs": [],
   "source": [
    "activity_columns = df_cnt_events.loc[:,'avg_active_users_view':].columns\n",
    "df_cnt_events[['is_retained_long']]=df_cnt_events[['is_retained_long']].astype('int64')\n",
    "df_input = df_cnt_events[activity_columns]\n",
    "df_output = df_cnt_events[['is_retained_long']]"
   ]
  },
  {
   "cell_type": "code",
   "execution_count": 49,
   "metadata": {
    "extensions": {
     "jupyter_dashboards": {
      "version": 1,
      "views": {
       "grid_default": {
        "hidden": true
       },
       "report_default": {}
      }
     }
    },
    "scrolled": true
   },
   "outputs": [],
   "source": [
    "inputs_train, inputs_test, expected_output_train, expected_output_test = \\\n",
    "    train_test_split(df_input, df_output, test_size = 0.15, random_state = 42)"
   ]
  },
  {
   "cell_type": "code",
   "execution_count": null,
   "metadata": {
    "extensions": {
     "jupyter_dashboards": {
      "version": 1,
      "views": {
       "grid_default": {
        "col": 0,
        "height": 11,
        "hidden": false,
        "row": 84,
        "width": 4
       },
       "report_default": {}
      }
     }
    }
   },
   "outputs": [],
   "source": [
    "model = tree.DecisionTreeClassifier(random_state=42,\n",
    "                               criterion='gini',\n",
    "                               max_depth=5,\n",
    "                               min_samples_split=70,\n",
    "                               min_samples_leaf=20,\n",
    "                               class_weight='balanced',\n",
    "                               presort=False)\n",
    "model.fit(inputs_train, expected_output_train)"
   ]
  },
  {
   "cell_type": "code",
   "execution_count": 116,
   "metadata": {
    "extensions": {
     "jupyter_dashboards": {
      "version": 1,
      "views": {
       "grid_default": {
        "col": 4,
        "height": 4,
        "hidden": false,
        "row": 85,
        "width": 4
       },
       "report_default": {}
      }
     }
    }
   },
   "outputs": [
    {
     "name": "stdout",
     "output_type": "stream",
     "text": [
      "Accuracy = 77.71084337349397%\n"
     ]
    }
   ],
   "source": [
    "accuracy = model.score(inputs_test, expected_output_test)\n",
    "print(\"Accuracy = {}%\".format(accuracy * 100))"
   ]
  },
  {
   "cell_type": "code",
   "execution_count": 117,
   "metadata": {},
   "outputs": [
    {
     "data": {
      "text/plain": [
       "array([0, 1])"
      ]
     },
     "execution_count": 117,
     "metadata": {},
     "output_type": "execute_result"
    }
   ],
   "source": [
    "model.classes_"
   ]
  },
  {
   "cell_type": "code",
   "execution_count": 118,
   "metadata": {},
   "outputs": [],
   "source": [
    "from sklearn.tree import export_graphviz\n",
    "export_graphviz(\n",
    "    model,  \n",
    "    out_file        = 'tree.dot',\n",
    "    feature_names   = activity_columns,\n",
    "    class_names     = ['did not retain','retained 3+ weeks'],\n",
    "    filled          = True,\n",
    "    rounded         = True\n",
    ")"
   ]
  },
  {
   "cell_type": "code",
   "execution_count": null,
   "metadata": {},
   "outputs": [],
   "source": [
    "fig, ax = plt.subplots(figsize=(50, 20), facecolor='k')\n",
    "tree.plot_tree(model,\n",
    "               feature_names = activity_columns, \n",
    "               class_names=['did not retain','retained 3+ weeks'],filled = True, rotate=True, ax=ax);\n",
    "# plt.show()"
   ]
  },
  {
   "cell_type": "code",
   "execution_count": 85,
   "metadata": {
    "extensions": {
     "jupyter_dashboards": {
      "version": 1,
      "views": {
       "grid_default": {
        "hidden": true
       },
       "report_default": {}
      }
     }
    }
   },
   "outputs": [],
   "source": [
    "import math\n",
    "n_tree=300\n",
    "nodesize=10\n",
    "mtry=math.floor(math.sqrt(len(inputs_train)-1))\n",
    "#class_weight = dict({'churned':1.9, 'no change':35, 'downgrade':180,'upgrade':})"
   ]
  },
  {
   "cell_type": "code",
   "execution_count": 122,
   "metadata": {
    "extensions": {
     "jupyter_dashboards": {
      "version": 1,
      "views": {
       "grid_default": {
        "col": 4,
        "height": 20,
        "hidden": false,
        "row": 89,
        "width": 4
       },
       "report_default": {}
      }
     }
    }
   },
   "outputs": [
    {
     "data": {
      "text/plain": [
       "RandomForestClassifier(class_weight='balanced', min_samples_leaf=10,\n",
       "                       n_estimators=300, random_state=42)"
      ]
     },
     "execution_count": 122,
     "metadata": {},
     "output_type": "execute_result"
    }
   ],
   "source": [
    "#class_weight='balanced'\n",
    "rf = RandomForestClassifier(bootstrap=True,class_weight='balanced',\n",
    "                             n_estimators=n_tree,min_samples_leaf=nodesize,\n",
    "                             criterion='gini',random_state=42)\n",
    "rf.fit(inputs_train, expected_output_train)"
   ]
  },
  {
   "cell_type": "code",
   "execution_count": 121,
   "metadata": {
    "extensions": {
     "jupyter_dashboards": {
      "version": 1,
      "views": {
       "grid_default": {
        "col": 8,
        "height": 4,
        "hidden": false,
        "row": 89,
        "width": 4
       },
       "report_default": {}
      }
     }
    }
   },
   "outputs": [
    {
     "name": "stdout",
     "output_type": "stream",
     "text": [
      "Accuracy = 80.12%\n"
     ]
    }
   ],
   "source": [
    "accuracy = rf.score(inputs_test, expected_output_test)\n",
    "print(\"Accuracy = {}%\".format(round(accuracy,4) * 100))"
   ]
  },
  {
   "cell_type": "code",
   "execution_count": 88,
   "metadata": {},
   "outputs": [],
   "source": [
    "def show_plot_confusion_matrix(model, inputs, outputs, class_names=['did not retain','retained 3+ weeks']):\n",
    "    titles_options = [(\"Confusion matrix, without normalization\", None),\n",
    "                  (\"Normalized confusion matrix\", 'true')]\n",
    "    for title, normalize in titles_options:\n",
    "        disp = plot_confusion_matrix(model, inputs, outputs,\n",
    "                                     display_labels=class_names,\n",
    "                                     cmap=plt.cm.Blues,\n",
    "                                     normalize=normalize)\n",
    "        disp.ax_.set_title(title)\n",
    "\n",
    "        print(title)\n",
    "        print(disp.confusion_matrix)\n",
    "\n",
    "    plt.show()"
   ]
  },
  {
   "cell_type": "markdown",
   "metadata": {},
   "source": [
    "**Train**"
   ]
  },
  {
   "cell_type": "code",
   "execution_count": 89,
   "metadata": {},
   "outputs": [
    {
     "name": "stdout",
     "output_type": "stream",
     "text": [
      "Confusion matrix, without normalization\n",
      "[[419  61]\n",
      " [ 76 384]]\n",
      "Normalized confusion matrix\n",
      "[[0.87291667 0.12708333]\n",
      " [0.16521739 0.83478261]]\n"
     ]
    },
    {
     "data": {
      "image/png": "[encoded data removed]",
      "text/plain": [
       "<Figure size 432x288 with 2 Axes>"
      ]
     },
     "metadata": {},
     "output_type": "display_data"
    },
    {
     "data": {
      "image/png": "[encoded data removed]",
      "text/plain": [
       "<Figure size 432x288 with 2 Axes>"
      ]
     },
     "metadata": {},
     "output_type": "display_data"
    }
   ],
   "source": [
    "show_plot_confusion_matrix(rf, inputs_train, expected_output_train)"
   ]
  },
  {
   "cell_type": "markdown",
   "metadata": {},
   "source": [
    "**Test**"
   ]
  },
  {
   "cell_type": "code",
   "execution_count": 90,
   "metadata": {},
   "outputs": [
    {
     "name": "stdout",
     "output_type": "stream",
     "text": [
      "Confusion matrix, without normalization\n",
      "[[69 14]\n",
      " [17 66]]\n",
      "Normalized confusion matrix\n",
      "[[0.8313253  0.1686747 ]\n",
      " [0.20481928 0.79518072]]\n"
     ]
    },
    {
     "data": {
      "image/png": "[encoded data removed]",
      "text/plain": [
       "<Figure size 432x288 with 2 Axes>"
      ]
     },
     "metadata": {},
     "output_type": "display_data"
    },
    {
     "data": {
      "image/png": "[encoded data removed]",
      "text/plain": [
       "<Figure size 432x288 with 2 Axes>"
      ]
     },
     "metadata": {},
     "output_type": "display_data"
    }
   ],
   "source": [
    "show_plot_confusion_matrix(rf, inputs_test, expected_output_test)"
   ]
  },
  {
   "cell_type": "markdown",
   "metadata": {},
   "source": [
    "What events are importnat in predicting?"
   ]
  },
  {
   "cell_type": "markdown",
   "metadata": {},
   "source": [
    "#### Feature importance"
   ]
  },
  {
   "cell_type": "code",
   "execution_count": null,
   "metadata": {
    "extensions": {
     "jupyter_dashboards": {
      "version": 1,
      "views": {
       "grid_default": {
        "col": 0,
        "height": 12,
        "hidden": false,
        "row": 99,
        "width": 4
       },
       "report_default": {}
      }
     }
    }
   },
   "outputs": [],
   "source": [
    "pd.DataFrame({'feature': activity_columns,\n",
    "              'importance': rf.feature_importances_.round(3)*100}).sort_values('importance', ascending=False).head(40)"
   ]
  },
  {
   "cell_type": "markdown",
   "metadata": {},
   "source": [
    "**Find best parameters with GridSearch for CTR**"
   ]
  },
  {
   "cell_type": "code",
   "execution_count": null,
   "metadata": {
    "extensions": {
     "jupyter_dashboards": {
      "version": 1,
      "views": {
       "grid_default": {
        "col": 0,
        "height": 11,
        "hidden": false,
        "row": 84,
        "width": 4
       },
       "report_default": {}
      }
     }
    }
   },
   "outputs": [],
   "source": [
    "model = tree.DecisionTreeClassifier(random_state=42,\n",
    "                               criterion='gini',\n",
    "                               max_depth=5,\n",
    "                               min_samples_split=70,\n",
    "                               min_samples_leaf=20,\n",
    "                               class_weight='balanced',\n",
    "                               presort=False)\n",
    "model.fit(inputs_train, expected_output_train)"
   ]
  },
  {
   "cell_type": "code",
   "execution_count": 127,
   "metadata": {},
   "outputs": [
    {
     "name": "stdout",
     "output_type": "stream",
     "text": [
      "{'max_depth': [3, 5, 7, 10], 'min_samples_split': [10, 20, 30, 40, 50, 60, 70], 'min_samples_leaf': [5, 10, 20, 30], 'criterion': ['gini', 'entropy'], 'class_weight': ['balanced']}\n"
     ]
    }
   ],
   "source": [
    "from sklearn.model_selection import RandomizedSearchCV\n",
    "\n",
    "# Number of trees in random forest\n",
    "# n_estimators = [int(x) for x in np.linspace(start = 200, stop = 2000, num = 10)]\n",
    "# Number of features to consider at every split\n",
    "# max_features = ['auto', 'sqrt','log2']\n",
    "# Maximum number of levels in tree\n",
    "max_depth = [int(x) for x in np.linspace(3, 10, num = 4)]\n",
    "# Minimum number of samples required to split a node\n",
    "min_samples_split = [10, 20, 30, 40, 50 , 60, 70]\n",
    "# Minimum number of samples required at each leaf node\n",
    "min_samples_leaf = [5, 10, 20, 30]\n",
    "# Method of selecting samples for training each tree\n",
    "# bootstrap = [True, False]\n",
    "#criterion for decision tree\n",
    "criterion = [\"gini\", \"entropy\"]\n",
    "class_weight = [\"balanced\"]\n",
    "# Create the random grid\n",
    "random_grid = {'max_depth': max_depth,\n",
    "               'min_samples_split': min_samples_split,\n",
    "               'min_samples_leaf': min_samples_leaf,\n",
    "               'criterion': criterion,\n",
    "               'class_weight': class_weight}\n",
    "print(random_grid)"
   ]
  },
  {
   "cell_type": "code",
   "execution_count": 128,
   "metadata": {
    "scrolled": true
   },
   "outputs": [
    {
     "name": "stdout",
     "output_type": "stream",
     "text": [
      "Fitting 5 folds for each of 100 candidates, totalling 500 fits\n"
     ]
    },
    {
     "name": "stderr",
     "output_type": "stream",
     "text": [
      "[Parallel(n_jobs=-1)]: Using backend LokyBackend with 2 concurrent workers.\n",
      "[Parallel(n_jobs=-1)]: Done 128 tasks      | elapsed:    2.5s\n",
      "[Parallel(n_jobs=-1)]: Done 500 out of 500 | elapsed:   10.6s finished\n"
     ]
    },
    {
     "data": {
      "text/plain": [
       "RandomizedSearchCV(cv=StratifiedKFold(n_splits=5, random_state=42, shuffle=True),\n",
       "                   estimator=DecisionTreeClassifier(), n_iter=100, n_jobs=-1,\n",
       "                   param_distributions={'class_weight': ['balanced'],\n",
       "                                        'criterion': ['gini', 'entropy'],\n",
       "                                        'max_depth': [3, 5, 7, 10],\n",
       "                                        'min_samples_leaf': [5, 10, 20, 30],\n",
       "                                        'min_samples_split': [10, 20, 30, 40,\n",
       "                                                              50, 60, 70]},\n",
       "                   random_state=42, verbose=2)"
      ]
     },
     "execution_count": 128,
     "metadata": {},
     "output_type": "execute_result"
    }
   ],
   "source": [
    "# Use the random grid to search for best hyperparameters\n",
    "tree = DecisionTreeClassifier()\n",
    "# Random search of parameters, using cross validation with suffle, \n",
    "# search across 100 different combinations, and use all available cores\n",
    "skf = StratifiedKFold(n_splits=5, shuffle=True, random_state=42)\n",
    "tree_random = RandomizedSearchCV(estimator = tree, param_distributions = random_grid, \n",
    "                               n_iter = 100, cv = skf, verbose=2, random_state=42, n_jobs = -1)\n",
    "# Fit the random search model\n",
    "tree_random.fit(inputs_train, expected_output_train)"
   ]
  },
  {
   "cell_type": "code",
   "execution_count": 129,
   "metadata": {},
   "outputs": [
    {
     "data": {
      "text/plain": [
       "{'min_samples_split': 70,\n",
       " 'min_samples_leaf': 10,\n",
       " 'max_depth': 10,\n",
       " 'criterion': 'gini',\n",
       " 'class_weight': 'balanced'}"
      ]
     },
     "execution_count": 129,
     "metadata": {},
     "output_type": "execute_result"
    }
   ],
   "source": [
    "tree_random.best_params_"
   ]
  },
  {
   "cell_type": "code",
   "execution_count": 130,
   "metadata": {},
   "outputs": [
    {
     "name": "stdout",
     "output_type": "stream",
     "text": [
      "Model Performance\n",
      "Accuracy = 0.75%.\n"
     ]
    }
   ],
   "source": [
    "def evaluate(model, test_features, test_labels):\n",
    "    predictions = model.predict(test_features)\n",
    "    accuracy = metrics.accuracy_score(test_labels, predictions)\n",
    "    print('Model Performance')\n",
    "    print('Accuracy = {:0.2f}%.'.format(accuracy))\n",
    "    return accuracy\n",
    "\n",
    "base_model = DecisionTreeClassifier(random_state = 42)\n",
    "base_model.fit(inputs_train, expected_output_train)\n",
    "base_accuracy = evaluate(base_model, inputs_test, expected_output_test)"
   ]
  },
  {
   "cell_type": "code",
   "execution_count": null,
   "metadata": {},
   "outputs": [],
   "source": [
    "df_cnt_events.columns"
   ]
  },
  {
   "cell_type": "markdown",
   "metadata": {},
   "source": [
    "**An attempt to isolate the rule for product-qualified lead based on important event**"
   ]
  },
  {
   "cell_type": "code",
   "execution_count": 176,
   "metadata": {},
   "outputs": [],
   "source": [
    "pql = ((df_cnt_events['edit_title__click (taskview)']>=1)&\n",
    "    ((df_cnt_events['add_assignee__click (taskview)']>=1)|(df_cnt_events['comment__sent (comment_field)']>=1))&\n",
    "    (df_cnt_events['new_task__created (task_list)']>=1)&(df_cnt_events['avg_active_users_view']>=2))"
   ]
  },
  {
   "cell_type": "code",
   "execution_count": 184,
   "metadata": {},
   "outputs": [],
   "source": [
    "pql2 = ((df_cnt_events['edit_title__click (taskview)']>=1)|\n",
    "    (df_cnt_events['add_assignee__click (taskview)']>=1)|(df_cnt_events['comment__sent (comment_field)']>=1)|\n",
    "    (df_cnt_events['new_task__created (task_list)']>=1))&(df_cnt_events['avg_active_users_view']>=2)"
   ]
  },
  {
   "cell_type": "code",
   "execution_count": 177,
   "metadata": {},
   "outputs": [
    {
     "data": {
      "text/plain": [
       "0    683\n",
       "1    423\n",
       "Name: pql, dtype: int64"
      ]
     },
     "execution_count": 177,
     "metadata": {},
     "output_type": "execute_result"
    }
   ],
   "source": [
    "df_cnt_events['pql'] = np.where(pql, 1, 0)\n",
    "df_cnt_events['pql'].value_counts()"
   ]
  },
  {
   "cell_type": "code",
   "execution_count": 185,
   "metadata": {},
   "outputs": [
    {
     "data": {
      "text/plain": [
       "1    937\n",
       "0    169\n",
       "Name: pql2, dtype: int64"
      ]
     },
     "execution_count": 185,
     "metadata": {},
     "output_type": "execute_result"
    }
   ],
   "source": [
    "df_cnt_events['pql2'] = np.where(pql2, 1, 0)\n",
    "df_cnt_events['pql2'].value_counts()"
   ]
  },
  {
   "cell_type": "code",
   "execution_count": 178,
   "metadata": {},
   "outputs": [
    {
     "data": {
      "text/plain": [
       "array([[326, 217],\n",
       "       [ 97, 466]])"
      ]
     },
     "execution_count": 178,
     "metadata": {},
     "output_type": "execute_result"
    }
   ],
   "source": [
    "C = confusion_matrix(df_cnt_events['is_retained_long'], df_cnt_events['pql'],labels=[1, 0])\n",
    "C"
   ]
  },
  {
   "cell_type": "code",
   "execution_count": 186,
   "metadata": {},
   "outputs": [
    {
     "data": {
      "text/plain": [
       "array([[523,  20],\n",
       "       [414, 149]])"
      ]
     },
     "execution_count": 186,
     "metadata": {},
     "output_type": "execute_result"
    }
   ],
   "source": [
    "C = confusion_matrix(df_cnt_events['is_retained_long'], df_cnt_events['pql2'],labels=[1, 0])\n",
    "C"
   ]
  },
  {
   "cell_type": "code",
   "execution_count": 183,
   "metadata": {},
   "outputs": [
    {
     "data": {
      "text/plain": [
       "array([[60. , 40. ],\n",
       "       [17.2, 82.8]])"
      ]
     },
     "execution_count": 183,
     "metadata": {},
     "output_type": "execute_result"
    }
   ],
   "source": [
    "n_C = C*100 / C.astype(np.float).sum(axis=1, keepdims=True)\n",
    "n_C.round(1)"
   ]
  },
  {
   "cell_type": "code",
   "execution_count": 175,
   "metadata": {},
   "outputs": [
    {
     "data": {
      "text/plain": [
       "array([543., 563.])"
      ]
     },
     "execution_count": 175,
     "metadata": {},
     "output_type": "execute_result"
    }
   ],
   "source": [
    "C.astype(np.float).sum(axis=1)"
   ]
  }
 ],
 "metadata": {
  "kernelspec": {
   "display_name": "Python 3",
   "language": "python",
   "name": "python3"
  },
  "language_info": {
   "codemirror_mode": {
    "name": "ipython",
    "version": 3
   },
   "file_extension": ".py",
   "mimetype": "text/x-python",
   "name": "python",
   "nbconvert_exporter": "python",
   "pygments_lexer": "ipython3",
   "version": "3.8.6"
  }
 },
 "nbformat": 4,
 "nbformat_minor": 4
}
